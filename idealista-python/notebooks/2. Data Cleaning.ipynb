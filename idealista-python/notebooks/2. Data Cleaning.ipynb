{
 "cells": [
  {
   "cell_type": "markdown",
   "metadata": {},
   "source": [
    "# Clean the data\n",
    "\n",
    "Now that we know the basic structure of our data, we have to clean it, so we can use it for other purposes such as analysis or even predictive tasks.\n",
    "\n",
    "In this notebook we cover a basic data cleaning pipeline where we are going to deal with different problems:\n",
    "\n",
    "- Joining the different data files: We need to join all the files in a single csv so the posterior analysis is simpler.\n",
    "- Removing NaNs columns: Having a lot of data is nice, but usually, dealing with those large amounts of records also generates inconsistent data. Removing the NaN values we will improve the data consistency and hence the data value."
   ]
  },
  {
   "cell_type": "code",
   "execution_count": 1,
   "metadata": {},
   "outputs": [],
   "source": [
    "import json\n",
    "import requests\n",
    "from pathlib import Path\n",
    "\n",
    "import pandas as pd\n",
    "from PIL import Image\n",
    "import matplotlib.pyplot as plt"
   ]
  },
  {
   "cell_type": "code",
   "execution_count": 2,
   "metadata": {},
   "outputs": [],
   "source": [
    "DATA_PATH = Path('../data/raw/')"
   ]
  },
  {
   "cell_type": "markdown",
   "metadata": {},
   "source": [
    "## Joining the data\n",
    "\n",
    "First of all, we need to know which files will be merged into the same DataFrame."
   ]
  },
  {
   "cell_type": "code",
   "execution_count": 3,
   "metadata": {},
   "outputs": [
    {
     "data": {
      "text/plain": [
       "[WindowsPath('../data/raw/Badalona_rent.json'),\n",
       " WindowsPath('../data/raw/Barna_rent.json'),\n",
       " WindowsPath('../data/raw/Bilbao_rent.json'),\n",
       " WindowsPath('../data/raw/Caceres_rent.json'),\n",
       " WindowsPath('../data/raw/Cadiz_rent.json'),\n",
       " WindowsPath('../data/raw/Canarias_rent.json'),\n",
       " WindowsPath('../data/raw/Cartagena_rent.json'),\n",
       " WindowsPath('../data/raw/Ceuta_rent.json'),\n",
       " WindowsPath('../data/raw/Coruña_rent.json'),\n",
       " WindowsPath('../data/raw/Girona_rent.json'),\n",
       " WindowsPath('../data/raw/Granada_rent.json'),\n",
       " WindowsPath('../data/raw/Grancanaria_rent.json'),\n",
       " WindowsPath('../data/raw/Lleida_rent.json'),\n",
       " WindowsPath('../data/raw/Madrid_rent.json'),\n",
       " WindowsPath('../data/raw/Malaga_rent.json'),\n",
       " WindowsPath('../data/raw/Mallorca_rent.json'),\n",
       " WindowsPath('../data/raw/Melilla_rent.json'),\n",
       " WindowsPath('../data/raw/Navarra_rent.json'),\n",
       " WindowsPath('../data/raw/Ourense_rent.json'),\n",
       " WindowsPath('../data/raw/Oviedo_rent.json'),\n",
       " WindowsPath('../data/raw/Sevilla_rent.json'),\n",
       " WindowsPath('../data/raw/Soria_rent.json'),\n",
       " WindowsPath('../data/raw/Tarragona_rent.json'),\n",
       " WindowsPath('../data/raw/Tenerife_rent.json'),\n",
       " WindowsPath('../data/raw/Terrassa_rent.json'),\n",
       " WindowsPath('../data/raw/Teruel_rent.json'),\n",
       " WindowsPath('../data/raw/Valencia_rent.json'),\n",
       " WindowsPath('../data/raw/Valladolid_rent.json'),\n",
       " WindowsPath('../data/raw/Vigo_rent.json'),\n",
       " WindowsPath('../data/raw/Zaragoza_rent.json')]"
      ]
     },
     "execution_count": 3,
     "metadata": {},
     "output_type": "execute_result"
    }
   ],
   "source": [
    "list(DATA_PATH.glob('*.json'))"
   ]
  },
  {
   "cell_type": "markdown",
   "metadata": {},
   "source": [
    "Then, we will merge the data into a unique DataFrame because we know that all these data have the same json format."
   ]
  },
  {
   "cell_type": "code",
   "execution_count": 4,
   "metadata": {},
   "outputs": [
    {
     "data": {
      "text/html": [
       "<div>\n",
       "<style scoped>\n",
       "    .dataframe tbody tr th:only-of-type {\n",
       "        vertical-align: middle;\n",
       "    }\n",
       "\n",
       "    .dataframe tbody tr th {\n",
       "        vertical-align: top;\n",
       "    }\n",
       "\n",
       "    .dataframe thead th {\n",
       "        text-align: right;\n",
       "    }\n",
       "</style>\n",
       "<table border=\"1\" class=\"dataframe\">\n",
       "  <thead>\n",
       "    <tr style=\"text-align: right;\">\n",
       "      <th></th>\n",
       "      <th>propertyCode</th>\n",
       "      <th>thumbnail</th>\n",
       "      <th>externalReference</th>\n",
       "      <th>numPhotos</th>\n",
       "      <th>floor</th>\n",
       "      <th>price</th>\n",
       "      <th>propertyType</th>\n",
       "      <th>operation</th>\n",
       "      <th>size</th>\n",
       "      <th>exterior</th>\n",
       "      <th>...</th>\n",
       "      <th>has360</th>\n",
       "      <th>topNewDevelopment</th>\n",
       "      <th>detailedType_typology</th>\n",
       "      <th>suggestedTexts_subtitle</th>\n",
       "      <th>suggestedTexts_title</th>\n",
       "      <th>parkingSpace_hasParkingSpace</th>\n",
       "      <th>parkingSpace_isParkingSpaceIncludedInPrice</th>\n",
       "      <th>detailedType_subTypology</th>\n",
       "      <th>parkingSpace_parkingSpacePrice</th>\n",
       "      <th>newDevelopmentFinished</th>\n",
       "    </tr>\n",
       "  </thead>\n",
       "  <tbody>\n",
       "    <tr>\n",
       "      <th>0</th>\n",
       "      <td>30069200</td>\n",
       "      <td>https://img3.idealista.com/blur/WEB_LISTING/0/...</td>\n",
       "      <td>02457</td>\n",
       "      <td>27</td>\n",
       "      <td>7</td>\n",
       "      <td>700.0</td>\n",
       "      <td>flat</td>\n",
       "      <td>rent</td>\n",
       "      <td>120.0</td>\n",
       "      <td>True</td>\n",
       "      <td>...</td>\n",
       "      <td>False</td>\n",
       "      <td>False</td>\n",
       "      <td>flat</td>\n",
       "      <td>Ca n'Aurell, Terrassa</td>\n",
       "      <td>Piso</td>\n",
       "      <td>NaN</td>\n",
       "      <td>NaN</td>\n",
       "      <td>NaN</td>\n",
       "      <td>NaN</td>\n",
       "      <td>NaN</td>\n",
       "    </tr>\n",
       "    <tr>\n",
       "      <th>1</th>\n",
       "      <td>90146961</td>\n",
       "      <td>https://img3.idealista.com/blur/WEB_LISTING/0/...</td>\n",
       "      <td>alq-guardia</td>\n",
       "      <td>25</td>\n",
       "      <td>1</td>\n",
       "      <td>1100.0</td>\n",
       "      <td>flat</td>\n",
       "      <td>rent</td>\n",
       "      <td>70.0</td>\n",
       "      <td>True</td>\n",
       "      <td>...</td>\n",
       "      <td>False</td>\n",
       "      <td>False</td>\n",
       "      <td>flat</td>\n",
       "      <td>El Raval, Barcelona</td>\n",
       "      <td>Piso en Calle de guardia</td>\n",
       "      <td>NaN</td>\n",
       "      <td>NaN</td>\n",
       "      <td>NaN</td>\n",
       "      <td>NaN</td>\n",
       "      <td>NaN</td>\n",
       "    </tr>\n",
       "    <tr>\n",
       "      <th>2</th>\n",
       "      <td>90146922</td>\n",
       "      <td>https://img3.idealista.com/blur/WEB_LISTING/0/...</td>\n",
       "      <td>91164</td>\n",
       "      <td>15</td>\n",
       "      <td>1</td>\n",
       "      <td>1050.0</td>\n",
       "      <td>flat</td>\n",
       "      <td>rent</td>\n",
       "      <td>60.0</td>\n",
       "      <td>True</td>\n",
       "      <td>...</td>\n",
       "      <td>False</td>\n",
       "      <td>False</td>\n",
       "      <td>flat</td>\n",
       "      <td>La Sagrada Família, Barcelona</td>\n",
       "      <td>Piso</td>\n",
       "      <td>NaN</td>\n",
       "      <td>NaN</td>\n",
       "      <td>NaN</td>\n",
       "      <td>NaN</td>\n",
       "      <td>NaN</td>\n",
       "    </tr>\n",
       "    <tr>\n",
       "      <th>3</th>\n",
       "      <td>81954130</td>\n",
       "      <td>https://img3.idealista.com/blur/WEB_LISTING/0/...</td>\n",
       "      <td>m900</td>\n",
       "      <td>19</td>\n",
       "      <td>7</td>\n",
       "      <td>900.0</td>\n",
       "      <td>flat</td>\n",
       "      <td>rent</td>\n",
       "      <td>57.0</td>\n",
       "      <td>True</td>\n",
       "      <td>...</td>\n",
       "      <td>False</td>\n",
       "      <td>False</td>\n",
       "      <td>flat</td>\n",
       "      <td>El Besòs, Barcelona</td>\n",
       "      <td>Piso</td>\n",
       "      <td>NaN</td>\n",
       "      <td>NaN</td>\n",
       "      <td>NaN</td>\n",
       "      <td>NaN</td>\n",
       "      <td>NaN</td>\n",
       "    </tr>\n",
       "    <tr>\n",
       "      <th>4</th>\n",
       "      <td>90146912</td>\n",
       "      <td>https://img3.idealista.com/blur/WEB_LISTING/0/...</td>\n",
       "      <td>roger de flor</td>\n",
       "      <td>18</td>\n",
       "      <td>2</td>\n",
       "      <td>1250.0</td>\n",
       "      <td>flat</td>\n",
       "      <td>rent</td>\n",
       "      <td>80.0</td>\n",
       "      <td>True</td>\n",
       "      <td>...</td>\n",
       "      <td>False</td>\n",
       "      <td>False</td>\n",
       "      <td>flat</td>\n",
       "      <td>El Camp d'En Grassot i Gràcia Nova, Barcelona</td>\n",
       "      <td>Piso en Roger de Flor</td>\n",
       "      <td>True</td>\n",
       "      <td>True</td>\n",
       "      <td>NaN</td>\n",
       "      <td>NaN</td>\n",
       "      <td>NaN</td>\n",
       "    </tr>\n",
       "  </tbody>\n",
       "</table>\n",
       "<p>5 rows × 40 columns</p>\n",
       "</div>"
      ],
      "text/plain": [
       "  propertyCode                                          thumbnail  \\\n",
       "0     30069200  https://img3.idealista.com/blur/WEB_LISTING/0/...   \n",
       "1     90146961  https://img3.idealista.com/blur/WEB_LISTING/0/...   \n",
       "2     90146922  https://img3.idealista.com/blur/WEB_LISTING/0/...   \n",
       "3     81954130  https://img3.idealista.com/blur/WEB_LISTING/0/...   \n",
       "4     90146912  https://img3.idealista.com/blur/WEB_LISTING/0/...   \n",
       "\n",
       "  externalReference  numPhotos floor   price propertyType operation   size  \\\n",
       "0             02457         27     7   700.0         flat      rent  120.0   \n",
       "1       alq-guardia         25     1  1100.0         flat      rent   70.0   \n",
       "2             91164         15     1  1050.0         flat      rent   60.0   \n",
       "3              m900         19     7   900.0         flat      rent   57.0   \n",
       "4     roger de flor         18     2  1250.0         flat      rent   80.0   \n",
       "\n",
       "   exterior  ...  has360  topNewDevelopment detailedType_typology  \\\n",
       "0      True  ...   False              False                  flat   \n",
       "1      True  ...   False              False                  flat   \n",
       "2      True  ...   False              False                  flat   \n",
       "3      True  ...   False              False                  flat   \n",
       "4      True  ...   False              False                  flat   \n",
       "\n",
       "                         suggestedTexts_subtitle      suggestedTexts_title  \\\n",
       "0                          Ca n'Aurell, Terrassa                      Piso   \n",
       "1                            El Raval, Barcelona  Piso en Calle de guardia   \n",
       "2                  La Sagrada Família, Barcelona                      Piso   \n",
       "3                            El Besòs, Barcelona                      Piso   \n",
       "4  El Camp d'En Grassot i Gràcia Nova, Barcelona     Piso en Roger de Flor   \n",
       "\n",
       "  parkingSpace_hasParkingSpace parkingSpace_isParkingSpaceIncludedInPrice  \\\n",
       "0                          NaN                                        NaN   \n",
       "1                          NaN                                        NaN   \n",
       "2                          NaN                                        NaN   \n",
       "3                          NaN                                        NaN   \n",
       "4                         True                                       True   \n",
       "\n",
       "  detailedType_subTypology  parkingSpace_parkingSpacePrice  \\\n",
       "0                      NaN                             NaN   \n",
       "1                      NaN                             NaN   \n",
       "2                      NaN                             NaN   \n",
       "3                      NaN                             NaN   \n",
       "4                      NaN                             NaN   \n",
       "\n",
       "   newDevelopmentFinished  \n",
       "0                     NaN  \n",
       "1                     NaN  \n",
       "2                     NaN  \n",
       "3                     NaN  \n",
       "4                     NaN  \n",
       "\n",
       "[5 rows x 40 columns]"
      ]
     },
     "execution_count": 4,
     "metadata": {},
     "output_type": "execute_result"
    }
   ],
   "source": [
    "df = pd.DataFrame()\n",
    "\n",
    "for f in DATA_PATH.glob('*.json'):\n",
    "    jdata = json.load(f.open())\n",
    "    current_df = pd.json_normalize(jdata, sep='_')\n",
    "    df = df.append(current_df)\n",
    "\n",
    "df.head()"
   ]
  },
  {
   "cell_type": "markdown",
   "metadata": {},
   "source": [
    "**Note:** as we were appending the multiple data frames, we were generating a new `spain_state` column. This will be pretty handy later because we are going to perform statistics regarding the flats' state.\n",
    "\n",
    "As we can see in the previous table, each line might contain some NaN values, it could be produced because one flat doesn't have a parking space or something like that."
   ]
  },
  {
   "cell_type": "code",
   "execution_count": 5,
   "metadata": {
    "tags": []
   },
   "outputs": [
    {
     "name": "stdout",
     "output_type": "stream",
     "text": [
      "Rows containing NaN: 31609\n"
     ]
    }
   ],
   "source": [
    "print('Rows containing NaN:', df.isna().any(axis=1).sum())"
   ]
  },
  {
   "cell_type": "markdown",
   "metadata": {},
   "source": [
    "## Removing NaNs"
   ]
  },
  {
   "cell_type": "markdown",
   "metadata": {},
   "source": [
    "To start removing NaNs values is always a good idea to know which columns contain those undesired values.\n",
    "\n",
    "The following code indicates which columns contain NaNs."
   ]
  },
  {
   "cell_type": "code",
   "execution_count": 6,
   "metadata": {},
   "outputs": [
    {
     "data": {
      "text/plain": [
       "propertyCode                                  False\n",
       "thumbnail                                      True\n",
       "externalReference                              True\n",
       "numPhotos                                     False\n",
       "floor                                          True\n",
       "price                                         False\n",
       "propertyType                                  False\n",
       "operation                                     False\n",
       "size                                          False\n",
       "exterior                                      False\n",
       "rooms                                         False\n",
       "bathrooms                                     False\n",
       "address                                       False\n",
       "province                                      False\n",
       "municipality                                  False\n",
       "district                                       True\n",
       "country                                       False\n",
       "neighborhood                                   True\n",
       "latitude                                      False\n",
       "longitude                                     False\n",
       "showAddress                                   False\n",
       "url                                           False\n",
       "distance                                      False\n",
       "hasVideo                                      False\n",
       "status                                         True\n",
       "newDevelopment                                False\n",
       "hasLift                                        True\n",
       "priceByArea                                   False\n",
       "hasPlan                                       False\n",
       "has3DTour                                     False\n",
       "has360                                        False\n",
       "topNewDevelopment                             False\n",
       "detailedType_typology                         False\n",
       "suggestedTexts_subtitle                       False\n",
       "suggestedTexts_title                          False\n",
       "parkingSpace_hasParkingSpace                   True\n",
       "parkingSpace_isParkingSpaceIncludedInPrice     True\n",
       "detailedType_subTypology                       True\n",
       "parkingSpace_parkingSpacePrice                 True\n",
       "newDevelopmentFinished                         True\n",
       "dtype: bool"
      ]
     },
     "execution_count": 6,
     "metadata": {},
     "output_type": "execute_result"
    }
   ],
   "source": [
    "df.isna().any(0)"
   ]
  },
  {
   "cell_type": "code",
   "execution_count": 7,
   "metadata": {
    "tags": []
   },
   "outputs": [
    {
     "name": "stdout",
     "output_type": "stream",
     "text": [
      "Number of columns that contain NaNs: 12\n"
     ]
    }
   ],
   "source": [
    "print('Number of columns that contain NaNs:', df.isna().any(0).sum())"
   ]
  },
  {
   "cell_type": "markdown",
   "metadata": {},
   "source": [
    "Only 12 columns out of 40 contain NaNs values.\n",
    "\n",
    "In the following subsections, we are going to treat the NaNs for each column and explaining why we decided to remove, replace, or keep the NaN values."
   ]
  },
  {
   "cell_type": "markdown",
   "metadata": {},
   "source": [
    "### Thumbnail NaNs\n",
    "\n",
    "Thumbnail is the photo that users see while they are scrolling a search on the idealista web page. Setting a good Thumbnail is determining success factors to rent or sell your announced flat, home, or whatever. Therefore few NaNs are expected on this column. "
   ]
  },
  {
   "cell_type": "code",
   "execution_count": 8,
   "metadata": {
    "tags": []
   },
   "outputs": [
    {
     "name": "stdout",
     "output_type": "stream",
     "text": [
      "Thumbnail NaNs are 168 out of 31609 rows\n"
     ]
    }
   ],
   "source": [
    "print(f'Thumbnail NaNs are {df.thumbnail.isna().sum()} out of {df.shape[0]} rows')"
   ]
  },
  {
   "cell_type": "markdown",
   "metadata": {},
   "source": [
    "As exected we have a small percentace of ads without thumbnail. We think that keeping the NaNs here is a good idea because, even though usually a flat without a cover image is not from a trustworthy person, we can not be certain of that and we would be discarting useful data.\n",
    "\n",
    "Instead of keeping the NaNs, we are going to change them with a \"no image\" url. This will simplify the posterior dataframe querying and avoid unecessary filters."
   ]
  },
  {
   "cell_type": "code",
   "execution_count": 9,
   "metadata": {},
   "outputs": [],
   "source": [
    "nan_thumbnail_mask = df.thumbnail.isna()\n",
    "df.loc[nan_thumbnail_mask, 'thumbnail'] = 'https://thumbs.dreamstime.com/b/no-image-available-icon-photo-camera-flat-vector-illustration-132483141.jpg'"
   ]
  },
  {
   "cell_type": "code",
   "execution_count": 10,
   "metadata": {},
   "outputs": [
    {
     "data": {
      "image/png": "[encoded data removed]",
      "text/plain": [
       "<PIL.Image.Image image mode=L size=128x128 at 0x286847DBA48>"
      ]
     },
     "execution_count": 10,
     "metadata": {},
     "output_type": "execute_result"
    }
   ],
   "source": [
    "def download_image(url):\n",
    "    return Image.open(requests.get(url, stream=True).raw)\n",
    "\n",
    "download_image(df[nan_thumbnail_mask]['thumbnail'].iloc[0]).resize((128, 128))"
   ]
  },
  {
   "cell_type": "markdown",
   "metadata": {},
   "source": [
    "### External Reference NaNs\n",
    "\n",
    "An external reference is equivalent to the cadastral reference. It is the official and obligatory identifier of the real estate. It consists of an alphanumeric code that is assigned by the cadastre so that every property must have a single cadastral reference that allows it to be placed unequivocally in the cadastral cartography. It is like the ID of that property."
   ]
  },
  {
   "cell_type": "code",
   "execution_count": 11,
   "metadata": {},
   "outputs": [
    {
     "data": {
      "text/plain": [
       "array(['02457', 'alq-guardia', '91164', ..., 'Prinalv', 'Z-02170-AG',\n",
       "       'A5333'], dtype=object)"
      ]
     },
     "execution_count": 11,
     "metadata": {},
     "output_type": "execute_result"
    }
   ],
   "source": [
    "df.externalReference.unique()"
   ]
  },
  {
   "cell_type": "code",
   "execution_count": 12,
   "metadata": {
    "tags": []
   },
   "outputs": [
    {
     "name": "stdout",
     "output_type": "stream",
     "text": [
      "External Reference NaNs are 5981 out of 31609 rows\n"
     ]
    }
   ],
   "source": [
    "print(f'External Reference NaNs are {df.externalReference.isna().sum()} out of {df.shape[0]} rows')"
   ]
  },
  {
   "cell_type": "markdown",
   "metadata": {},
   "source": [
    "Surprisingly, we have a lot of NaNs, around 20% of the rows contain a NaN. \n",
    "\n",
    "Actually, this column is not statistically meaningful and by now, a unique identifier does not provide any valuable insight.\n",
    "\n",
    "Therefore, we think that dropping this column is the best way to handle these NaNs."
   ]
  },
  {
   "cell_type": "code",
   "execution_count": 13,
   "metadata": {},
   "outputs": [],
   "source": [
    "df.drop('externalReference', axis='columns', inplace=True)"
   ]
  },
  {
   "cell_type": "markdown",
   "metadata": {},
   "source": [
    "In the future, in case we need more data, we can come back here and keep this column to perform web scrapping and retrieve more information."
   ]
  },
  {
   "cell_type": "markdown",
   "metadata": {},
   "source": [
    "### Floor NaNs\n",
    "\n",
    "The floor field determines on which floor is the flat or apartment located.\n",
    "\n",
    "We expect some NaNs because chalets and or houses do not have a \"floor\"."
   ]
  },
  {
   "cell_type": "code",
   "execution_count": 14,
   "metadata": {
    "tags": []
   },
   "outputs": [
    {
     "name": "stdout",
     "output_type": "stream",
     "text": [
      "Floor NaNs are 3397 out of 31609 rows\n"
     ]
    }
   ],
   "source": [
    "print(f'Floor NaNs are {df.floor.isna().sum()} out of {df.shape[0]} rows')"
   ]
  },
  {
   "cell_type": "code",
   "execution_count": 15,
   "metadata": {},
   "outputs": [
    {
     "data": {
      "text/plain": [
       "flat            25650\n",
       "chalet           2438\n",
       "penthouse        1383\n",
       "studio           1305\n",
       "duplex            763\n",
       "countryHouse       70\n",
       "Name: propertyType, dtype: int64"
      ]
     },
     "execution_count": 15,
     "metadata": {},
     "output_type": "execute_result"
    }
   ],
   "source": [
    "df.propertyType.value_counts()"
   ]
  },
  {
   "cell_type": "code",
   "execution_count": 16,
   "metadata": {
    "tags": []
   },
   "outputs": [
    {
     "name": "stdout",
     "output_type": "stream",
     "text": [
      "Property type flat has 984 floor NaN, which represents a 3%\n",
      "Property type penthouse has 77 floor NaN, which represents a 5%\n",
      "Property type studio has 35 floor NaN, which represents a 2%\n",
      "Property type duplex has 34 floor NaN, which represents a 4%\n",
      "Property type chalet has 2217 floor NaN, which represents a 90%\n",
      "Property type countryHouse has 50 floor NaN, which represents a 71%\n"
     ]
    }
   ],
   "source": [
    "for pt in df.propertyType.unique():\n",
    "    pt_nan = df[df.propertyType == pt].floor.isna().sum()\n",
    "    percentage = float(pt_nan) / df[df.propertyType == pt].shape[0]\n",
    "    print(f'Property type {pt} has {pt_nan} floor NaN, '\n",
    "          f'which represents a {int(percentage * 100)}%')"
   ]
  },
  {
   "cell_type": "code",
   "execution_count": 17,
   "metadata": {
    "tags": []
   },
   "outputs": [
    {
     "data": {
      "image/png": "[encoded data removed]",
      "text/plain": [
       "<Figure size 720x720 with 6 Axes>"
      ]
     },
     "metadata": {},
     "output_type": "display_data"
    }
   ],
   "source": [
    "plt.figure(figsize=(10, 10))\n",
    "for i, pt in enumerate(df.propertyType.unique(), start=1):\n",
    "    plt.subplot(3, 2, i)\n",
    "    pt_nan = df[df.propertyType == pt].floor.isna().sum()\n",
    "    percentage = float(pt_nan) / df[df.propertyType == pt].shape[0]\n",
    "    plt.pie([percentage, 1 - percentage], \n",
    "            labels=['NaN', 'No NaN'])\n",
    "    plt.title(pt)\n",
    "plt.show()"
   ]
  },
  {
   "cell_type": "markdown",
   "metadata": {},
   "source": [
    "As expected, for Chalets and Country Houses we have a lot of NaNs, meaning that they are at the \"ground\".\n",
    "\n",
    "For Country Houses we expect that all are at `bj`, therefore, in this case, we fill the NaNs with bj"
   ]
  },
  {
   "cell_type": "code",
   "execution_count": 18,
   "metadata": {},
   "outputs": [],
   "source": [
    "df.loc[(df.propertyType == 'countryHouse') & df.floor.isna(), 'floor'] = 'bj'"
   ]
  },
  {
   "cell_type": "markdown",
   "metadata": {},
   "source": [
    "The same happens for chalets"
   ]
  },
  {
   "cell_type": "code",
   "execution_count": 19,
   "metadata": {},
   "outputs": [],
   "source": [
    "df.loc[(df.propertyType == 'chalet') & df.floor.isna(), 'floor'] = 'bj'"
   ]
  },
  {
   "cell_type": "markdown",
   "metadata": {},
   "source": [
    "On the other hand, for the remaining property types, we should not have NaNs because a floor seems mandatory. to avoid removing data records, we keep these NaNs, but renaming them to `unknown` because the flat has actually a floor but it is unknown for the people who are visiting the Idealista page."
   ]
  },
  {
   "cell_type": "code",
   "execution_count": 20,
   "metadata": {},
   "outputs": [],
   "source": [
    "df['floor'].fillna('unknown', inplace=True)"
   ]
  },
  {
   "cell_type": "markdown",
   "metadata": {},
   "source": [
    "### District NaNs\n",
    "\n",
    "In order to fill the gaps in the DataFrame that no data appear in district columns, we have determined that changing the value of NaN to a blank space ' ', would be a better option than removing the lines in which no district appears."
   ]
  },
  {
   "cell_type": "code",
   "execution_count": 21,
   "metadata": {},
   "outputs": [],
   "source": [
    "df[~df.district.isna()].iloc[0].values\n",
    "df['district'].fillna('', inplace=True)"
   ]
  },
  {
   "cell_type": "markdown",
   "metadata": {},
   "source": [
    "### HasParkingSpace NaNs\n",
    "\n",
    "To solve this problem we choose the replacement of each NaN value to a Boolean value, to be more exact `False` value."
   ]
  },
  {
   "cell_type": "code",
   "execution_count": 22,
   "metadata": {},
   "outputs": [
    {
     "data": {
      "text/html": [
       "<div>\n",
       "<style scoped>\n",
       "    .dataframe tbody tr th:only-of-type {\n",
       "        vertical-align: middle;\n",
       "    }\n",
       "\n",
       "    .dataframe tbody tr th {\n",
       "        vertical-align: top;\n",
       "    }\n",
       "\n",
       "    .dataframe thead th {\n",
       "        text-align: right;\n",
       "    }\n",
       "</style>\n",
       "<table border=\"1\" class=\"dataframe\">\n",
       "  <thead>\n",
       "    <tr style=\"text-align: right;\">\n",
       "      <th></th>\n",
       "      <th>propertyCode</th>\n",
       "      <th>thumbnail</th>\n",
       "      <th>numPhotos</th>\n",
       "      <th>floor</th>\n",
       "      <th>price</th>\n",
       "      <th>propertyType</th>\n",
       "      <th>operation</th>\n",
       "      <th>size</th>\n",
       "      <th>exterior</th>\n",
       "      <th>rooms</th>\n",
       "      <th>...</th>\n",
       "      <th>has360</th>\n",
       "      <th>topNewDevelopment</th>\n",
       "      <th>detailedType_typology</th>\n",
       "      <th>suggestedTexts_subtitle</th>\n",
       "      <th>suggestedTexts_title</th>\n",
       "      <th>parkingSpace_hasParkingSpace</th>\n",
       "      <th>parkingSpace_isParkingSpaceIncludedInPrice</th>\n",
       "      <th>detailedType_subTypology</th>\n",
       "      <th>parkingSpace_parkingSpacePrice</th>\n",
       "      <th>newDevelopmentFinished</th>\n",
       "    </tr>\n",
       "  </thead>\n",
       "  <tbody>\n",
       "    <tr>\n",
       "      <th>0</th>\n",
       "      <td>30069200</td>\n",
       "      <td>https://img3.idealista.com/blur/WEB_LISTING/0/...</td>\n",
       "      <td>27</td>\n",
       "      <td>7</td>\n",
       "      <td>700.0</td>\n",
       "      <td>flat</td>\n",
       "      <td>rent</td>\n",
       "      <td>120.0</td>\n",
       "      <td>True</td>\n",
       "      <td>4</td>\n",
       "      <td>...</td>\n",
       "      <td>False</td>\n",
       "      <td>False</td>\n",
       "      <td>flat</td>\n",
       "      <td>Ca n'Aurell, Terrassa</td>\n",
       "      <td>Piso</td>\n",
       "      <td>False</td>\n",
       "      <td>NaN</td>\n",
       "      <td>NaN</td>\n",
       "      <td>NaN</td>\n",
       "      <td>NaN</td>\n",
       "    </tr>\n",
       "    <tr>\n",
       "      <th>1</th>\n",
       "      <td>90146961</td>\n",
       "      <td>https://img3.idealista.com/blur/WEB_LISTING/0/...</td>\n",
       "      <td>25</td>\n",
       "      <td>1</td>\n",
       "      <td>1100.0</td>\n",
       "      <td>flat</td>\n",
       "      <td>rent</td>\n",
       "      <td>70.0</td>\n",
       "      <td>True</td>\n",
       "      <td>2</td>\n",
       "      <td>...</td>\n",
       "      <td>False</td>\n",
       "      <td>False</td>\n",
       "      <td>flat</td>\n",
       "      <td>El Raval, Barcelona</td>\n",
       "      <td>Piso en Calle de guardia</td>\n",
       "      <td>False</td>\n",
       "      <td>NaN</td>\n",
       "      <td>NaN</td>\n",
       "      <td>NaN</td>\n",
       "      <td>NaN</td>\n",
       "    </tr>\n",
       "    <tr>\n",
       "      <th>2</th>\n",
       "      <td>90146922</td>\n",
       "      <td>https://img3.idealista.com/blur/WEB_LISTING/0/...</td>\n",
       "      <td>15</td>\n",
       "      <td>1</td>\n",
       "      <td>1050.0</td>\n",
       "      <td>flat</td>\n",
       "      <td>rent</td>\n",
       "      <td>60.0</td>\n",
       "      <td>True</td>\n",
       "      <td>2</td>\n",
       "      <td>...</td>\n",
       "      <td>False</td>\n",
       "      <td>False</td>\n",
       "      <td>flat</td>\n",
       "      <td>La Sagrada Família, Barcelona</td>\n",
       "      <td>Piso</td>\n",
       "      <td>False</td>\n",
       "      <td>NaN</td>\n",
       "      <td>NaN</td>\n",
       "      <td>NaN</td>\n",
       "      <td>NaN</td>\n",
       "    </tr>\n",
       "    <tr>\n",
       "      <th>3</th>\n",
       "      <td>81954130</td>\n",
       "      <td>https://img3.idealista.com/blur/WEB_LISTING/0/...</td>\n",
       "      <td>19</td>\n",
       "      <td>7</td>\n",
       "      <td>900.0</td>\n",
       "      <td>flat</td>\n",
       "      <td>rent</td>\n",
       "      <td>57.0</td>\n",
       "      <td>True</td>\n",
       "      <td>3</td>\n",
       "      <td>...</td>\n",
       "      <td>False</td>\n",
       "      <td>False</td>\n",
       "      <td>flat</td>\n",
       "      <td>El Besòs, Barcelona</td>\n",
       "      <td>Piso</td>\n",
       "      <td>False</td>\n",
       "      <td>NaN</td>\n",
       "      <td>NaN</td>\n",
       "      <td>NaN</td>\n",
       "      <td>NaN</td>\n",
       "    </tr>\n",
       "    <tr>\n",
       "      <th>4</th>\n",
       "      <td>90146912</td>\n",
       "      <td>https://img3.idealista.com/blur/WEB_LISTING/0/...</td>\n",
       "      <td>18</td>\n",
       "      <td>2</td>\n",
       "      <td>1250.0</td>\n",
       "      <td>flat</td>\n",
       "      <td>rent</td>\n",
       "      <td>80.0</td>\n",
       "      <td>True</td>\n",
       "      <td>3</td>\n",
       "      <td>...</td>\n",
       "      <td>False</td>\n",
       "      <td>False</td>\n",
       "      <td>flat</td>\n",
       "      <td>El Camp d'En Grassot i Gràcia Nova, Barcelona</td>\n",
       "      <td>Piso en Roger de Flor</td>\n",
       "      <td>True</td>\n",
       "      <td>True</td>\n",
       "      <td>NaN</td>\n",
       "      <td>NaN</td>\n",
       "      <td>NaN</td>\n",
       "    </tr>\n",
       "  </tbody>\n",
       "</table>\n",
       "<p>5 rows × 39 columns</p>\n",
       "</div>"
      ],
      "text/plain": [
       "  propertyCode                                          thumbnail  numPhotos  \\\n",
       "0     30069200  https://img3.idealista.com/blur/WEB_LISTING/0/...         27   \n",
       "1     90146961  https://img3.idealista.com/blur/WEB_LISTING/0/...         25   \n",
       "2     90146922  https://img3.idealista.com/blur/WEB_LISTING/0/...         15   \n",
       "3     81954130  https://img3.idealista.com/blur/WEB_LISTING/0/...         19   \n",
       "4     90146912  https://img3.idealista.com/blur/WEB_LISTING/0/...         18   \n",
       "\n",
       "  floor   price propertyType operation   size  exterior  rooms  ...  has360  \\\n",
       "0     7   700.0         flat      rent  120.0      True      4  ...   False   \n",
       "1     1  1100.0         flat      rent   70.0      True      2  ...   False   \n",
       "2     1  1050.0         flat      rent   60.0      True      2  ...   False   \n",
       "3     7   900.0         flat      rent   57.0      True      3  ...   False   \n",
       "4     2  1250.0         flat      rent   80.0      True      3  ...   False   \n",
       "\n",
       "  topNewDevelopment detailedType_typology  \\\n",
       "0             False                  flat   \n",
       "1             False                  flat   \n",
       "2             False                  flat   \n",
       "3             False                  flat   \n",
       "4             False                  flat   \n",
       "\n",
       "                         suggestedTexts_subtitle      suggestedTexts_title  \\\n",
       "0                          Ca n'Aurell, Terrassa                      Piso   \n",
       "1                            El Raval, Barcelona  Piso en Calle de guardia   \n",
       "2                  La Sagrada Família, Barcelona                      Piso   \n",
       "3                            El Besòs, Barcelona                      Piso   \n",
       "4  El Camp d'En Grassot i Gràcia Nova, Barcelona     Piso en Roger de Flor   \n",
       "\n",
       "  parkingSpace_hasParkingSpace parkingSpace_isParkingSpaceIncludedInPrice  \\\n",
       "0                        False                                        NaN   \n",
       "1                        False                                        NaN   \n",
       "2                        False                                        NaN   \n",
       "3                        False                                        NaN   \n",
       "4                         True                                       True   \n",
       "\n",
       "   detailedType_subTypology  parkingSpace_parkingSpacePrice  \\\n",
       "0                       NaN                             NaN   \n",
       "1                       NaN                             NaN   \n",
       "2                       NaN                             NaN   \n",
       "3                       NaN                             NaN   \n",
       "4                       NaN                             NaN   \n",
       "\n",
       "   newDevelopmentFinished  \n",
       "0                     NaN  \n",
       "1                     NaN  \n",
       "2                     NaN  \n",
       "3                     NaN  \n",
       "4                     NaN  \n",
       "\n",
       "[5 rows x 39 columns]"
      ]
     },
     "execution_count": 22,
     "metadata": {},
     "output_type": "execute_result"
    }
   ],
   "source": [
    "df['parkingSpace_hasParkingSpace'].fillna(False, inplace=True)\n",
    "df.head()"
   ]
  },
  {
   "cell_type": "markdown",
   "metadata": {},
   "source": [
    "Also, each NaN value in `isParkingSpaceIncludedInPrice` has been taken into account when the flat has parking space. We decided to put each NaN value to 0.0, it doesn't matter if the parking price is included in the general price of the flat. "
   ]
  },
  {
   "cell_type": "code",
   "execution_count": 23,
   "metadata": {
    "tags": []
   },
   "outputs": [
    {
     "data": {
      "text/html": [
       "<div>\n",
       "<style scoped>\n",
       "    .dataframe tbody tr th:only-of-type {\n",
       "        vertical-align: middle;\n",
       "    }\n",
       "\n",
       "    .dataframe tbody tr th {\n",
       "        vertical-align: top;\n",
       "    }\n",
       "\n",
       "    .dataframe thead th {\n",
       "        text-align: right;\n",
       "    }\n",
       "</style>\n",
       "<table border=\"1\" class=\"dataframe\">\n",
       "  <thead>\n",
       "    <tr style=\"text-align: right;\">\n",
       "      <th></th>\n",
       "      <th>propertyCode</th>\n",
       "      <th>thumbnail</th>\n",
       "      <th>numPhotos</th>\n",
       "      <th>floor</th>\n",
       "      <th>price</th>\n",
       "      <th>propertyType</th>\n",
       "      <th>operation</th>\n",
       "      <th>size</th>\n",
       "      <th>exterior</th>\n",
       "      <th>rooms</th>\n",
       "      <th>...</th>\n",
       "      <th>has360</th>\n",
       "      <th>topNewDevelopment</th>\n",
       "      <th>detailedType_typology</th>\n",
       "      <th>suggestedTexts_subtitle</th>\n",
       "      <th>suggestedTexts_title</th>\n",
       "      <th>parkingSpace_hasParkingSpace</th>\n",
       "      <th>parkingSpace_isParkingSpaceIncludedInPrice</th>\n",
       "      <th>detailedType_subTypology</th>\n",
       "      <th>parkingSpace_parkingSpacePrice</th>\n",
       "      <th>newDevelopmentFinished</th>\n",
       "    </tr>\n",
       "  </thead>\n",
       "  <tbody>\n",
       "    <tr>\n",
       "      <th>0</th>\n",
       "      <td>30069200</td>\n",
       "      <td>https://img3.idealista.com/blur/WEB_LISTING/0/...</td>\n",
       "      <td>27</td>\n",
       "      <td>7</td>\n",
       "      <td>700.0</td>\n",
       "      <td>flat</td>\n",
       "      <td>rent</td>\n",
       "      <td>120.0</td>\n",
       "      <td>True</td>\n",
       "      <td>4</td>\n",
       "      <td>...</td>\n",
       "      <td>False</td>\n",
       "      <td>False</td>\n",
       "      <td>flat</td>\n",
       "      <td>Ca n'Aurell, Terrassa</td>\n",
       "      <td>Piso</td>\n",
       "      <td>False</td>\n",
       "      <td>NaN</td>\n",
       "      <td>NaN</td>\n",
       "      <td>0.0</td>\n",
       "      <td>NaN</td>\n",
       "    </tr>\n",
       "    <tr>\n",
       "      <th>1</th>\n",
       "      <td>90146961</td>\n",
       "      <td>https://img3.idealista.com/blur/WEB_LISTING/0/...</td>\n",
       "      <td>25</td>\n",
       "      <td>1</td>\n",
       "      <td>1100.0</td>\n",
       "      <td>flat</td>\n",
       "      <td>rent</td>\n",
       "      <td>70.0</td>\n",
       "      <td>True</td>\n",
       "      <td>2</td>\n",
       "      <td>...</td>\n",
       "      <td>False</td>\n",
       "      <td>False</td>\n",
       "      <td>flat</td>\n",
       "      <td>El Raval, Barcelona</td>\n",
       "      <td>Piso en Calle de guardia</td>\n",
       "      <td>False</td>\n",
       "      <td>NaN</td>\n",
       "      <td>NaN</td>\n",
       "      <td>0.0</td>\n",
       "      <td>NaN</td>\n",
       "    </tr>\n",
       "    <tr>\n",
       "      <th>2</th>\n",
       "      <td>90146922</td>\n",
       "      <td>https://img3.idealista.com/blur/WEB_LISTING/0/...</td>\n",
       "      <td>15</td>\n",
       "      <td>1</td>\n",
       "      <td>1050.0</td>\n",
       "      <td>flat</td>\n",
       "      <td>rent</td>\n",
       "      <td>60.0</td>\n",
       "      <td>True</td>\n",
       "      <td>2</td>\n",
       "      <td>...</td>\n",
       "      <td>False</td>\n",
       "      <td>False</td>\n",
       "      <td>flat</td>\n",
       "      <td>La Sagrada Família, Barcelona</td>\n",
       "      <td>Piso</td>\n",
       "      <td>False</td>\n",
       "      <td>NaN</td>\n",
       "      <td>NaN</td>\n",
       "      <td>0.0</td>\n",
       "      <td>NaN</td>\n",
       "    </tr>\n",
       "    <tr>\n",
       "      <th>3</th>\n",
       "      <td>81954130</td>\n",
       "      <td>https://img3.idealista.com/blur/WEB_LISTING/0/...</td>\n",
       "      <td>19</td>\n",
       "      <td>7</td>\n",
       "      <td>900.0</td>\n",
       "      <td>flat</td>\n",
       "      <td>rent</td>\n",
       "      <td>57.0</td>\n",
       "      <td>True</td>\n",
       "      <td>3</td>\n",
       "      <td>...</td>\n",
       "      <td>False</td>\n",
       "      <td>False</td>\n",
       "      <td>flat</td>\n",
       "      <td>El Besòs, Barcelona</td>\n",
       "      <td>Piso</td>\n",
       "      <td>False</td>\n",
       "      <td>NaN</td>\n",
       "      <td>NaN</td>\n",
       "      <td>0.0</td>\n",
       "      <td>NaN</td>\n",
       "    </tr>\n",
       "    <tr>\n",
       "      <th>4</th>\n",
       "      <td>90146912</td>\n",
       "      <td>https://img3.idealista.com/blur/WEB_LISTING/0/...</td>\n",
       "      <td>18</td>\n",
       "      <td>2</td>\n",
       "      <td>1250.0</td>\n",
       "      <td>flat</td>\n",
       "      <td>rent</td>\n",
       "      <td>80.0</td>\n",
       "      <td>True</td>\n",
       "      <td>3</td>\n",
       "      <td>...</td>\n",
       "      <td>False</td>\n",
       "      <td>False</td>\n",
       "      <td>flat</td>\n",
       "      <td>El Camp d'En Grassot i Gràcia Nova, Barcelona</td>\n",
       "      <td>Piso en Roger de Flor</td>\n",
       "      <td>True</td>\n",
       "      <td>True</td>\n",
       "      <td>NaN</td>\n",
       "      <td>0.0</td>\n",
       "      <td>NaN</td>\n",
       "    </tr>\n",
       "  </tbody>\n",
       "</table>\n",
       "<p>5 rows × 39 columns</p>\n",
       "</div>"
      ],
      "text/plain": [
       "  propertyCode                                          thumbnail  numPhotos  \\\n",
       "0     30069200  https://img3.idealista.com/blur/WEB_LISTING/0/...         27   \n",
       "1     90146961  https://img3.idealista.com/blur/WEB_LISTING/0/...         25   \n",
       "2     90146922  https://img3.idealista.com/blur/WEB_LISTING/0/...         15   \n",
       "3     81954130  https://img3.idealista.com/blur/WEB_LISTING/0/...         19   \n",
       "4     90146912  https://img3.idealista.com/blur/WEB_LISTING/0/...         18   \n",
       "\n",
       "  floor   price propertyType operation   size  exterior  rooms  ...  has360  \\\n",
       "0     7   700.0         flat      rent  120.0      True      4  ...   False   \n",
       "1     1  1100.0         flat      rent   70.0      True      2  ...   False   \n",
       "2     1  1050.0         flat      rent   60.0      True      2  ...   False   \n",
       "3     7   900.0         flat      rent   57.0      True      3  ...   False   \n",
       "4     2  1250.0         flat      rent   80.0      True      3  ...   False   \n",
       "\n",
       "  topNewDevelopment detailedType_typology  \\\n",
       "0             False                  flat   \n",
       "1             False                  flat   \n",
       "2             False                  flat   \n",
       "3             False                  flat   \n",
       "4             False                  flat   \n",
       "\n",
       "                         suggestedTexts_subtitle      suggestedTexts_title  \\\n",
       "0                          Ca n'Aurell, Terrassa                      Piso   \n",
       "1                            El Raval, Barcelona  Piso en Calle de guardia   \n",
       "2                  La Sagrada Família, Barcelona                      Piso   \n",
       "3                            El Besòs, Barcelona                      Piso   \n",
       "4  El Camp d'En Grassot i Gràcia Nova, Barcelona     Piso en Roger de Flor   \n",
       "\n",
       "  parkingSpace_hasParkingSpace parkingSpace_isParkingSpaceIncludedInPrice  \\\n",
       "0                        False                                        NaN   \n",
       "1                        False                                        NaN   \n",
       "2                        False                                        NaN   \n",
       "3                        False                                        NaN   \n",
       "4                         True                                       True   \n",
       "\n",
       "   detailedType_subTypology  parkingSpace_parkingSpacePrice  \\\n",
       "0                       NaN                             0.0   \n",
       "1                       NaN                             0.0   \n",
       "2                       NaN                             0.0   \n",
       "3                       NaN                             0.0   \n",
       "4                       NaN                             0.0   \n",
       "\n",
       "   newDevelopmentFinished  \n",
       "0                     NaN  \n",
       "1                     NaN  \n",
       "2                     NaN  \n",
       "3                     NaN  \n",
       "4                     NaN  \n",
       "\n",
       "[5 rows x 39 columns]"
      ]
     },
     "execution_count": 23,
     "metadata": {},
     "output_type": "execute_result"
    }
   ],
   "source": [
    "df['parkingSpace_parkingSpacePrice'].fillna(.0, inplace=True)\n",
    "df.head()"
   ]
  },
  {
   "cell_type": "code",
   "execution_count": 24,
   "metadata": {},
   "outputs": [
    {
     "data": {
      "text/html": [
       "<div>\n",
       "<style scoped>\n",
       "    .dataframe tbody tr th:only-of-type {\n",
       "        vertical-align: middle;\n",
       "    }\n",
       "\n",
       "    .dataframe tbody tr th {\n",
       "        vertical-align: top;\n",
       "    }\n",
       "\n",
       "    .dataframe thead th {\n",
       "        text-align: right;\n",
       "    }\n",
       "</style>\n",
       "<table border=\"1\" class=\"dataframe\">\n",
       "  <thead>\n",
       "    <tr style=\"text-align: right;\">\n",
       "      <th></th>\n",
       "      <th>propertyCode</th>\n",
       "      <th>thumbnail</th>\n",
       "      <th>numPhotos</th>\n",
       "      <th>floor</th>\n",
       "      <th>price</th>\n",
       "      <th>propertyType</th>\n",
       "      <th>operation</th>\n",
       "      <th>size</th>\n",
       "      <th>exterior</th>\n",
       "      <th>rooms</th>\n",
       "      <th>...</th>\n",
       "      <th>has360</th>\n",
       "      <th>topNewDevelopment</th>\n",
       "      <th>detailedType_typology</th>\n",
       "      <th>suggestedTexts_subtitle</th>\n",
       "      <th>suggestedTexts_title</th>\n",
       "      <th>parkingSpace_hasParkingSpace</th>\n",
       "      <th>parkingSpace_isParkingSpaceIncludedInPrice</th>\n",
       "      <th>detailedType_subTypology</th>\n",
       "      <th>parkingSpace_parkingSpacePrice</th>\n",
       "      <th>newDevelopmentFinished</th>\n",
       "    </tr>\n",
       "  </thead>\n",
       "  <tbody>\n",
       "    <tr>\n",
       "      <th>0</th>\n",
       "      <td>30069200</td>\n",
       "      <td>https://img3.idealista.com/blur/WEB_LISTING/0/...</td>\n",
       "      <td>27</td>\n",
       "      <td>7</td>\n",
       "      <td>700.0</td>\n",
       "      <td>flat</td>\n",
       "      <td>rent</td>\n",
       "      <td>120.0</td>\n",
       "      <td>True</td>\n",
       "      <td>4</td>\n",
       "      <td>...</td>\n",
       "      <td>False</td>\n",
       "      <td>False</td>\n",
       "      <td>flat</td>\n",
       "      <td>Ca n'Aurell, Terrassa</td>\n",
       "      <td>Piso</td>\n",
       "      <td>False</td>\n",
       "      <td>False</td>\n",
       "      <td>NaN</td>\n",
       "      <td>0.0</td>\n",
       "      <td>NaN</td>\n",
       "    </tr>\n",
       "    <tr>\n",
       "      <th>1</th>\n",
       "      <td>90146961</td>\n",
       "      <td>https://img3.idealista.com/blur/WEB_LISTING/0/...</td>\n",
       "      <td>25</td>\n",
       "      <td>1</td>\n",
       "      <td>1100.0</td>\n",
       "      <td>flat</td>\n",
       "      <td>rent</td>\n",
       "      <td>70.0</td>\n",
       "      <td>True</td>\n",
       "      <td>2</td>\n",
       "      <td>...</td>\n",
       "      <td>False</td>\n",
       "      <td>False</td>\n",
       "      <td>flat</td>\n",
       "      <td>El Raval, Barcelona</td>\n",
       "      <td>Piso en Calle de guardia</td>\n",
       "      <td>False</td>\n",
       "      <td>False</td>\n",
       "      <td>NaN</td>\n",
       "      <td>0.0</td>\n",
       "      <td>NaN</td>\n",
       "    </tr>\n",
       "    <tr>\n",
       "      <th>2</th>\n",
       "      <td>90146922</td>\n",
       "      <td>https://img3.idealista.com/blur/WEB_LISTING/0/...</td>\n",
       "      <td>15</td>\n",
       "      <td>1</td>\n",
       "      <td>1050.0</td>\n",
       "      <td>flat</td>\n",
       "      <td>rent</td>\n",
       "      <td>60.0</td>\n",
       "      <td>True</td>\n",
       "      <td>2</td>\n",
       "      <td>...</td>\n",
       "      <td>False</td>\n",
       "      <td>False</td>\n",
       "      <td>flat</td>\n",
       "      <td>La Sagrada Família, Barcelona</td>\n",
       "      <td>Piso</td>\n",
       "      <td>False</td>\n",
       "      <td>False</td>\n",
       "      <td>NaN</td>\n",
       "      <td>0.0</td>\n",
       "      <td>NaN</td>\n",
       "    </tr>\n",
       "    <tr>\n",
       "      <th>3</th>\n",
       "      <td>81954130</td>\n",
       "      <td>https://img3.idealista.com/blur/WEB_LISTING/0/...</td>\n",
       "      <td>19</td>\n",
       "      <td>7</td>\n",
       "      <td>900.0</td>\n",
       "      <td>flat</td>\n",
       "      <td>rent</td>\n",
       "      <td>57.0</td>\n",
       "      <td>True</td>\n",
       "      <td>3</td>\n",
       "      <td>...</td>\n",
       "      <td>False</td>\n",
       "      <td>False</td>\n",
       "      <td>flat</td>\n",
       "      <td>El Besòs, Barcelona</td>\n",
       "      <td>Piso</td>\n",
       "      <td>False</td>\n",
       "      <td>False</td>\n",
       "      <td>NaN</td>\n",
       "      <td>0.0</td>\n",
       "      <td>NaN</td>\n",
       "    </tr>\n",
       "    <tr>\n",
       "      <th>4</th>\n",
       "      <td>90146912</td>\n",
       "      <td>https://img3.idealista.com/blur/WEB_LISTING/0/...</td>\n",
       "      <td>18</td>\n",
       "      <td>2</td>\n",
       "      <td>1250.0</td>\n",
       "      <td>flat</td>\n",
       "      <td>rent</td>\n",
       "      <td>80.0</td>\n",
       "      <td>True</td>\n",
       "      <td>3</td>\n",
       "      <td>...</td>\n",
       "      <td>False</td>\n",
       "      <td>False</td>\n",
       "      <td>flat</td>\n",
       "      <td>El Camp d'En Grassot i Gràcia Nova, Barcelona</td>\n",
       "      <td>Piso en Roger de Flor</td>\n",
       "      <td>True</td>\n",
       "      <td>True</td>\n",
       "      <td>NaN</td>\n",
       "      <td>0.0</td>\n",
       "      <td>NaN</td>\n",
       "    </tr>\n",
       "  </tbody>\n",
       "</table>\n",
       "<p>5 rows × 39 columns</p>\n",
       "</div>"
      ],
      "text/plain": [
       "  propertyCode                                          thumbnail  numPhotos  \\\n",
       "0     30069200  https://img3.idealista.com/blur/WEB_LISTING/0/...         27   \n",
       "1     90146961  https://img3.idealista.com/blur/WEB_LISTING/0/...         25   \n",
       "2     90146922  https://img3.idealista.com/blur/WEB_LISTING/0/...         15   \n",
       "3     81954130  https://img3.idealista.com/blur/WEB_LISTING/0/...         19   \n",
       "4     90146912  https://img3.idealista.com/blur/WEB_LISTING/0/...         18   \n",
       "\n",
       "  floor   price propertyType operation   size  exterior  rooms  ...  has360  \\\n",
       "0     7   700.0         flat      rent  120.0      True      4  ...   False   \n",
       "1     1  1100.0         flat      rent   70.0      True      2  ...   False   \n",
       "2     1  1050.0         flat      rent   60.0      True      2  ...   False   \n",
       "3     7   900.0         flat      rent   57.0      True      3  ...   False   \n",
       "4     2  1250.0         flat      rent   80.0      True      3  ...   False   \n",
       "\n",
       "  topNewDevelopment detailedType_typology  \\\n",
       "0             False                  flat   \n",
       "1             False                  flat   \n",
       "2             False                  flat   \n",
       "3             False                  flat   \n",
       "4             False                  flat   \n",
       "\n",
       "                         suggestedTexts_subtitle      suggestedTexts_title  \\\n",
       "0                          Ca n'Aurell, Terrassa                      Piso   \n",
       "1                            El Raval, Barcelona  Piso en Calle de guardia   \n",
       "2                  La Sagrada Família, Barcelona                      Piso   \n",
       "3                            El Besòs, Barcelona                      Piso   \n",
       "4  El Camp d'En Grassot i Gràcia Nova, Barcelona     Piso en Roger de Flor   \n",
       "\n",
       "  parkingSpace_hasParkingSpace parkingSpace_isParkingSpaceIncludedInPrice  \\\n",
       "0                        False                                      False   \n",
       "1                        False                                      False   \n",
       "2                        False                                      False   \n",
       "3                        False                                      False   \n",
       "4                         True                                       True   \n",
       "\n",
       "   detailedType_subTypology  parkingSpace_parkingSpacePrice  \\\n",
       "0                       NaN                             0.0   \n",
       "1                       NaN                             0.0   \n",
       "2                       NaN                             0.0   \n",
       "3                       NaN                             0.0   \n",
       "4                       NaN                             0.0   \n",
       "\n",
       "   newDevelopmentFinished  \n",
       "0                     NaN  \n",
       "1                     NaN  \n",
       "2                     NaN  \n",
       "3                     NaN  \n",
       "4                     NaN  \n",
       "\n",
       "[5 rows x 39 columns]"
      ]
     },
     "execution_count": 24,
     "metadata": {},
     "output_type": "execute_result"
    }
   ],
   "source": [
    "df['parkingSpace_isParkingSpaceIncludedInPrice'].fillna(False, inplace=True)\n",
    "df.head()"
   ]
  },
  {
   "cell_type": "markdown",
   "metadata": {},
   "source": [
    "### Subtopology NaNs\n",
    "\n",
    "The Subtopology column means a type of the flat that the Idealista company could consider as a studio, flat, or any other. We understand that if this value doesn't appear the Subtopology will be unknown, so we changed the NaNs to \"unknown\"."
   ]
  },
  {
   "cell_type": "code",
   "execution_count": 25,
   "metadata": {},
   "outputs": [
    {
     "data": {
      "text/html": [
       "<div>\n",
       "<style scoped>\n",
       "    .dataframe tbody tr th:only-of-type {\n",
       "        vertical-align: middle;\n",
       "    }\n",
       "\n",
       "    .dataframe tbody tr th {\n",
       "        vertical-align: top;\n",
       "    }\n",
       "\n",
       "    .dataframe thead th {\n",
       "        text-align: right;\n",
       "    }\n",
       "</style>\n",
       "<table border=\"1\" class=\"dataframe\">\n",
       "  <thead>\n",
       "    <tr style=\"text-align: right;\">\n",
       "      <th></th>\n",
       "      <th>propertyCode</th>\n",
       "      <th>thumbnail</th>\n",
       "      <th>numPhotos</th>\n",
       "      <th>floor</th>\n",
       "      <th>price</th>\n",
       "      <th>propertyType</th>\n",
       "      <th>operation</th>\n",
       "      <th>size</th>\n",
       "      <th>exterior</th>\n",
       "      <th>rooms</th>\n",
       "      <th>...</th>\n",
       "      <th>has360</th>\n",
       "      <th>topNewDevelopment</th>\n",
       "      <th>detailedType_typology</th>\n",
       "      <th>suggestedTexts_subtitle</th>\n",
       "      <th>suggestedTexts_title</th>\n",
       "      <th>parkingSpace_hasParkingSpace</th>\n",
       "      <th>parkingSpace_isParkingSpaceIncludedInPrice</th>\n",
       "      <th>detailedType_subTypology</th>\n",
       "      <th>parkingSpace_parkingSpacePrice</th>\n",
       "      <th>newDevelopmentFinished</th>\n",
       "    </tr>\n",
       "  </thead>\n",
       "  <tbody>\n",
       "    <tr>\n",
       "      <th>0</th>\n",
       "      <td>30069200</td>\n",
       "      <td>https://img3.idealista.com/blur/WEB_LISTING/0/...</td>\n",
       "      <td>27</td>\n",
       "      <td>7</td>\n",
       "      <td>700.0</td>\n",
       "      <td>flat</td>\n",
       "      <td>rent</td>\n",
       "      <td>120.0</td>\n",
       "      <td>True</td>\n",
       "      <td>4</td>\n",
       "      <td>...</td>\n",
       "      <td>False</td>\n",
       "      <td>False</td>\n",
       "      <td>flat</td>\n",
       "      <td>Ca n'Aurell, Terrassa</td>\n",
       "      <td>Piso</td>\n",
       "      <td>False</td>\n",
       "      <td>False</td>\n",
       "      <td>unknown</td>\n",
       "      <td>0.0</td>\n",
       "      <td>NaN</td>\n",
       "    </tr>\n",
       "    <tr>\n",
       "      <th>1</th>\n",
       "      <td>90146961</td>\n",
       "      <td>https://img3.idealista.com/blur/WEB_LISTING/0/...</td>\n",
       "      <td>25</td>\n",
       "      <td>1</td>\n",
       "      <td>1100.0</td>\n",
       "      <td>flat</td>\n",
       "      <td>rent</td>\n",
       "      <td>70.0</td>\n",
       "      <td>True</td>\n",
       "      <td>2</td>\n",
       "      <td>...</td>\n",
       "      <td>False</td>\n",
       "      <td>False</td>\n",
       "      <td>flat</td>\n",
       "      <td>El Raval, Barcelona</td>\n",
       "      <td>Piso en Calle de guardia</td>\n",
       "      <td>False</td>\n",
       "      <td>False</td>\n",
       "      <td>unknown</td>\n",
       "      <td>0.0</td>\n",
       "      <td>NaN</td>\n",
       "    </tr>\n",
       "    <tr>\n",
       "      <th>2</th>\n",
       "      <td>90146922</td>\n",
       "      <td>https://img3.idealista.com/blur/WEB_LISTING/0/...</td>\n",
       "      <td>15</td>\n",
       "      <td>1</td>\n",
       "      <td>1050.0</td>\n",
       "      <td>flat</td>\n",
       "      <td>rent</td>\n",
       "      <td>60.0</td>\n",
       "      <td>True</td>\n",
       "      <td>2</td>\n",
       "      <td>...</td>\n",
       "      <td>False</td>\n",
       "      <td>False</td>\n",
       "      <td>flat</td>\n",
       "      <td>La Sagrada Família, Barcelona</td>\n",
       "      <td>Piso</td>\n",
       "      <td>False</td>\n",
       "      <td>False</td>\n",
       "      <td>unknown</td>\n",
       "      <td>0.0</td>\n",
       "      <td>NaN</td>\n",
       "    </tr>\n",
       "    <tr>\n",
       "      <th>3</th>\n",
       "      <td>81954130</td>\n",
       "      <td>https://img3.idealista.com/blur/WEB_LISTING/0/...</td>\n",
       "      <td>19</td>\n",
       "      <td>7</td>\n",
       "      <td>900.0</td>\n",
       "      <td>flat</td>\n",
       "      <td>rent</td>\n",
       "      <td>57.0</td>\n",
       "      <td>True</td>\n",
       "      <td>3</td>\n",
       "      <td>...</td>\n",
       "      <td>False</td>\n",
       "      <td>False</td>\n",
       "      <td>flat</td>\n",
       "      <td>El Besòs, Barcelona</td>\n",
       "      <td>Piso</td>\n",
       "      <td>False</td>\n",
       "      <td>False</td>\n",
       "      <td>unknown</td>\n",
       "      <td>0.0</td>\n",
       "      <td>NaN</td>\n",
       "    </tr>\n",
       "    <tr>\n",
       "      <th>4</th>\n",
       "      <td>90146912</td>\n",
       "      <td>https://img3.idealista.com/blur/WEB_LISTING/0/...</td>\n",
       "      <td>18</td>\n",
       "      <td>2</td>\n",
       "      <td>1250.0</td>\n",
       "      <td>flat</td>\n",
       "      <td>rent</td>\n",
       "      <td>80.0</td>\n",
       "      <td>True</td>\n",
       "      <td>3</td>\n",
       "      <td>...</td>\n",
       "      <td>False</td>\n",
       "      <td>False</td>\n",
       "      <td>flat</td>\n",
       "      <td>El Camp d'En Grassot i Gràcia Nova, Barcelona</td>\n",
       "      <td>Piso en Roger de Flor</td>\n",
       "      <td>True</td>\n",
       "      <td>True</td>\n",
       "      <td>unknown</td>\n",
       "      <td>0.0</td>\n",
       "      <td>NaN</td>\n",
       "    </tr>\n",
       "  </tbody>\n",
       "</table>\n",
       "<p>5 rows × 39 columns</p>\n",
       "</div>"
      ],
      "text/plain": [
       "  propertyCode                                          thumbnail  numPhotos  \\\n",
       "0     30069200  https://img3.idealista.com/blur/WEB_LISTING/0/...         27   \n",
       "1     90146961  https://img3.idealista.com/blur/WEB_LISTING/0/...         25   \n",
       "2     90146922  https://img3.idealista.com/blur/WEB_LISTING/0/...         15   \n",
       "3     81954130  https://img3.idealista.com/blur/WEB_LISTING/0/...         19   \n",
       "4     90146912  https://img3.idealista.com/blur/WEB_LISTING/0/...         18   \n",
       "\n",
       "  floor   price propertyType operation   size  exterior  rooms  ...  has360  \\\n",
       "0     7   700.0         flat      rent  120.0      True      4  ...   False   \n",
       "1     1  1100.0         flat      rent   70.0      True      2  ...   False   \n",
       "2     1  1050.0         flat      rent   60.0      True      2  ...   False   \n",
       "3     7   900.0         flat      rent   57.0      True      3  ...   False   \n",
       "4     2  1250.0         flat      rent   80.0      True      3  ...   False   \n",
       "\n",
       "  topNewDevelopment detailedType_typology  \\\n",
       "0             False                  flat   \n",
       "1             False                  flat   \n",
       "2             False                  flat   \n",
       "3             False                  flat   \n",
       "4             False                  flat   \n",
       "\n",
       "                         suggestedTexts_subtitle      suggestedTexts_title  \\\n",
       "0                          Ca n'Aurell, Terrassa                      Piso   \n",
       "1                            El Raval, Barcelona  Piso en Calle de guardia   \n",
       "2                  La Sagrada Família, Barcelona                      Piso   \n",
       "3                            El Besòs, Barcelona                      Piso   \n",
       "4  El Camp d'En Grassot i Gràcia Nova, Barcelona     Piso en Roger de Flor   \n",
       "\n",
       "  parkingSpace_hasParkingSpace parkingSpace_isParkingSpaceIncludedInPrice  \\\n",
       "0                        False                                      False   \n",
       "1                        False                                      False   \n",
       "2                        False                                      False   \n",
       "3                        False                                      False   \n",
       "4                         True                                       True   \n",
       "\n",
       "   detailedType_subTypology  parkingSpace_parkingSpacePrice  \\\n",
       "0                   unknown                             0.0   \n",
       "1                   unknown                             0.0   \n",
       "2                   unknown                             0.0   \n",
       "3                   unknown                             0.0   \n",
       "4                   unknown                             0.0   \n",
       "\n",
       "   newDevelopmentFinished  \n",
       "0                     NaN  \n",
       "1                     NaN  \n",
       "2                     NaN  \n",
       "3                     NaN  \n",
       "4                     NaN  \n",
       "\n",
       "[5 rows x 39 columns]"
      ]
     },
     "execution_count": 25,
     "metadata": {},
     "output_type": "execute_result"
    }
   ],
   "source": [
    "df['detailedType_subTypology'].fillna(\"unknown\", inplace=True)\n",
    "df.head()"
   ]
  },
  {
   "cell_type": "markdown",
   "metadata": {},
   "source": [
    "### Neighborhood NaNs\n",
    "\n",
    "The neighborhood column represents the neighborhood where the flat is ubicated in a determined city. Since all our projects will have cities we assume that each one will have many neighborhoods. To replace the NaN value we will put a string value `unknown` because there is no other way we could estimate where the property is."
   ]
  },
  {
   "cell_type": "code",
   "execution_count": 26,
   "metadata": {},
   "outputs": [
    {
     "data": {
      "text/plain": [
       "array(['90146961',\n",
       "       'https://img3.idealista.com/blur/WEB_LISTING/0/id.pro.es.image.master/c1/2c/0d/784269474.jpg',\n",
       "       25, '1', 1100.0, 'flat', 'rent', 70.0, True, 2, 1,\n",
       "       'Calle de guardia', 'Barcelona', 'Barcelona', 'Ciutat Vella', 'es',\n",
       "       'El Raval', 41.3789529, 2.175358, False,\n",
       "       'https://www.idealista.com/inmueble/90146961/', '9928', False,\n",
       "       'good', False, True, 16.0, False, False, False, False, 'flat',\n",
       "       'El Raval, Barcelona', 'Piso en Calle de guardia', False, False,\n",
       "       'unknown', 0.0, nan], dtype=object)"
      ]
     },
     "execution_count": 26,
     "metadata": {},
     "output_type": "execute_result"
    }
   ],
   "source": [
    "df[~df.neighborhood.isna()].iloc[1].values"
   ]
  },
  {
   "cell_type": "code",
   "execution_count": 27,
   "metadata": {},
   "outputs": [],
   "source": [
    "df['neighborhood'].fillna(\"Unknown\", inplace=True)"
   ]
  },
  {
   "cell_type": "markdown",
   "metadata": {},
   "source": [
    "### Status NaNs\n",
    "\n",
    "The status refers to the conditions that the flat is at the moment, some different values could appear in this column. For instance, good, bad, etc. In order to replace the NaN values the string value, `unknown` could be fine to replace these values because we can't determine the status of a given flat."
   ]
  },
  {
   "cell_type": "code",
   "execution_count": 28,
   "metadata": {},
   "outputs": [
    {
     "data": {
      "text/html": [
       "<div>\n",
       "<style scoped>\n",
       "    .dataframe tbody tr th:only-of-type {\n",
       "        vertical-align: middle;\n",
       "    }\n",
       "\n",
       "    .dataframe tbody tr th {\n",
       "        vertical-align: top;\n",
       "    }\n",
       "\n",
       "    .dataframe thead th {\n",
       "        text-align: right;\n",
       "    }\n",
       "</style>\n",
       "<table border=\"1\" class=\"dataframe\">\n",
       "  <thead>\n",
       "    <tr style=\"text-align: right;\">\n",
       "      <th></th>\n",
       "      <th>propertyCode</th>\n",
       "      <th>thumbnail</th>\n",
       "      <th>numPhotos</th>\n",
       "      <th>floor</th>\n",
       "      <th>price</th>\n",
       "      <th>propertyType</th>\n",
       "      <th>operation</th>\n",
       "      <th>size</th>\n",
       "      <th>exterior</th>\n",
       "      <th>rooms</th>\n",
       "      <th>...</th>\n",
       "      <th>has360</th>\n",
       "      <th>topNewDevelopment</th>\n",
       "      <th>detailedType_typology</th>\n",
       "      <th>suggestedTexts_subtitle</th>\n",
       "      <th>suggestedTexts_title</th>\n",
       "      <th>parkingSpace_hasParkingSpace</th>\n",
       "      <th>parkingSpace_isParkingSpaceIncludedInPrice</th>\n",
       "      <th>detailedType_subTypology</th>\n",
       "      <th>parkingSpace_parkingSpacePrice</th>\n",
       "      <th>newDevelopmentFinished</th>\n",
       "    </tr>\n",
       "  </thead>\n",
       "  <tbody>\n",
       "    <tr>\n",
       "      <th>0</th>\n",
       "      <td>30069200</td>\n",
       "      <td>https://img3.idealista.com/blur/WEB_LISTING/0/...</td>\n",
       "      <td>27</td>\n",
       "      <td>7</td>\n",
       "      <td>700.0</td>\n",
       "      <td>flat</td>\n",
       "      <td>rent</td>\n",
       "      <td>120.0</td>\n",
       "      <td>True</td>\n",
       "      <td>4</td>\n",
       "      <td>...</td>\n",
       "      <td>False</td>\n",
       "      <td>False</td>\n",
       "      <td>flat</td>\n",
       "      <td>Ca n'Aurell, Terrassa</td>\n",
       "      <td>Piso</td>\n",
       "      <td>False</td>\n",
       "      <td>False</td>\n",
       "      <td>unknown</td>\n",
       "      <td>0.0</td>\n",
       "      <td>NaN</td>\n",
       "    </tr>\n",
       "    <tr>\n",
       "      <th>1</th>\n",
       "      <td>90146961</td>\n",
       "      <td>https://img3.idealista.com/blur/WEB_LISTING/0/...</td>\n",
       "      <td>25</td>\n",
       "      <td>1</td>\n",
       "      <td>1100.0</td>\n",
       "      <td>flat</td>\n",
       "      <td>rent</td>\n",
       "      <td>70.0</td>\n",
       "      <td>True</td>\n",
       "      <td>2</td>\n",
       "      <td>...</td>\n",
       "      <td>False</td>\n",
       "      <td>False</td>\n",
       "      <td>flat</td>\n",
       "      <td>El Raval, Barcelona</td>\n",
       "      <td>Piso en Calle de guardia</td>\n",
       "      <td>False</td>\n",
       "      <td>False</td>\n",
       "      <td>unknown</td>\n",
       "      <td>0.0</td>\n",
       "      <td>NaN</td>\n",
       "    </tr>\n",
       "    <tr>\n",
       "      <th>2</th>\n",
       "      <td>90146922</td>\n",
       "      <td>https://img3.idealista.com/blur/WEB_LISTING/0/...</td>\n",
       "      <td>15</td>\n",
       "      <td>1</td>\n",
       "      <td>1050.0</td>\n",
       "      <td>flat</td>\n",
       "      <td>rent</td>\n",
       "      <td>60.0</td>\n",
       "      <td>True</td>\n",
       "      <td>2</td>\n",
       "      <td>...</td>\n",
       "      <td>False</td>\n",
       "      <td>False</td>\n",
       "      <td>flat</td>\n",
       "      <td>La Sagrada Família, Barcelona</td>\n",
       "      <td>Piso</td>\n",
       "      <td>False</td>\n",
       "      <td>False</td>\n",
       "      <td>unknown</td>\n",
       "      <td>0.0</td>\n",
       "      <td>NaN</td>\n",
       "    </tr>\n",
       "    <tr>\n",
       "      <th>3</th>\n",
       "      <td>81954130</td>\n",
       "      <td>https://img3.idealista.com/blur/WEB_LISTING/0/...</td>\n",
       "      <td>19</td>\n",
       "      <td>7</td>\n",
       "      <td>900.0</td>\n",
       "      <td>flat</td>\n",
       "      <td>rent</td>\n",
       "      <td>57.0</td>\n",
       "      <td>True</td>\n",
       "      <td>3</td>\n",
       "      <td>...</td>\n",
       "      <td>False</td>\n",
       "      <td>False</td>\n",
       "      <td>flat</td>\n",
       "      <td>El Besòs, Barcelona</td>\n",
       "      <td>Piso</td>\n",
       "      <td>False</td>\n",
       "      <td>False</td>\n",
       "      <td>unknown</td>\n",
       "      <td>0.0</td>\n",
       "      <td>NaN</td>\n",
       "    </tr>\n",
       "    <tr>\n",
       "      <th>4</th>\n",
       "      <td>90146912</td>\n",
       "      <td>https://img3.idealista.com/blur/WEB_LISTING/0/...</td>\n",
       "      <td>18</td>\n",
       "      <td>2</td>\n",
       "      <td>1250.0</td>\n",
       "      <td>flat</td>\n",
       "      <td>rent</td>\n",
       "      <td>80.0</td>\n",
       "      <td>True</td>\n",
       "      <td>3</td>\n",
       "      <td>...</td>\n",
       "      <td>False</td>\n",
       "      <td>False</td>\n",
       "      <td>flat</td>\n",
       "      <td>El Camp d'En Grassot i Gràcia Nova, Barcelona</td>\n",
       "      <td>Piso en Roger de Flor</td>\n",
       "      <td>True</td>\n",
       "      <td>True</td>\n",
       "      <td>unknown</td>\n",
       "      <td>0.0</td>\n",
       "      <td>NaN</td>\n",
       "    </tr>\n",
       "  </tbody>\n",
       "</table>\n",
       "<p>5 rows × 39 columns</p>\n",
       "</div>"
      ],
      "text/plain": [
       "  propertyCode                                          thumbnail  numPhotos  \\\n",
       "0     30069200  https://img3.idealista.com/blur/WEB_LISTING/0/...         27   \n",
       "1     90146961  https://img3.idealista.com/blur/WEB_LISTING/0/...         25   \n",
       "2     90146922  https://img3.idealista.com/blur/WEB_LISTING/0/...         15   \n",
       "3     81954130  https://img3.idealista.com/blur/WEB_LISTING/0/...         19   \n",
       "4     90146912  https://img3.idealista.com/blur/WEB_LISTING/0/...         18   \n",
       "\n",
       "  floor   price propertyType operation   size  exterior  rooms  ...  has360  \\\n",
       "0     7   700.0         flat      rent  120.0      True      4  ...   False   \n",
       "1     1  1100.0         flat      rent   70.0      True      2  ...   False   \n",
       "2     1  1050.0         flat      rent   60.0      True      2  ...   False   \n",
       "3     7   900.0         flat      rent   57.0      True      3  ...   False   \n",
       "4     2  1250.0         flat      rent   80.0      True      3  ...   False   \n",
       "\n",
       "  topNewDevelopment detailedType_typology  \\\n",
       "0             False                  flat   \n",
       "1             False                  flat   \n",
       "2             False                  flat   \n",
       "3             False                  flat   \n",
       "4             False                  flat   \n",
       "\n",
       "                         suggestedTexts_subtitle      suggestedTexts_title  \\\n",
       "0                          Ca n'Aurell, Terrassa                      Piso   \n",
       "1                            El Raval, Barcelona  Piso en Calle de guardia   \n",
       "2                  La Sagrada Família, Barcelona                      Piso   \n",
       "3                            El Besòs, Barcelona                      Piso   \n",
       "4  El Camp d'En Grassot i Gràcia Nova, Barcelona     Piso en Roger de Flor   \n",
       "\n",
       "  parkingSpace_hasParkingSpace parkingSpace_isParkingSpaceIncludedInPrice  \\\n",
       "0                        False                                      False   \n",
       "1                        False                                      False   \n",
       "2                        False                                      False   \n",
       "3                        False                                      False   \n",
       "4                         True                                       True   \n",
       "\n",
       "   detailedType_subTypology  parkingSpace_parkingSpacePrice  \\\n",
       "0                   unknown                             0.0   \n",
       "1                   unknown                             0.0   \n",
       "2                   unknown                             0.0   \n",
       "3                   unknown                             0.0   \n",
       "4                   unknown                             0.0   \n",
       "\n",
       "   newDevelopmentFinished  \n",
       "0                     NaN  \n",
       "1                     NaN  \n",
       "2                     NaN  \n",
       "3                     NaN  \n",
       "4                     NaN  \n",
       "\n",
       "[5 rows x 39 columns]"
      ]
     },
     "execution_count": 28,
     "metadata": {},
     "output_type": "execute_result"
    }
   ],
   "source": [
    "df['status'].fillna(\"unknown\", inplace=True)\n",
    "df.head()"
   ]
  },
  {
   "cell_type": "markdown",
   "metadata": {},
   "source": [
    "### Has List NaNs\n",
    "\n",
    "This field determines if a flat has a lift or not."
   ]
  },
  {
   "cell_type": "code",
   "execution_count": 29,
   "metadata": {
    "tags": []
   },
   "outputs": [
    {
     "name": "stdout",
     "output_type": "stream",
     "text": [
      "Has Lift NaNs are 3539 out of 31609 rows\n"
     ]
    }
   ],
   "source": [
    "print(f'Has Lift NaNs are {df.hasLift.isna().sum()} out of {df.shape[0]} rows')"
   ]
  },
  {
   "cell_type": "markdown",
   "metadata": {},
   "source": [
    "If the hasLift column is NaN it is probabily because the property type is in the \"ground\" as we previously mentioned, being properties like chalets and country houses."
   ]
  },
  {
   "cell_type": "code",
   "execution_count": 30,
   "metadata": {
    "tags": []
   },
   "outputs": [
    {
     "name": "stdout",
     "output_type": "stream",
     "text": [
      "Property type flat has 930/25650 hasLift NaN, which represents a 3.63%\n",
      "Property type penthouse has 27/1383 hasLift NaN, which represents a 1.95%\n",
      "Property type studio has 53/1305 hasLift NaN, which represents a 4.06%\n",
      "Property type duplex has 21/763 hasLift NaN, which represents a 2.75%\n",
      "Property type chalet has 2438/2438 hasLift NaN, which represents a 100.0%\n",
      "Property type countryHouse has 70/70 hasLift NaN, which represents a 100.0%\n"
     ]
    }
   ],
   "source": [
    "for pt in df.propertyType.unique():\n",
    "    pt_nan = df[df.propertyType == pt].hasLift.isna().sum()\n",
    "    total_elems = df[df.propertyType == pt].shape[0]\n",
    "    percentage = float(pt_nan) / float(total_elems)\n",
    "    print(f'Property type {pt} has {pt_nan}/{total_elems} hasLift NaN, '\n",
    "          f'which represents a {round(percentage * 100, 2)}%')"
   ]
  },
  {
   "cell_type": "code",
   "execution_count": 31,
   "metadata": {},
   "outputs": [
    {
     "data": {
      "image/png": "[encoded data removed]",
      "text/plain": [
       "<Figure size 720x720 with 6 Axes>"
      ]
     },
     "metadata": {},
     "output_type": "display_data"
    }
   ],
   "source": [
    "plt.figure(figsize=(10, 10))\n",
    "for i, pt in enumerate(df.propertyType.unique(), start=1):\n",
    "    plt.subplot(3, 2, i)\n",
    "    pt_nan = df[df.propertyType == pt].hasLift.isna().sum()\n",
    "    percentage = float(pt_nan) / df[df.propertyType == pt].shape[0]\n",
    "    plt.pie([percentage, 1 - percentage], \n",
    "            labels=['NaN', 'No NaN'])\n",
    "    plt.title(pt)\n",
    "plt.legend()\n",
    "plt.show()"
   ]
  },
  {
   "cell_type": "markdown",
   "metadata": {},
   "source": [
    "As expected all chalets and all country houses have the hasLift property as NaN. We think that setting them to false makes sense since actually they do not have a lift."
   ]
  },
  {
   "cell_type": "code",
   "execution_count": 32,
   "metadata": {},
   "outputs": [],
   "source": [
    "mask = (df.propertyType == 'chalet') & (df.propertyType == 'countryHouse') & (df.hasLift.isna())\n",
    "df.loc[mask, 'hasLift'] = False"
   ]
  },
  {
   "cell_type": "markdown",
   "metadata": {},
   "source": [
    "For the remaining hasLift NaNs, we are going to assume that not having a lift is a bad characteristic of that property and therefore announcers will tend to hide this information. For this reason, we believe that most of the NaNs are going to actually be Falses."
   ]
  },
  {
   "cell_type": "code",
   "execution_count": 33,
   "metadata": {},
   "outputs": [],
   "source": [
    "df.hasLift.fillna(False, inplace=True)"
   ]
  },
  {
   "cell_type": "markdown",
   "metadata": {},
   "source": [
    "### Development NaNs\n",
    "\n",
    "The `newDevelopment` and `topNewDevelopment` properites, does not contain NaNs. The Development column that contains NaNs is `newDevelopmentFinished`."
   ]
  },
  {
   "cell_type": "code",
   "execution_count": 34,
   "metadata": {
    "tags": []
   },
   "outputs": [
    {
     "name": "stdout",
     "output_type": "stream",
     "text": [
      "newDevelopmentFinished NaNs are 31476 out of 31609 rows\n"
     ]
    }
   ],
   "source": [
    "print(f'newDevelopmentFinished NaNs are {df.newDevelopmentFinished.isna().sum()} out of {df.shape[0]} rows')"
   ]
  },
  {
   "cell_type": "markdown",
   "metadata": {},
   "source": [
    "Almost all columns are NaNs which make us think that this is probabily a legacy attribute of the Idealista database and now it is no longer used. For this reason, we dropped the column."
   ]
  },
  {
   "cell_type": "code",
   "execution_count": 35,
   "metadata": {},
   "outputs": [],
   "source": [
    "df.drop('newDevelopmentFinished', axis='columns', inplace=True)"
   ]
  },
  {
   "cell_type": "markdown",
   "metadata": {},
   "source": [
    "To end with NaNs handling, we check the new DataFrame status"
   ]
  },
  {
   "cell_type": "code",
   "execution_count": 36,
   "metadata": {},
   "outputs": [
    {
     "data": {
      "text/plain": [
       "propertyCode                                  False\n",
       "thumbnail                                     False\n",
       "numPhotos                                     False\n",
       "floor                                         False\n",
       "price                                         False\n",
       "propertyType                                  False\n",
       "operation                                     False\n",
       "size                                          False\n",
       "exterior                                      False\n",
       "rooms                                         False\n",
       "bathrooms                                     False\n",
       "address                                       False\n",
       "province                                      False\n",
       "municipality                                  False\n",
       "district                                      False\n",
       "country                                       False\n",
       "neighborhood                                  False\n",
       "latitude                                      False\n",
       "longitude                                     False\n",
       "showAddress                                   False\n",
       "url                                           False\n",
       "distance                                      False\n",
       "hasVideo                                      False\n",
       "status                                        False\n",
       "newDevelopment                                False\n",
       "hasLift                                       False\n",
       "priceByArea                                   False\n",
       "hasPlan                                       False\n",
       "has3DTour                                     False\n",
       "has360                                        False\n",
       "topNewDevelopment                             False\n",
       "detailedType_typology                         False\n",
       "suggestedTexts_subtitle                       False\n",
       "suggestedTexts_title                          False\n",
       "parkingSpace_hasParkingSpace                  False\n",
       "parkingSpace_isParkingSpaceIncludedInPrice    False\n",
       "detailedType_subTypology                      False\n",
       "parkingSpace_parkingSpacePrice                False\n",
       "dtype: bool"
      ]
     },
     "execution_count": 36,
     "metadata": {},
     "output_type": "execute_result"
    }
   ],
   "source": [
    "df.isna().any(0)"
   ]
  },
  {
   "cell_type": "markdown",
   "metadata": {},
   "source": [
    "### Checking type consistency\n",
    "\n",
    "In this section, we are going to check if every column has its corresponding type."
   ]
  },
  {
   "cell_type": "code",
   "execution_count": 37,
   "metadata": {},
   "outputs": [
    {
     "data": {
      "text/plain": [
       "propertyCode                                   object\n",
       "thumbnail                                      object\n",
       "numPhotos                                       int64\n",
       "floor                                          object\n",
       "price                                         float64\n",
       "propertyType                                   object\n",
       "operation                                      object\n",
       "size                                          float64\n",
       "exterior                                         bool\n",
       "rooms                                           int64\n",
       "bathrooms                                       int64\n",
       "address                                        object\n",
       "province                                       object\n",
       "municipality                                   object\n",
       "district                                       object\n",
       "country                                        object\n",
       "neighborhood                                   object\n",
       "latitude                                      float64\n",
       "longitude                                     float64\n",
       "showAddress                                      bool\n",
       "url                                            object\n",
       "distance                                       object\n",
       "hasVideo                                         bool\n",
       "status                                         object\n",
       "newDevelopment                                   bool\n",
       "hasLift                                          bool\n",
       "priceByArea                                   float64\n",
       "hasPlan                                          bool\n",
       "has3DTour                                        bool\n",
       "has360                                           bool\n",
       "topNewDevelopment                                bool\n",
       "detailedType_typology                          object\n",
       "suggestedTexts_subtitle                        object\n",
       "suggestedTexts_title                           object\n",
       "parkingSpace_hasParkingSpace                     bool\n",
       "parkingSpace_isParkingSpaceIncludedInPrice       bool\n",
       "detailedType_subTypology                       object\n",
       "parkingSpace_parkingSpacePrice                float64\n",
       "dtype: object"
      ]
     },
     "execution_count": 37,
     "metadata": {},
     "output_type": "execute_result"
    }
   ],
   "source": [
    "df.dtypes"
   ]
  },
  {
   "cell_type": "markdown",
   "metadata": {},
   "source": [
    "Status is a discrete variable with the following values:"
   ]
  },
  {
   "cell_type": "code",
   "execution_count": 38,
   "metadata": {},
   "outputs": [
    {
     "data": {
      "text/plain": [
       "array(['good', 'unknown', 'renew', 'newdevelopment'], dtype=object)"
      ]
     },
     "execution_count": 38,
     "metadata": {},
     "output_type": "execute_result"
    }
   ],
   "source": [
    "df.status.unique()"
   ]
  },
  {
   "cell_type": "markdown",
   "metadata": {},
   "source": [
    "Therefore, makes sense to cast it to categorical type"
   ]
  },
  {
   "cell_type": "code",
   "execution_count": 39,
   "metadata": {},
   "outputs": [
    {
     "data": {
      "text/plain": [
       "{0: 'good', 1: 'newdevelopment', 2: 'renew', 3: 'unknown'}"
      ]
     },
     "execution_count": 39,
     "metadata": {},
     "output_type": "execute_result"
    }
   ],
   "source": [
    "df['status'] = df.status.astype('category')\n",
    "dict(enumerate(df.status.cat.categories ))"
   ]
  },
  {
   "cell_type": "markdown",
   "metadata": {},
   "source": [
    "The same happens for `spain_state`"
   ]
  },
  {
   "cell_type": "code",
   "execution_count": 40,
   "metadata": {},
   "outputs": [
    {
     "data": {
      "text/plain": [
       "{0: 'A Coruña',\n",
       " 1: 'Alicante',\n",
       " 2: 'Asturias',\n",
       " 3: 'Balears (Illes)',\n",
       " 4: 'Barcelona',\n",
       " 5: 'Cantabria',\n",
       " 6: 'Ceuta',\n",
       " 7: 'Cáceres',\n",
       " 8: 'Cádiz',\n",
       " 9: 'Gibraltar',\n",
       " 10: 'Girona',\n",
       " 11: 'Granada',\n",
       " 12: 'Guipúzcoa',\n",
       " 13: 'Huelva',\n",
       " 14: 'Las Palmas',\n",
       " 15: 'León',\n",
       " 16: 'Lleida',\n",
       " 17: 'Madrid',\n",
       " 18: 'Melilla',\n",
       " 19: 'Murcia',\n",
       " 20: 'Málaga',\n",
       " 21: 'Navarra',\n",
       " 22: 'Ourense',\n",
       " 23: 'Palencia',\n",
       " 24: 'Pontevedra',\n",
       " 25: 'Santa Cruz de Tenerife',\n",
       " 26: 'Sevilla',\n",
       " 27: 'Soria',\n",
       " 28: 'Tarragona',\n",
       " 29: 'Teruel',\n",
       " 30: 'Valladolid',\n",
       " 31: 'València',\n",
       " 32: 'Vizcaya',\n",
       " 33: 'Zaragoza',\n",
       " 34: 'Álava'}"
      ]
     },
     "execution_count": 40,
     "metadata": {},
     "output_type": "execute_result"
    }
   ],
   "source": [
    "df['province'] = df.province.astype('category')\n",
    "dict(enumerate(df.province.cat.categories ))"
   ]
  },
  {
   "cell_type": "markdown",
   "metadata": {},
   "source": [
    "The distance is an object, which does not make sense. We cast it to integer because it is expressed in km without decimals"
   ]
  },
  {
   "cell_type": "code",
   "execution_count": 41,
   "metadata": {},
   "outputs": [],
   "source": [
    "df['distance'] = df.distance.astype('int32')"
   ]
  },
  {
   "cell_type": "markdown",
   "metadata": {},
   "source": [
    "## Export the cleaned data\n",
    "\n",
    "To finalize the data cleaning process, we export the cleaned data into a single \".csv\" file."
   ]
  },
  {
   "cell_type": "code",
   "execution_count": 42,
   "metadata": {},
   "outputs": [],
   "source": [
    "df.to_csv('../data/processed/idealista_clean.csv', index=False)"
   ]
  }
 ],
 "metadata": {
  "kernelspec": {
   "display_name": "Python 3",
   "language": "python",
   "name": "python3"
  },
  "language_info": {
   "codemirror_mode": {
    "name": "ipython",
    "version": 3
   },
   "file_extension": ".py",
   "mimetype": "text/x-python",
   "name": "python",
   "nbconvert_exporter": "python",
   "pygments_lexer": "ipython3",
   "version": "3.7.6"
  }
 },
 "nbformat": 4,
 "nbformat_minor": 4
}
