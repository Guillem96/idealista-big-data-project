{
 "cells": [
  {
   "cell_type": "markdown",
   "metadata": {},
   "source": [
    "# Clean the data\n",
    "\n",
    "Once we know the basic data sctructure, we have to clean it, so we can use it for other purposes such as analyis or even predective tasks.\n",
    "\n",
    "In this notebook we cover a basic data cleaning pipeline where we are going to deal with different problems:\n",
    "\n",
    "- Joining the different data files: We need to join all the files in a single csv so the posterior analysis is simplier.\n",
    "- Removing NaNs columns: Having a lot of data is nice, but usually, dealing with those large amounts of records also generates unconsistent data. Removing the NaN values we will improve the data consistency and hence the data value."
   ]
  },
  {
   "cell_type": "code",
   "execution_count": 63,
   "metadata": {},
   "outputs": [],
   "source": [
    "import json\n",
    "import requests\n",
    "from pathlib import Path\n",
    "\n",
    "import pandas as pd\n",
    "from PIL import Image\n",
    "import matplotlib.pyplot as plt"
   ]
  },
  {
   "cell_type": "code",
   "execution_count": 64,
   "metadata": {},
   "outputs": [],
   "source": [
    "DATA_PATH = Path('../data/raw/')"
   ]
  },
  {
   "cell_type": "markdown",
   "metadata": {},
   "source": [
    "## Joining the data\n",
    "\n",
    "First of all, we need to know which files it will be merge into the same DataFrame."
   ]
  },
  {
   "cell_type": "code",
   "execution_count": 65,
   "metadata": {},
   "outputs": [
    {
     "output_type": "execute_result",
     "data": {
      "text/plain": "[WindowsPath('../data/raw/Barna_rent.json'),\n WindowsPath('../data/raw/Girona_rent.json'),\n WindowsPath('../data/raw/Lleida_rent.json'),\n WindowsPath('../data/raw/Madrid_rent.json'),\n WindowsPath('../data/raw/Malaga_rent.json'),\n WindowsPath('../data/raw/Mallorca_rent.json'),\n WindowsPath('../data/raw/Tarragona_rent.json'),\n WindowsPath('../data/raw/Valencia_rent.json'),\n WindowsPath('../data/raw/Zaragoza_rent.json')]"
     },
     "metadata": {},
     "execution_count": 65
    }
   ],
   "source": [
    "list(DATA_PATH.glob('*.json'))"
   ]
  },
  {
   "cell_type": "markdown",
   "metadata": {},
   "source": [
    "Then, we will merge the data into a unique DataFrame because we know that all these data have the same json format."
   ]
  },
  {
   "cell_type": "code",
   "execution_count": 66,
   "metadata": {},
   "outputs": [
    {
     "output_type": "execute_result",
     "data": {
      "text/plain": "  propertyCode                                          thumbnail  \\\n0     88707408  https://img3.idealista.com/blur/WEB_LISTING/0/...   \n1     90050445  https://img3.idealista.com/blur/WEB_LISTING/0/...   \n2     89790054  https://img3.idealista.com/blur/WEB_LISTING/0/...   \n3     89813394  https://img3.idealista.com/blur/WEB_LISTING/0/...   \n4     90050238  https://img3.idealista.com/blur/WEB_LISTING/0/...   \n\n  externalReference  numPhotos floor   price propertyType operation   size  \\\n0          AL_Sants         18     3  1050.0         flat      rent   50.0   \n1       AB1508007-1         13     5  3000.0         flat      rent  170.0   \n2     CB_BCN_0286_A         17     4  1050.0         flat      rent   75.0   \n3          CREA1105         16     3   780.0       studio      rent   36.0   \n4          6977 OBG         14     1   725.0         flat      rent   65.0   \n\n   exterior  ...  topNewDevelopment  detailedType_typology  \\\n0      True  ...              False                   flat   \n1      True  ...              False                   flat   \n2      True  ...              False                   flat   \n3      True  ...              False                   flat   \n4      True  ...              False                   flat   \n\n                 suggestedTexts_subtitle                 suggestedTexts_title  \\\n0                       Sants, Barcelona          Piso en Calle de Sants, 208   \n1                   Pedralbes, Barcelona             Piso en Avenida Diagonal   \n2  La Maternitat i Sant Ramon, Barcelona  Piso en Calle del Comandant Benítez   \n3  La Maternitat i Sant Ramon, Barcelona                              Estudio   \n4   Sant Ildefons, Cornellà de Llobregat                         Piso en boix   \n\n  parkingSpace_hasParkingSpace parkingSpace_isParkingSpaceIncludedInPrice  \\\n0                          NaN                                        NaN   \n1                         True                                       True   \n2                          NaN                                        NaN   \n3                          NaN                                        NaN   \n4                          NaN                                        NaN   \n\n  detailedType_subTypology parkingSpace_parkingSpacePrice  \\\n0                      NaN                            NaN   \n1                      NaN                            NaN   \n2                      NaN                            NaN   \n3                   studio                            NaN   \n4                      NaN                            NaN   \n\n   newDevelopmentFinished  spain_state  \n0                     NaN        Barna  \n1                     NaN        Barna  \n2                     NaN        Barna  \n3                     NaN        Barna  \n4                     NaN        Barna  \n\n[5 rows x 41 columns]",
      "text/html": "<div>\n<style scoped>\n    .dataframe tbody tr th:only-of-type {\n        vertical-align: middle;\n    }\n\n    .dataframe tbody tr th {\n        vertical-align: top;\n    }\n\n    .dataframe thead th {\n        text-align: right;\n    }\n</style>\n<table border=\"1\" class=\"dataframe\">\n  <thead>\n    <tr style=\"text-align: right;\">\n      <th></th>\n      <th>propertyCode</th>\n      <th>thumbnail</th>\n      <th>externalReference</th>\n      <th>numPhotos</th>\n      <th>floor</th>\n      <th>price</th>\n      <th>propertyType</th>\n      <th>operation</th>\n      <th>size</th>\n      <th>exterior</th>\n      <th>...</th>\n      <th>topNewDevelopment</th>\n      <th>detailedType_typology</th>\n      <th>suggestedTexts_subtitle</th>\n      <th>suggestedTexts_title</th>\n      <th>parkingSpace_hasParkingSpace</th>\n      <th>parkingSpace_isParkingSpaceIncludedInPrice</th>\n      <th>detailedType_subTypology</th>\n      <th>parkingSpace_parkingSpacePrice</th>\n      <th>newDevelopmentFinished</th>\n      <th>spain_state</th>\n    </tr>\n  </thead>\n  <tbody>\n    <tr>\n      <th>0</th>\n      <td>88707408</td>\n      <td>https://img3.idealista.com/blur/WEB_LISTING/0/...</td>\n      <td>AL_Sants</td>\n      <td>18</td>\n      <td>3</td>\n      <td>1050.0</td>\n      <td>flat</td>\n      <td>rent</td>\n      <td>50.0</td>\n      <td>True</td>\n      <td>...</td>\n      <td>False</td>\n      <td>flat</td>\n      <td>Sants, Barcelona</td>\n      <td>Piso en Calle de Sants, 208</td>\n      <td>NaN</td>\n      <td>NaN</td>\n      <td>NaN</td>\n      <td>NaN</td>\n      <td>NaN</td>\n      <td>Barna</td>\n    </tr>\n    <tr>\n      <th>1</th>\n      <td>90050445</td>\n      <td>https://img3.idealista.com/blur/WEB_LISTING/0/...</td>\n      <td>AB1508007-1</td>\n      <td>13</td>\n      <td>5</td>\n      <td>3000.0</td>\n      <td>flat</td>\n      <td>rent</td>\n      <td>170.0</td>\n      <td>True</td>\n      <td>...</td>\n      <td>False</td>\n      <td>flat</td>\n      <td>Pedralbes, Barcelona</td>\n      <td>Piso en Avenida Diagonal</td>\n      <td>True</td>\n      <td>True</td>\n      <td>NaN</td>\n      <td>NaN</td>\n      <td>NaN</td>\n      <td>Barna</td>\n    </tr>\n    <tr>\n      <th>2</th>\n      <td>89790054</td>\n      <td>https://img3.idealista.com/blur/WEB_LISTING/0/...</td>\n      <td>CB_BCN_0286_A</td>\n      <td>17</td>\n      <td>4</td>\n      <td>1050.0</td>\n      <td>flat</td>\n      <td>rent</td>\n      <td>75.0</td>\n      <td>True</td>\n      <td>...</td>\n      <td>False</td>\n      <td>flat</td>\n      <td>La Maternitat i Sant Ramon, Barcelona</td>\n      <td>Piso en Calle del Comandant Benítez</td>\n      <td>NaN</td>\n      <td>NaN</td>\n      <td>NaN</td>\n      <td>NaN</td>\n      <td>NaN</td>\n      <td>Barna</td>\n    </tr>\n    <tr>\n      <th>3</th>\n      <td>89813394</td>\n      <td>https://img3.idealista.com/blur/WEB_LISTING/0/...</td>\n      <td>CREA1105</td>\n      <td>16</td>\n      <td>3</td>\n      <td>780.0</td>\n      <td>studio</td>\n      <td>rent</td>\n      <td>36.0</td>\n      <td>True</td>\n      <td>...</td>\n      <td>False</td>\n      <td>flat</td>\n      <td>La Maternitat i Sant Ramon, Barcelona</td>\n      <td>Estudio</td>\n      <td>NaN</td>\n      <td>NaN</td>\n      <td>studio</td>\n      <td>NaN</td>\n      <td>NaN</td>\n      <td>Barna</td>\n    </tr>\n    <tr>\n      <th>4</th>\n      <td>90050238</td>\n      <td>https://img3.idealista.com/blur/WEB_LISTING/0/...</td>\n      <td>6977 OBG</td>\n      <td>14</td>\n      <td>1</td>\n      <td>725.0</td>\n      <td>flat</td>\n      <td>rent</td>\n      <td>65.0</td>\n      <td>True</td>\n      <td>...</td>\n      <td>False</td>\n      <td>flat</td>\n      <td>Sant Ildefons, Cornellà de Llobregat</td>\n      <td>Piso en boix</td>\n      <td>NaN</td>\n      <td>NaN</td>\n      <td>NaN</td>\n      <td>NaN</td>\n      <td>NaN</td>\n      <td>Barna</td>\n    </tr>\n  </tbody>\n</table>\n<p>5 rows × 41 columns</p>\n</div>"
     },
     "metadata": {},
     "execution_count": 66
    }
   ],
   "source": [
    "def city_name_from_path(p):\n",
    "    return p.stem.split('_')[0]\n",
    "\n",
    "df = pd.DataFrame()\n",
    "\n",
    "for f in DATA_PATH.glob('*.json'):\n",
    "    jdata = json.load(f.open())\n",
    "    current_df = pd.json_normalize(jdata, sep='_')\n",
    "    current_df['spain_state'] = city_name_from_path(f)\n",
    "    df = df.append(current_df)\n",
    "\n",
    "df.head()"
   ]
  },
  {
   "cell_type": "markdown",
   "metadata": {},
   "source": [
    "Note that as we were appending the multiple dataframes, we were generating a new `spain_state` column. This will be pretty handy later because we are going to perform statistics regarding to the flats' state.\n",
    "\n",
    "As we can see on the previous table, each line contains NaN values, it could be produced because one flat doesn't have a parking space or something like that."
   ]
  },
  {
   "cell_type": "code",
   "execution_count": 67,
   "metadata": {
    "tags": []
   },
   "outputs": [
    {
     "output_type": "stream",
     "name": "stdout",
     "text": "Rows containing NaN: 9974\n"
    }
   ],
   "source": [
    "print('Rows containing NaN:', df.isna().any(axis=1).sum())"
   ]
  },
  {
   "cell_type": "markdown",
   "metadata": {},
   "source": [
    "## Removing NaNs"
   ]
  },
  {
   "cell_type": "markdown",
   "metadata": {},
   "source": [
    "To start removing NaNs values is always a good idea to know which columns contain those undesired values."
   ]
  },
  {
   "cell_type": "code",
   "execution_count": 68,
   "metadata": {},
   "outputs": [
    {
     "output_type": "execute_result",
     "data": {
      "text/plain": "propertyCode                                  False\nthumbnail                                      True\nexternalReference                              True\nnumPhotos                                     False\nfloor                                          True\nprice                                         False\npropertyType                                  False\noperation                                     False\nsize                                          False\nexterior                                      False\nrooms                                         False\nbathrooms                                     False\naddress                                       False\nprovince                                      False\nmunicipality                                  False\ndistrict                                       True\ncountry                                       False\nneighborhood                                   True\nlatitude                                      False\nlongitude                                     False\nshowAddress                                   False\nurl                                           False\ndistance                                      False\nhasVideo                                      False\nstatus                                         True\nnewDevelopment                                False\nhasLift                                        True\npriceByArea                                   False\nhasPlan                                       False\nhas3DTour                                     False\nhas360                                        False\ntopNewDevelopment                             False\ndetailedType_typology                         False\nsuggestedTexts_subtitle                       False\nsuggestedTexts_title                          False\nparkingSpace_hasParkingSpace                   True\nparkingSpace_isParkingSpaceIncludedInPrice     True\ndetailedType_subTypology                       True\nparkingSpace_parkingSpacePrice                 True\nnewDevelopmentFinished                         True\nspain_state                                   False\ndtype: bool"
     },
     "metadata": {},
     "execution_count": 68
    }
   ],
   "source": [
    "df.isna().any(0)"
   ]
  },
  {
   "cell_type": "code",
   "execution_count": 69,
   "metadata": {
    "tags": []
   },
   "outputs": [
    {
     "output_type": "stream",
     "name": "stdout",
     "text": "Number of columns that contain NaNs: 12\n"
    }
   ],
   "source": [
    "print('Number of columns that contain NaNs:', df.isna().any(0).sum())"
   ]
  },
  {
   "cell_type": "markdown",
   "metadata": {},
   "source": [
    "Only 12 columns out of 40 contain NaNs values.\n",
    "\n",
    "In the following subsections, we are going to remove the NaNs for each column and explaining why we decided to remove, replace or keep the NaN values."
   ]
  },
  {
   "cell_type": "markdown",
   "metadata": {},
   "source": [
    "### Thumbnail NaNs\n",
    "\n",
    "Thumbnail is the phtoto that users see while they are scrolling a search on the idealista web page. Setting a good Thumbnail is determining success factor to rent or sell your announced flat, home or whatever. Therefore we expect few NaNs on this column. "
   ]
  },
  {
   "cell_type": "code",
   "execution_count": 70,
   "metadata": {
    "tags": []
   },
   "outputs": [
    {
     "output_type": "stream",
     "name": "stdout",
     "text": "Thumbnail NaNs are 12 out of 9974 rows\n"
    }
   ],
   "source": [
    "print(f'Thumbnail NaNs are {df.thumbnail.isna().sum()} out of {df.shape[0]} rows')"
   ]
  },
  {
   "cell_type": "markdown",
   "metadata": {},
   "source": [
    "As exected we have a small percentace of ads without thumbnail. We think that keeping the NaNs here is a good idea because usually a flat without a cover image is not from a trustworthy person.\n",
    "\n",
    "Instead of keeping the NaNs, we are going to change them with a \"no image\" url. This will simplify the posterior dataframe querying and avoid unecessary filters."
   ]
  },
  {
   "cell_type": "code",
   "execution_count": 71,
   "metadata": {},
   "outputs": [],
   "source": [
    "nan_thumbnail_mask = df.thumbnail.isna()\n",
    "df.loc[nan_thumbnail_mask, 'thumbnail'] = 'https://thumbs.dreamstime.com/b/no-image-available-icon-photo-camera-flat-vector-illustration-132483141.jpg'"
   ]
  },
  {
   "cell_type": "code",
   "execution_count": 72,
   "metadata": {},
   "outputs": [
    {
     "output_type": "execute_result",
     "data": {
      "text/plain": "<PIL.Image.Image image mode=L size=128x128 at 0x28282BA8848>",
      "image/png": "[encoded data removed]"
     },
     "metadata": {},
     "execution_count": 72
    }
   ],
   "source": [
    "def download_image(url):\n",
    "    return Image.open(requests.get(url, stream=True).raw)\n",
    "\n",
    "download_image(df[nan_thumbnail_mask]['thumbnail'].iloc[0]).resize((128, 128))"
   ]
  },
  {
   "cell_type": "markdown",
   "metadata": {},
   "source": [
    "### External Reference NaNs\n",
    "\n",
    "External reference, is equivalent to the cadastral reference. It is the official and obligatory identifier of the real estate. It consists of an alphanumeric code that is assigned by the Cadastre so that every property must have a single cadastral reference that allows it to be placed unequivocally in the cadastral cartography."
   ]
  },
  {
   "cell_type": "code",
   "execution_count": 73,
   "metadata": {},
   "outputs": [
    {
     "output_type": "execute_result",
     "data": {
      "text/plain": "array(['AL_Sants', 'AB1508007-1', 'CB_BCN_0286_A', ..., 'Prinalv',\n       'Z-02170-AG', 'A5333'], dtype=object)"
     },
     "metadata": {},
     "execution_count": 73
    }
   ],
   "source": [
    "df.externalReference.unique()"
   ]
  },
  {
   "cell_type": "code",
   "execution_count": 74,
   "metadata": {
    "tags": []
   },
   "outputs": [
    {
     "output_type": "stream",
     "name": "stdout",
     "text": "External Reference NaNs are 1671 out of 9974 rows\n"
    }
   ],
   "source": [
    "print(f'External Reference NaNs are {df.externalReference.isna().sum()} out of {df.shape[0]} rows')"
   ]
  },
  {
   "cell_type": "markdown",
   "metadata": {},
   "source": [
    "Surprisingly, we have a lot of NaNs, around a 20% of the rows contain a NaN. \n",
    "\n",
    "Actually, this column is not statistically meaningful and by now, a unique identifier, does not provide any valuable insight.\n",
    "\n",
    "Therefore, we think that drop this column is the best way to handle these NaNs."
   ]
  },
  {
   "cell_type": "code",
   "execution_count": 75,
   "metadata": {},
   "outputs": [],
   "source": [
    "df.drop('externalReference', axis='columns', inplace=True)"
   ]
  },
  {
   "cell_type": "markdown",
   "metadata": {},
   "source": [
    "In a future, in case we need more data, we will go back here and keep this coloumn to perform web scrapping and retrieve more information."
   ]
  },
  {
   "cell_type": "markdown",
   "metadata": {},
   "source": [
    "### Floor NaNs\n",
    "\n",
    "The floor field determines in which floor is the flat or apartment.\n",
    "\n",
    "We expect some NaNs because chalets and or houses do not have a \"floor\", they are in the ground."
   ]
  },
  {
   "cell_type": "code",
   "execution_count": 76,
   "metadata": {
    "tags": []
   },
   "outputs": [
    {
     "output_type": "stream",
     "name": "stdout",
     "text": "Floor NaNs are 928 out of 9974 rows\n"
    }
   ],
   "source": [
    "print(f'Floor NaNs are {df.floor.isna().sum()} out of {df.shape[0]} rows')"
   ]
  },
  {
   "cell_type": "code",
   "execution_count": 77,
   "metadata": {},
   "outputs": [
    {
     "output_type": "execute_result",
     "data": {
      "text/plain": "flat            8402\npenthouse        587\nchalet           404\nstudio           334\nduplex           236\ncountryHouse      11\nName: propertyType, dtype: int64"
     },
     "metadata": {},
     "execution_count": 77
    }
   ],
   "source": [
    "df.propertyType.value_counts()"
   ]
  },
  {
   "cell_type": "code",
   "execution_count": 78,
   "metadata": {
    "tags": []
   },
   "outputs": [
    {
     "output_type": "stream",
     "name": "stdout",
     "text": "Property type flat has 494 floor NaN, which represents a 5%\nProperty type studio has 10 floor NaN, which represents a 2%\nProperty type duplex has 11 floor NaN, which represents a 4%\nProperty type penthouse has 31 floor NaN, which represents a 5%\nProperty type chalet has 375 floor NaN, which represents a 92%\nProperty type countryHouse has 7 floor NaN, which represents a 63%\n"
    }
   ],
   "source": [
    "for pt in df.propertyType.unique():\n",
    "    pt_nan = df[df.propertyType == pt].floor.isna().sum()\n",
    "    percentage = float(pt_nan) / df[df.propertyType == pt].shape[0]\n",
    "    print(f'Property type {pt} has {pt_nan} floor NaN, '\n",
    "          f'which represents a {int(percentage * 100)}%')"
   ]
  },
  {
   "cell_type": "code",
   "execution_count": 79,
   "metadata": {
    "tags": []
   },
   "outputs": [
    {
     "output_type": "display_data",
     "data": {
      "text/plain": "<Figure size 720x720 with 6 Axes>",
      "image/svg+xml": "<?xml version=\"1.0\" encoding=\"utf-8\" standalone=\"no\"?>\r\n<!DOCTYPE svg PUBLIC \"-//W3C//DTD SVG 1.1//EN\"\r\n  \"http://www.w3.org/Graphics/SVG/1.1/DTD/svg11.dtd\">\r\n<!-- Created with matplotlib (https://matplotlib.org/) -->\r\n<svg height=\"573.118125pt\" version=\"1.1\" viewBox=\"0 0 517.355669 573.118125\" width=\"517.355669pt\" xmlns=\"http://www.w3.org/2000/svg\" xmlns:xlink=\"http://www.w3.org/1999/xlink\">\r\n <defs>\r\n  <style type=\"text/css\">\r\n*{stroke-linecap:butt;stroke-linejoin:round;}\r\n  </style>\r\n </defs>\r\n <g id=\"figure_1\">\r\n  <g id=\"patch_1\">\r\n   <path d=\"M 0 573.118125 \r\nL 517.355669 573.118125 \r\nL 517.355669 0 \r\nL 0 0 \r\nz\r\n\" style=\"fill:none;\"/>\r\n  </g>\r\n  <g id=\"axes_1\">\r\n   <g id=\"patch_2\">\r\n    <path d=\"M 178.617077 102.259301 \r\nC 178.617077 98.318888 178.252899 94.386894 177.52919 90.51351 \r\nC 176.805482 86.640126 175.725337 82.841904 174.302542 79.167327 \r\nL 114.664136 102.259301 \r\nL 178.617077 102.259301 \r\nz\r\n\" style=\"fill:#1f77b4;\"/>\r\n   </g>\r\n   <g id=\"patch_3\">\r\n    <path d=\"M 174.302542 79.167327 \r\nC 171.44946 71.798826 167.255329 65.022492 161.933036 59.18228 \r\nC 156.610742 53.342067 150.251885 48.538489 143.179227 45.015365 \r\nC 136.10657 41.492241 128.441835 39.310206 120.574071 38.580016 \r\nC 112.706307 37.849826 104.770922 38.584048 97.170699 40.745414 \r\nC 89.570476 42.90678 82.43622 46.458092 76.130051 51.219092 \r\nC 69.823882 55.980092 64.454333 61.868842 60.293951 68.586439 \r\nC 56.133569 75.304036 53.253957 82.734868 51.801278 90.50176 \r\nC 50.348599 98.268652 50.347855 106.237933 51.799082 114.005096 \r\nC 53.25031 121.77226 56.128533 129.203629 60.28766 135.922004 \r\nC 64.446786 142.640378 69.815235 148.530131 76.120514 153.29231 \r\nC 82.425793 158.054488 89.559386 161.607133 97.159205 163.769919 \r\nC 104.759024 165.932705 112.694272 166.66841 120.562172 165.93969 \r\nC 128.430073 165.21097 136.095215 163.030367 143.168531 159.508565 \r\nC 150.241847 155.986763 156.601601 151.184373 161.924986 145.345155 \r\nC 167.24837 139.505937 171.443767 132.730387 174.298226 125.362419 \r\nC 177.152684 117.994451 178.617078 110.160871 178.617077 102.259295 \r\nL 114.664136 102.259301 \r\nL 174.302542 79.167327 \r\nz\r\n\" style=\"fill:#ff7f0e;\"/>\r\n   </g>\r\n   <g id=\"matplotlib.axis_1\"/>\r\n   <g id=\"matplotlib.axis_2\"/>\r\n   <g id=\"text_1\">\r\n    <!-- NaN -->\r\n    <defs>\r\n     <path d=\"M 9.8125 72.90625 \r\nL 23.09375 72.90625 \r\nL 55.421875 11.921875 \r\nL 55.421875 72.90625 \r\nL 64.984375 72.90625 \r\nL 64.984375 0 \r\nL 51.703125 0 \r\nL 19.390625 60.984375 \r\nL 19.390625 0 \r\nL 9.8125 0 \r\nz\r\n\" id=\"DejaVuSans-78\"/>\r\n     <path d=\"M 34.28125 27.484375 \r\nQ 23.390625 27.484375 19.1875 25 \r\nQ 14.984375 22.515625 14.984375 16.5 \r\nQ 14.984375 11.71875 18.140625 8.90625 \r\nQ 21.296875 6.109375 26.703125 6.109375 \r\nQ 34.1875 6.109375 38.703125 11.40625 \r\nQ 43.21875 16.703125 43.21875 25.484375 \r\nL 43.21875 27.484375 \r\nz\r\nM 52.203125 31.203125 \r\nL 52.203125 0 \r\nL 43.21875 0 \r\nL 43.21875 8.296875 \r\nQ 40.140625 3.328125 35.546875 0.953125 \r\nQ 30.953125 -1.421875 24.3125 -1.421875 \r\nQ 15.921875 -1.421875 10.953125 3.296875 \r\nQ 6 8.015625 6 15.921875 \r\nQ 6 25.140625 12.171875 29.828125 \r\nQ 18.359375 34.515625 30.609375 34.515625 \r\nL 43.21875 34.515625 \r\nL 43.21875 35.40625 \r\nQ 43.21875 41.609375 39.140625 45 \r\nQ 35.0625 48.390625 27.6875 48.390625 \r\nQ 23 48.390625 18.546875 47.265625 \r\nQ 14.109375 46.140625 10.015625 43.890625 \r\nL 10.015625 52.203125 \r\nQ 14.9375 54.109375 19.578125 55.046875 \r\nQ 24.21875 56 28.609375 56 \r\nQ 40.484375 56 46.34375 49.84375 \r\nQ 52.203125 43.703125 52.203125 31.203125 \r\nz\r\n\" id=\"DejaVuSans-97\"/>\r\n    </defs>\r\n    <g transform=\"translate(183.815696 92.098306)scale(0.1 -0.1)\">\r\n     <use xlink:href=\"#DejaVuSans-78\"/>\r\n     <use x=\"74.804688\" xlink:href=\"#DejaVuSans-97\"/>\r\n     <use x=\"136.083984\" xlink:href=\"#DejaVuSans-78\"/>\r\n    </g>\r\n   </g>\r\n   <g id=\"text_2\">\r\n    <!-- No NaN -->\r\n    <defs>\r\n     <path d=\"M 30.609375 48.390625 \r\nQ 23.390625 48.390625 19.1875 42.75 \r\nQ 14.984375 37.109375 14.984375 27.296875 \r\nQ 14.984375 17.484375 19.15625 11.84375 \r\nQ 23.34375 6.203125 30.609375 6.203125 \r\nQ 37.796875 6.203125 41.984375 11.859375 \r\nQ 46.1875 17.53125 46.1875 27.296875 \r\nQ 46.1875 37.015625 41.984375 42.703125 \r\nQ 37.796875 48.390625 30.609375 48.390625 \r\nz\r\nM 30.609375 56 \r\nQ 42.328125 56 49.015625 48.375 \r\nQ 55.71875 40.765625 55.71875 27.296875 \r\nQ 55.71875 13.875 49.015625 6.21875 \r\nQ 42.328125 -1.421875 30.609375 -1.421875 \r\nQ 18.84375 -1.421875 12.171875 6.21875 \r\nQ 5.515625 13.875 5.515625 27.296875 \r\nQ 5.515625 40.765625 12.171875 48.375 \r\nQ 18.84375 56 30.609375 56 \r\nz\r\n\" id=\"DejaVuSans-111\"/>\r\n     <path id=\"DejaVuSans-32\"/>\r\n    </defs>\r\n    <g transform=\"translate(7.643827 117.939051)scale(0.1 -0.1)\">\r\n     <use xlink:href=\"#DejaVuSans-78\"/>\r\n     <use x=\"74.804688\" xlink:href=\"#DejaVuSans-111\"/>\r\n     <use x=\"135.986328\" xlink:href=\"#DejaVuSans-32\"/>\r\n     <use x=\"167.773438\" xlink:href=\"#DejaVuSans-78\"/>\r\n     <use x=\"242.578125\" xlink:href=\"#DejaVuSans-97\"/>\r\n     <use x=\"303.857422\" xlink:href=\"#DejaVuSans-78\"/>\r\n    </g>\r\n   </g>\r\n   <g id=\"text_3\">\r\n    <!-- flat -->\r\n    <defs>\r\n     <path d=\"M 37.109375 75.984375 \r\nL 37.109375 68.5 \r\nL 28.515625 68.5 \r\nQ 23.6875 68.5 21.796875 66.546875 \r\nQ 19.921875 64.59375 19.921875 59.515625 \r\nL 19.921875 54.6875 \r\nL 34.71875 54.6875 \r\nL 34.71875 47.703125 \r\nL 19.921875 47.703125 \r\nL 19.921875 0 \r\nL 10.890625 0 \r\nL 10.890625 47.703125 \r\nL 2.296875 47.703125 \r\nL 2.296875 54.6875 \r\nL 10.890625 54.6875 \r\nL 10.890625 58.5 \r\nQ 10.890625 67.625 15.140625 71.796875 \r\nQ 19.390625 75.984375 28.609375 75.984375 \r\nz\r\n\" id=\"DejaVuSans-102\"/>\r\n     <path d=\"M 9.421875 75.984375 \r\nL 18.40625 75.984375 \r\nL 18.40625 0 \r\nL 9.421875 0 \r\nz\r\n\" id=\"DejaVuSans-108\"/>\r\n     <path d=\"M 18.3125 70.21875 \r\nL 18.3125 54.6875 \r\nL 36.8125 54.6875 \r\nL 36.8125 47.703125 \r\nL 18.3125 47.703125 \r\nL 18.3125 18.015625 \r\nQ 18.3125 11.328125 20.140625 9.421875 \r\nQ 21.96875 7.515625 27.59375 7.515625 \r\nL 36.8125 7.515625 \r\nL 36.8125 0 \r\nL 27.59375 0 \r\nQ 17.1875 0 13.234375 3.875 \r\nQ 9.28125 7.765625 9.28125 18.015625 \r\nL 9.28125 47.703125 \r\nL 2.6875 47.703125 \r\nL 2.6875 54.6875 \r\nL 9.28125 54.6875 \r\nL 9.28125 70.21875 \r\nz\r\n\" id=\"DejaVuSans-116\"/>\r\n    </defs>\r\n    <g transform=\"translate(104.856011 16.318125)scale(0.12 -0.12)\">\r\n     <use xlink:href=\"#DejaVuSans-102\"/>\r\n     <use x=\"35.205078\" xlink:href=\"#DejaVuSans-108\"/>\r\n     <use x=\"62.988281\" xlink:href=\"#DejaVuSans-97\"/>\r\n     <use x=\"124.267578\" xlink:href=\"#DejaVuSans-116\"/>\r\n    </g>\r\n   </g>\r\n  </g>\r\n  <g id=\"axes_2\">\r\n   <g id=\"patch_4\">\r\n    <path d=\"M 482.980714 102.259301 \r\nC 482.980714 100.253801 482.886378 98.249411 482.698019 96.252776 \r\nC 482.509661 94.256141 482.227487 92.26947 481.852435 90.299352 \r\nL 419.027772 102.259301 \r\nL 482.980714 102.259301 \r\nz\r\n\" style=\"fill:#1f77b4;\"/>\r\n   </g>\r\n   <g id=\"patch_5\">\r\n    <path d=\"M 481.852435 90.299352 \r\nC 480.329178 82.297802 477.291197 74.66044 472.9022 67.798821 \r\nC 468.513203 60.937202 462.853469 54.97683 456.227984 50.238892 \r\nC 449.602498 45.500955 442.132447 42.072112 434.22037 40.137134 \r\nC 426.308292 38.202156 418.098906 37.796436 410.034592 38.941836 \r\nC 401.970277 40.087237 394.198537 42.762807 387.138167 46.824369 \r\nC 380.077797 50.885931 373.857937 56.259195 368.813758 62.654612 \r\nC 363.769578 69.05003 359.99334 76.350622 357.688536 84.162984 \r\nC 355.383731 91.975345 354.592515 100.156579 355.357525 108.265825 \r\nC 356.122535 116.375071 358.429778 124.264004 362.154924 131.507511 \r\nC 365.880069 138.751019 370.954981 145.216612 377.106187 150.555879 \r\nC 383.257394 155.895146 390.372384 160.010427 398.067752 162.679962 \r\nC 405.763121 165.349497 413.898112 166.524458 422.034357 166.14153 \r\nC 430.170602 165.758602 438.15928 163.824789 445.569907 160.444297 \r\nC 452.980534 157.063806 459.677563 152.29847 465.30011 146.405077 \r\nC 470.922657 140.511684 475.367881 133.598031 478.396243 126.036673 \r\nC 481.424605 118.475315 482.980713 110.404556 482.980714 102.259305 \r\nL 419.027772 102.259301 \r\nL 481.852435 90.299352 \r\nz\r\n\" style=\"fill:#ff7f0e;\"/>\r\n   </g>\r\n   <g id=\"matplotlib.axis_3\"/>\r\n   <g id=\"matplotlib.axis_4\"/>\r\n   <g id=\"text_4\">\r\n    <!-- NaN -->\r\n    <g transform=\"translate(489.065044 98.411498)scale(0.1 -0.1)\">\r\n     <use xlink:href=\"#DejaVuSans-78\"/>\r\n     <use x=\"74.804688\" xlink:href=\"#DejaVuSans-97\"/>\r\n     <use x=\"136.083984\" xlink:href=\"#DejaVuSans-78\"/>\r\n    </g>\r\n   </g>\r\n   <g id=\"text_5\">\r\n    <!-- No NaN -->\r\n    <g transform=\"translate(311.121751 111.625853)scale(0.1 -0.1)\">\r\n     <use xlink:href=\"#DejaVuSans-78\"/>\r\n     <use x=\"74.804688\" xlink:href=\"#DejaVuSans-111\"/>\r\n     <use x=\"135.986328\" xlink:href=\"#DejaVuSans-32\"/>\r\n     <use x=\"167.773438\" xlink:href=\"#DejaVuSans-78\"/>\r\n     <use x=\"242.578125\" xlink:href=\"#DejaVuSans-97\"/>\r\n     <use x=\"303.857422\" xlink:href=\"#DejaVuSans-78\"/>\r\n    </g>\r\n   </g>\r\n   <g id=\"text_6\">\r\n    <!-- studio -->\r\n    <defs>\r\n     <path d=\"M 44.28125 53.078125 \r\nL 44.28125 44.578125 \r\nQ 40.484375 46.53125 36.375 47.5 \r\nQ 32.28125 48.484375 27.875 48.484375 \r\nQ 21.1875 48.484375 17.84375 46.4375 \r\nQ 14.5 44.390625 14.5 40.28125 \r\nQ 14.5 37.15625 16.890625 35.375 \r\nQ 19.28125 33.59375 26.515625 31.984375 \r\nL 29.59375 31.296875 \r\nQ 39.15625 29.25 43.1875 25.515625 \r\nQ 47.21875 21.78125 47.21875 15.09375 \r\nQ 47.21875 7.46875 41.1875 3.015625 \r\nQ 35.15625 -1.421875 24.609375 -1.421875 \r\nQ 20.21875 -1.421875 15.453125 -0.5625 \r\nQ 10.6875 0.296875 5.421875 2 \r\nL 5.421875 11.28125 \r\nQ 10.40625 8.6875 15.234375 7.390625 \r\nQ 20.0625 6.109375 24.8125 6.109375 \r\nQ 31.15625 6.109375 34.5625 8.28125 \r\nQ 37.984375 10.453125 37.984375 14.40625 \r\nQ 37.984375 18.0625 35.515625 20.015625 \r\nQ 33.0625 21.96875 24.703125 23.78125 \r\nL 21.578125 24.515625 \r\nQ 13.234375 26.265625 9.515625 29.90625 \r\nQ 5.8125 33.546875 5.8125 39.890625 \r\nQ 5.8125 47.609375 11.28125 51.796875 \r\nQ 16.75 56 26.8125 56 \r\nQ 31.78125 56 36.171875 55.265625 \r\nQ 40.578125 54.546875 44.28125 53.078125 \r\nz\r\n\" id=\"DejaVuSans-115\"/>\r\n     <path d=\"M 8.5 21.578125 \r\nL 8.5 54.6875 \r\nL 17.484375 54.6875 \r\nL 17.484375 21.921875 \r\nQ 17.484375 14.15625 20.5 10.265625 \r\nQ 23.53125 6.390625 29.59375 6.390625 \r\nQ 36.859375 6.390625 41.078125 11.03125 \r\nQ 45.3125 15.671875 45.3125 23.6875 \r\nL 45.3125 54.6875 \r\nL 54.296875 54.6875 \r\nL 54.296875 0 \r\nL 45.3125 0 \r\nL 45.3125 8.40625 \r\nQ 42.046875 3.421875 37.71875 1 \r\nQ 33.40625 -1.421875 27.6875 -1.421875 \r\nQ 18.265625 -1.421875 13.375 4.4375 \r\nQ 8.5 10.296875 8.5 21.578125 \r\nz\r\nM 31.109375 56 \r\nz\r\n\" id=\"DejaVuSans-117\"/>\r\n     <path d=\"M 45.40625 46.390625 \r\nL 45.40625 75.984375 \r\nL 54.390625 75.984375 \r\nL 54.390625 0 \r\nL 45.40625 0 \r\nL 45.40625 8.203125 \r\nQ 42.578125 3.328125 38.25 0.953125 \r\nQ 33.9375 -1.421875 27.875 -1.421875 \r\nQ 17.96875 -1.421875 11.734375 6.484375 \r\nQ 5.515625 14.40625 5.515625 27.296875 \r\nQ 5.515625 40.1875 11.734375 48.09375 \r\nQ 17.96875 56 27.875 56 \r\nQ 33.9375 56 38.25 53.625 \r\nQ 42.578125 51.265625 45.40625 46.390625 \r\nz\r\nM 14.796875 27.296875 \r\nQ 14.796875 17.390625 18.875 11.75 \r\nQ 22.953125 6.109375 30.078125 6.109375 \r\nQ 37.203125 6.109375 41.296875 11.75 \r\nQ 45.40625 17.390625 45.40625 27.296875 \r\nQ 45.40625 37.203125 41.296875 42.84375 \r\nQ 37.203125 48.484375 30.078125 48.484375 \r\nQ 22.953125 48.484375 18.875 42.84375 \r\nQ 14.796875 37.203125 14.796875 27.296875 \r\nz\r\n\" id=\"DejaVuSans-100\"/>\r\n     <path d=\"M 9.421875 54.6875 \r\nL 18.40625 54.6875 \r\nL 18.40625 0 \r\nL 9.421875 0 \r\nz\r\nM 9.421875 75.984375 \r\nL 18.40625 75.984375 \r\nL 18.40625 64.59375 \r\nL 9.421875 64.59375 \r\nz\r\n\" id=\"DejaVuSans-105\"/>\r\n    </defs>\r\n    <g transform=\"translate(400.600272 16.318125)scale(0.12 -0.12)\">\r\n     <use xlink:href=\"#DejaVuSans-115\"/>\r\n     <use x=\"52.099609\" xlink:href=\"#DejaVuSans-116\"/>\r\n     <use x=\"91.308594\" xlink:href=\"#DejaVuSans-117\"/>\r\n     <use x=\"154.6875\" xlink:href=\"#DejaVuSans-100\"/>\r\n     <use x=\"218.164062\" xlink:href=\"#DejaVuSans-105\"/>\r\n     <use x=\"245.947266\" xlink:href=\"#DejaVuSans-111\"/>\r\n    </g>\r\n   </g>\r\n  </g>\r\n  <g id=\"axes_3\">\r\n   <g id=\"patch_6\">\r\n    <path d=\"M 178.617077 294.118125 \r\nC 178.617077 290.995185 178.388329 287.876435 177.932669 284.786915 \r\nC 177.477008 281.697396 176.795659 278.645398 175.894091 275.655426 \r\nL 114.664136 294.118125 \r\nL 178.617077 294.118125 \r\nz\r\n\" style=\"fill:#1f77b4;\"/>\r\n   </g>\r\n   <g id=\"patch_7\">\r\n    <path d=\"M 175.894091 275.655426 \r\nC 173.583268 267.991778 169.854059 260.829651 164.900637 254.541963 \r\nC 159.947216 248.254275 153.857073 242.952084 146.947311 238.911465 \r\nC 140.03755 234.870847 132.430214 232.163169 124.521405 230.929416 \r\nC 116.612596 229.695663 108.542005 229.957626 100.729852 231.701666 \r\nC 92.917699 233.445705 85.501969 236.641016 78.868784 241.121224 \r\nC 72.2356 245.601433 66.502121 251.287407 61.966881 257.883087 \r\nC 57.431641 264.478767 54.174742 271.867656 52.365768 279.665029 \r\nC 50.556793 287.462401 50.227693 295.530534 51.395603 303.449333 \r\nC 52.563514 311.368133 55.207806 318.997733 59.190796 325.940873 \r\nC 63.173787 332.884012 68.425125 339.018058 74.671384 344.02362 \r\nC 80.917643 349.029183 88.048496 352.817851 95.692653 355.192355 \r\nC 103.33681 357.566858 111.359254 358.485258 119.342272 357.899735 \r\nC 127.325289 357.314211 135.127878 355.235106 142.343771 351.770675 \r\nC 149.559665 348.306243 156.061411 343.517677 161.510475 337.654307 \r\nC 166.95954 331.790938 171.259677 324.956328 174.186988 317.506345 \r\nC 177.114298 310.056361 178.617077 302.122589 178.617077 294.118128 \r\nL 114.664136 294.118125 \r\nL 175.894091 275.655426 \r\nz\r\n\" style=\"fill:#ff7f0e;\"/>\r\n   </g>\r\n   <g id=\"matplotlib.axis_5\"/>\r\n   <g id=\"matplotlib.axis_6\"/>\r\n   <g id=\"text_7\">\r\n    <!-- NaN -->\r\n    <g transform=\"translate(184.259522 286.613169)scale(0.1 -0.1)\">\r\n     <use xlink:href=\"#DejaVuSans-78\"/>\r\n     <use x=\"74.804688\" xlink:href=\"#DejaVuSans-97\"/>\r\n     <use x=\"136.083984\" xlink:href=\"#DejaVuSans-78\"/>\r\n    </g>\r\n   </g>\r\n   <g id=\"text_8\">\r\n    <!-- No NaN -->\r\n    <g transform=\"translate(7.2 307.141829)scale(0.1 -0.1)\">\r\n     <use xlink:href=\"#DejaVuSans-78\"/>\r\n     <use x=\"74.804688\" xlink:href=\"#DejaVuSans-111\"/>\r\n     <use x=\"135.986328\" xlink:href=\"#DejaVuSans-32\"/>\r\n     <use x=\"167.773438\" xlink:href=\"#DejaVuSans-78\"/>\r\n     <use x=\"242.578125\" xlink:href=\"#DejaVuSans-97\"/>\r\n     <use x=\"303.857422\" xlink:href=\"#DejaVuSans-78\"/>\r\n    </g>\r\n   </g>\r\n   <g id=\"text_9\">\r\n    <!-- duplex -->\r\n    <defs>\r\n     <path d=\"M 18.109375 8.203125 \r\nL 18.109375 -20.796875 \r\nL 9.078125 -20.796875 \r\nL 9.078125 54.6875 \r\nL 18.109375 54.6875 \r\nL 18.109375 46.390625 \r\nQ 20.953125 51.265625 25.265625 53.625 \r\nQ 29.59375 56 35.59375 56 \r\nQ 45.5625 56 51.78125 48.09375 \r\nQ 58.015625 40.1875 58.015625 27.296875 \r\nQ 58.015625 14.40625 51.78125 6.484375 \r\nQ 45.5625 -1.421875 35.59375 -1.421875 \r\nQ 29.59375 -1.421875 25.265625 0.953125 \r\nQ 20.953125 3.328125 18.109375 8.203125 \r\nz\r\nM 48.6875 27.296875 \r\nQ 48.6875 37.203125 44.609375 42.84375 \r\nQ 40.53125 48.484375 33.40625 48.484375 \r\nQ 26.265625 48.484375 22.1875 42.84375 \r\nQ 18.109375 37.203125 18.109375 27.296875 \r\nQ 18.109375 17.390625 22.1875 11.75 \r\nQ 26.265625 6.109375 33.40625 6.109375 \r\nQ 40.53125 6.109375 44.609375 11.75 \r\nQ 48.6875 17.390625 48.6875 27.296875 \r\nz\r\n\" id=\"DejaVuSans-112\"/>\r\n     <path d=\"M 56.203125 29.59375 \r\nL 56.203125 25.203125 \r\nL 14.890625 25.203125 \r\nQ 15.484375 15.921875 20.484375 11.0625 \r\nQ 25.484375 6.203125 34.421875 6.203125 \r\nQ 39.59375 6.203125 44.453125 7.46875 \r\nQ 49.3125 8.734375 54.109375 11.28125 \r\nL 54.109375 2.78125 \r\nQ 49.265625 0.734375 44.1875 -0.34375 \r\nQ 39.109375 -1.421875 33.890625 -1.421875 \r\nQ 20.796875 -1.421875 13.15625 6.1875 \r\nQ 5.515625 13.8125 5.515625 26.8125 \r\nQ 5.515625 40.234375 12.765625 48.109375 \r\nQ 20.015625 56 32.328125 56 \r\nQ 43.359375 56 49.78125 48.890625 \r\nQ 56.203125 41.796875 56.203125 29.59375 \r\nz\r\nM 47.21875 32.234375 \r\nQ 47.125 39.59375 43.09375 43.984375 \r\nQ 39.0625 48.390625 32.421875 48.390625 \r\nQ 24.90625 48.390625 20.390625 44.140625 \r\nQ 15.875 39.890625 15.1875 32.171875 \r\nz\r\n\" id=\"DejaVuSans-101\"/>\r\n     <path d=\"M 54.890625 54.6875 \r\nL 35.109375 28.078125 \r\nL 55.90625 0 \r\nL 45.3125 0 \r\nL 29.390625 21.484375 \r\nL 13.484375 0 \r\nL 2.875 0 \r\nL 24.125 28.609375 \r\nL 4.6875 54.6875 \r\nL 15.28125 54.6875 \r\nL 29.78125 35.203125 \r\nL 44.28125 54.6875 \r\nz\r\n\" id=\"DejaVuSans-120\"/>\r\n    </defs>\r\n    <g transform=\"translate(94.334449 208.176949)scale(0.12 -0.12)\">\r\n     <use xlink:href=\"#DejaVuSans-100\"/>\r\n     <use x=\"63.476562\" xlink:href=\"#DejaVuSans-117\"/>\r\n     <use x=\"126.855469\" xlink:href=\"#DejaVuSans-112\"/>\r\n     <use x=\"190.332031\" xlink:href=\"#DejaVuSans-108\"/>\r\n     <use x=\"218.115234\" xlink:href=\"#DejaVuSans-101\"/>\r\n     <use x=\"279.623047\" xlink:href=\"#DejaVuSans-120\"/>\r\n    </g>\r\n   </g>\r\n  </g>\r\n  <g id=\"axes_4\">\r\n   <g id=\"patch_8\">\r\n    <path d=\"M 482.980714 294.118125 \r\nC 482.980714 290.57928 482.68698 287.046532 482.102539 283.556281 \r\nC 481.518097 280.06603 480.644963 276.630303 479.492131 273.284499 \r\nL 419.027772 294.118125 \r\nL 482.980714 294.118125 \r\nz\r\n\" style=\"fill:#1f77b4;\"/>\r\n   </g>\r\n   <g id=\"patch_9\">\r\n    <path d=\"M 479.492131 273.284499 \r\nC 476.901615 265.766177 472.931401 258.796552 467.785556 252.733862 \r\nC 462.639711 246.671171 456.407936 241.621097 449.410542 237.843211 \r\nC 442.413148 234.065325 434.772112 231.625482 426.88018 230.64909 \r\nC 418.988247 229.672698 410.982988 230.176776 403.27587 232.135416 \r\nC 395.568751 234.094055 388.294122 237.473113 381.825895 242.098908 \r\nC 375.357667 246.724702 369.808594 252.516597 365.463895 259.176893 \r\nC 361.119196 265.837188 358.054607 273.249782 356.427646 281.033672 \r\nC 354.800686 288.817562 354.639714 296.83706 355.953006 304.679968 \r\nC 357.266298 312.522876 360.030959 320.052478 364.104889 326.881757 \r\nC 368.178818 333.711035 373.491 339.720943 379.76839 344.602574 \r\nC 386.045779 349.484205 393.178951 353.152463 400.801264 355.418803 \r\nC 408.423576 357.685142 416.402159 358.510056 424.326916 357.851144 \r\nC 432.251673 357.192233 439.984463 355.060982 447.127822 351.566936 \r\nC 454.271182 348.07289 460.700591 343.276958 466.085579 337.425647 \r\nC 471.470568 331.574336 475.717268 324.769646 478.607399 317.361335 \r\nC 481.49753 309.953023 482.980713 302.07023 482.980714 294.118126 \r\nL 419.027772 294.118125 \r\nL 479.492131 273.284499 \r\nz\r\n\" style=\"fill:#ff7f0e;\"/>\r\n   </g>\r\n   <g id=\"matplotlib.axis_7\"/>\r\n   <g id=\"matplotlib.axis_8\"/>\r\n   <g id=\"text_10\">\r\n    <!-- NaN -->\r\n    <g transform=\"translate(488.410015 285.259472)scale(0.1 -0.1)\">\r\n     <use xlink:href=\"#DejaVuSans-78\"/>\r\n     <use x=\"74.804688\" xlink:href=\"#DejaVuSans-97\"/>\r\n     <use x=\"136.083984\" xlink:href=\"#DejaVuSans-78\"/>\r\n    </g>\r\n   </g>\r\n   <g id=\"text_11\">\r\n    <!-- No NaN -->\r\n    <g transform=\"translate(311.776779 308.495528)scale(0.1 -0.1)\">\r\n     <use xlink:href=\"#DejaVuSans-78\"/>\r\n     <use x=\"74.804688\" xlink:href=\"#DejaVuSans-111\"/>\r\n     <use x=\"135.986328\" xlink:href=\"#DejaVuSans-32\"/>\r\n     <use x=\"167.773438\" xlink:href=\"#DejaVuSans-78\"/>\r\n     <use x=\"242.578125\" xlink:href=\"#DejaVuSans-97\"/>\r\n     <use x=\"303.857422\" xlink:href=\"#DejaVuSans-78\"/>\r\n    </g>\r\n   </g>\r\n   <g id=\"text_12\">\r\n    <!-- penthouse -->\r\n    <defs>\r\n     <path d=\"M 54.890625 33.015625 \r\nL 54.890625 0 \r\nL 45.90625 0 \r\nL 45.90625 32.71875 \r\nQ 45.90625 40.484375 42.875 44.328125 \r\nQ 39.84375 48.1875 33.796875 48.1875 \r\nQ 26.515625 48.1875 22.3125 43.546875 \r\nQ 18.109375 38.921875 18.109375 30.90625 \r\nL 18.109375 0 \r\nL 9.078125 0 \r\nL 9.078125 54.6875 \r\nL 18.109375 54.6875 \r\nL 18.109375 46.1875 \r\nQ 21.34375 51.125 25.703125 53.5625 \r\nQ 30.078125 56 35.796875 56 \r\nQ 45.21875 56 50.046875 50.171875 \r\nQ 54.890625 44.34375 54.890625 33.015625 \r\nz\r\n\" id=\"DejaVuSans-110\"/>\r\n     <path d=\"M 54.890625 33.015625 \r\nL 54.890625 0 \r\nL 45.90625 0 \r\nL 45.90625 32.71875 \r\nQ 45.90625 40.484375 42.875 44.328125 \r\nQ 39.84375 48.1875 33.796875 48.1875 \r\nQ 26.515625 48.1875 22.3125 43.546875 \r\nQ 18.109375 38.921875 18.109375 30.90625 \r\nL 18.109375 0 \r\nL 9.078125 0 \r\nL 9.078125 75.984375 \r\nL 18.109375 75.984375 \r\nL 18.109375 46.1875 \r\nQ 21.34375 51.125 25.703125 53.5625 \r\nQ 30.078125 56 35.796875 56 \r\nQ 45.21875 56 50.046875 50.171875 \r\nQ 54.890625 44.34375 54.890625 33.015625 \r\nz\r\n\" id=\"DejaVuSans-104\"/>\r\n    </defs>\r\n    <g transform=\"translate(387.278397 208.176949)scale(0.12 -0.12)\">\r\n     <use xlink:href=\"#DejaVuSans-112\"/>\r\n     <use x=\"63.476562\" xlink:href=\"#DejaVuSans-101\"/>\r\n     <use x=\"125\" xlink:href=\"#DejaVuSans-110\"/>\r\n     <use x=\"188.378906\" xlink:href=\"#DejaVuSans-116\"/>\r\n     <use x=\"227.587891\" xlink:href=\"#DejaVuSans-104\"/>\r\n     <use x=\"290.966797\" xlink:href=\"#DejaVuSans-111\"/>\r\n     <use x=\"352.148438\" xlink:href=\"#DejaVuSans-117\"/>\r\n     <use x=\"415.527344\" xlink:href=\"#DejaVuSans-115\"/>\r\n     <use x=\"467.626953\" xlink:href=\"#DejaVuSans-101\"/>\r\n    </g>\r\n   </g>\r\n  </g>\r\n  <g id=\"axes_5\">\r\n   <g id=\"patch_10\">\r\n    <path d=\"M 178.617077 485.976949 \r\nC 178.617077 478.185001 177.193035 470.458254 174.41527 463.178249 \r\nC 171.637505 455.898245 167.552502 449.186816 162.361979 443.37537 \r\nC 157.171455 437.563924 150.962274 432.749716 144.041043 429.17047 \r\nC 137.119812 425.591224 129.602358 423.306839 121.859891 422.430117 \r\nC 114.117423 421.553395 106.279514 422.099008 98.733194 424.040015 \r\nC 91.186875 425.981021 84.058434 429.284937 77.699873 433.788617 \r\nC 71.341311 438.292298 65.859039 443.920372 61.52377 450.394928 \r\nC 57.1885 456.869485 54.072785 464.082171 52.330476 471.676827 \r\nC 50.588167 479.271483 50.248422 487.121011 51.328018 494.837806 \r\nC 52.407614 502.554601 54.888483 510.009519 58.648122 516.834441 \r\nC 62.407761 523.659363 67.38325 529.740072 73.328904 534.776306 \r\nC 79.274557 539.812539 86.090872 543.720015 93.441263 546.305784 \r\nC 100.791654 548.891552 108.55311 550.11234 116.342374 549.907866 \r\nC 124.131638 549.703392 131.818355 548.077077 139.022959 545.109228 \r\nC 146.227563 542.141379 152.829483 537.881664 158.502719 532.540425 \r\nC 164.175956 527.199186 168.825566 520.86581 172.221954 513.853037 \r\nL 114.664136 485.976949 \r\nL 178.617077 485.976949 \r\nz\r\n\" style=\"fill:#1f77b4;\"/>\r\n   </g>\r\n   <g id=\"patch_11\">\r\n    <path d=\"M 172.221954 513.853037 \r\nC 174.31962 509.52183 175.921717 504.967656 176.997797 500.277069 \r\nC 178.073876 495.586481 178.617077 490.789384 178.617077 485.976946 \r\nL 114.664136 485.976949 \r\nL 172.221954 513.853037 \r\nz\r\n\" style=\"fill:#ff7f0e;\"/>\r\n   </g>\r\n   <g id=\"matplotlib.axis_9\"/>\r\n   <g id=\"matplotlib.axis_10\"/>\r\n   <g id=\"text_13\">\r\n    <!-- NaN -->\r\n    <g transform=\"translate(25.006485 473.00619)scale(0.1 -0.1)\">\r\n     <use xlink:href=\"#DejaVuSans-78\"/>\r\n     <use x=\"74.804688\" xlink:href=\"#DejaVuSans-97\"/>\r\n     <use x=\"136.083984\" xlink:href=\"#DejaVuSans-78\"/>\r\n    </g>\r\n   </g>\r\n   <g id=\"text_14\">\r\n    <!-- No NaN -->\r\n    <g transform=\"translate(183.231163 504.466456)scale(0.1 -0.1)\">\r\n     <use xlink:href=\"#DejaVuSans-78\"/>\r\n     <use x=\"74.804688\" xlink:href=\"#DejaVuSans-111\"/>\r\n     <use x=\"135.986328\" xlink:href=\"#DejaVuSans-32\"/>\r\n     <use x=\"167.773438\" xlink:href=\"#DejaVuSans-78\"/>\r\n     <use x=\"242.578125\" xlink:href=\"#DejaVuSans-97\"/>\r\n     <use x=\"303.857422\" xlink:href=\"#DejaVuSans-78\"/>\r\n    </g>\r\n   </g>\r\n   <g id=\"text_15\">\r\n    <!-- chalet -->\r\n    <defs>\r\n     <path d=\"M 48.78125 52.59375 \r\nL 48.78125 44.1875 \r\nQ 44.96875 46.296875 41.140625 47.34375 \r\nQ 37.3125 48.390625 33.40625 48.390625 \r\nQ 24.65625 48.390625 19.8125 42.84375 \r\nQ 14.984375 37.3125 14.984375 27.296875 \r\nQ 14.984375 17.28125 19.8125 11.734375 \r\nQ 24.65625 6.203125 33.40625 6.203125 \r\nQ 37.3125 6.203125 41.140625 7.25 \r\nQ 44.96875 8.296875 48.78125 10.40625 \r\nL 48.78125 2.09375 \r\nQ 45.015625 0.34375 40.984375 -0.53125 \r\nQ 36.96875 -1.421875 32.421875 -1.421875 \r\nQ 20.0625 -1.421875 12.78125 6.34375 \r\nQ 5.515625 14.109375 5.515625 27.296875 \r\nQ 5.515625 40.671875 12.859375 48.328125 \r\nQ 20.21875 56 33.015625 56 \r\nQ 37.15625 56 41.109375 55.140625 \r\nQ 45.0625 54.296875 48.78125 52.59375 \r\nz\r\n\" id=\"DejaVuSans-99\"/>\r\n    </defs>\r\n    <g transform=\"translate(96.174761 400.035772)scale(0.12 -0.12)\">\r\n     <use xlink:href=\"#DejaVuSans-99\"/>\r\n     <use x=\"54.980469\" xlink:href=\"#DejaVuSans-104\"/>\r\n     <use x=\"118.359375\" xlink:href=\"#DejaVuSans-97\"/>\r\n     <use x=\"179.638672\" xlink:href=\"#DejaVuSans-108\"/>\r\n     <use x=\"207.421875\" xlink:href=\"#DejaVuSans-101\"/>\r\n     <use x=\"268.945312\" xlink:href=\"#DejaVuSans-116\"/>\r\n    </g>\r\n   </g>\r\n  </g>\r\n  <g id=\"axes_6\">\r\n   <g id=\"patch_12\">\r\n    <path d=\"M 482.980714 485.976949 \r\nC 482.980714 475.267279 480.290524 464.727219 475.157925 455.327567 \r\nC 470.025327 445.927914 462.612891 437.966396 453.603344 432.176311 \r\nC 444.593796 426.386227 434.272508 422.950972 423.590125 422.186952 \r\nC 412.907742 421.422933 402.202621 423.354349 392.460762 427.803306 \r\nC 382.718904 432.252263 374.248874 439.077845 367.830807 447.651377 \r\nC 361.412741 456.224909 357.249926 466.274832 355.72578 476.875493 \r\nC 354.201635 487.476154 355.364435 498.291785 359.10708 508.326207 \r\nC 362.849726 518.36063 369.053671 527.296011 377.147499 534.309354 \r\nL 419.027772 485.976949 \r\nL 482.980714 485.976949 \r\nz\r\n\" style=\"fill:#1f77b4;\"/>\r\n   </g>\r\n   <g id=\"patch_13\">\r\n    <path d=\"M 377.147499 534.309354 \r\nC 386.412054 542.337138 397.792329 547.534336 409.926317 549.278941 \r\nC 422.060304 551.023545 434.443818 549.243065 445.594782 544.150591 \r\nC 456.745746 539.058117 466.200821 530.865248 472.82841 520.55252 \r\nC 479.455998 510.239792 482.980714 498.235712 482.980714 485.976949 \r\nL 419.027772 485.976949 \r\nL 377.147499 534.309354 \r\nz\r\n\" style=\"fill:#ff7f0e;\"/>\r\n   </g>\r\n   <g id=\"matplotlib.axis_11\"/>\r\n   <g id=\"matplotlib.axis_12\"/>\r\n   <g id=\"text_16\">\r\n    <!-- NaN -->\r\n    <g transform=\"translate(368.713436 424.745317)scale(0.1 -0.1)\">\r\n     <use xlink:href=\"#DejaVuSans-78\"/>\r\n     <use x=\"74.804688\" xlink:href=\"#DejaVuSans-97\"/>\r\n     <use x=\"136.083984\" xlink:href=\"#DejaVuSans-78\"/>\r\n    </g>\r\n   </g>\r\n   <g id=\"text_17\">\r\n    <!-- No NaN -->\r\n    <g transform=\"translate(448.251483 552.72733)scale(0.1 -0.1)\">\r\n     <use xlink:href=\"#DejaVuSans-78\"/>\r\n     <use x=\"74.804688\" xlink:href=\"#DejaVuSans-111\"/>\r\n     <use x=\"135.986328\" xlink:href=\"#DejaVuSans-32\"/>\r\n     <use x=\"167.773438\" xlink:href=\"#DejaVuSans-78\"/>\r\n     <use x=\"242.578125\" xlink:href=\"#DejaVuSans-97\"/>\r\n     <use x=\"303.857422\" xlink:href=\"#DejaVuSans-78\"/>\r\n    </g>\r\n   </g>\r\n   <g id=\"text_18\">\r\n    <!-- countryHouse -->\r\n    <defs>\r\n     <path d=\"M 41.109375 46.296875 \r\nQ 39.59375 47.171875 37.8125 47.578125 \r\nQ 36.03125 48 33.890625 48 \r\nQ 26.265625 48 22.1875 43.046875 \r\nQ 18.109375 38.09375 18.109375 28.8125 \r\nL 18.109375 0 \r\nL 9.078125 0 \r\nL 9.078125 54.6875 \r\nL 18.109375 54.6875 \r\nL 18.109375 46.1875 \r\nQ 20.953125 51.171875 25.484375 53.578125 \r\nQ 30.03125 56 36.53125 56 \r\nQ 37.453125 56 38.578125 55.875 \r\nQ 39.703125 55.765625 41.0625 55.515625 \r\nz\r\n\" id=\"DejaVuSans-114\"/>\r\n     <path d=\"M 32.171875 -5.078125 \r\nQ 28.375 -14.84375 24.75 -17.8125 \r\nQ 21.140625 -20.796875 15.09375 -20.796875 \r\nL 7.90625 -20.796875 \r\nL 7.90625 -13.28125 \r\nL 13.1875 -13.28125 \r\nQ 16.890625 -13.28125 18.9375 -11.515625 \r\nQ 21 -9.765625 23.484375 -3.21875 \r\nL 25.09375 0.875 \r\nL 2.984375 54.6875 \r\nL 12.5 54.6875 \r\nL 29.59375 11.921875 \r\nL 46.6875 54.6875 \r\nL 56.203125 54.6875 \r\nz\r\n\" id=\"DejaVuSans-121\"/>\r\n     <path d=\"M 9.8125 72.90625 \r\nL 19.671875 72.90625 \r\nL 19.671875 43.015625 \r\nL 55.515625 43.015625 \r\nL 55.515625 72.90625 \r\nL 65.375 72.90625 \r\nL 65.375 0 \r\nL 55.515625 0 \r\nL 55.515625 34.71875 \r\nL 19.671875 34.71875 \r\nL 19.671875 0 \r\nL 9.8125 0 \r\nz\r\n\" id=\"DejaVuSans-72\"/>\r\n    </defs>\r\n    <g transform=\"translate(377.279022 400.035772)scale(0.12 -0.12)\">\r\n     <use xlink:href=\"#DejaVuSans-99\"/>\r\n     <use x=\"54.980469\" xlink:href=\"#DejaVuSans-111\"/>\r\n     <use x=\"116.162109\" xlink:href=\"#DejaVuSans-117\"/>\r\n     <use x=\"179.541016\" xlink:href=\"#DejaVuSans-110\"/>\r\n     <use x=\"242.919922\" xlink:href=\"#DejaVuSans-116\"/>\r\n     <use x=\"282.128906\" xlink:href=\"#DejaVuSans-114\"/>\r\n     <use x=\"323.242188\" xlink:href=\"#DejaVuSans-121\"/>\r\n     <use x=\"382.421875\" xlink:href=\"#DejaVuSans-72\"/>\r\n     <use x=\"457.617188\" xlink:href=\"#DejaVuSans-111\"/>\r\n     <use x=\"518.798828\" xlink:href=\"#DejaVuSans-117\"/>\r\n     <use x=\"582.177734\" xlink:href=\"#DejaVuSans-115\"/>\r\n     <use x=\"634.277344\" xlink:href=\"#DejaVuSans-101\"/>\r\n    </g>\r\n   </g>\r\n  </g>\r\n </g>\r\n</svg>\r\n",
      "image/png": "[encoded data removed]"
     },
     "metadata": {}
    }
   ],
   "source": [
    "plt.figure(figsize=(10, 10))\n",
    "for i, pt in enumerate(df.propertyType.unique(), start=1):\n",
    "    plt.subplot(3, 2, i)\n",
    "    pt_nan = df[df.propertyType == pt].floor.isna().sum()\n",
    "    percentage = float(pt_nan) / df[df.propertyType == pt].shape[0]\n",
    "    plt.pie([percentage, 1 - percentage], \n",
    "            labels=['NaN', 'No NaN'])\n",
    "    plt.title(pt)\n",
    "plt.show()"
   ]
  },
  {
   "cell_type": "markdown",
   "metadata": {},
   "source": [
    "As expected, for Chalets and Country Houses we have a lot of NaNs, meaning that they are at the \"ground\".\n",
    "\n",
    "For Country Houses we expect that all are at `bj`, therefore in this case, we fill the NaNs with bj"
   ]
  },
  {
   "cell_type": "code",
   "execution_count": 80,
   "metadata": {},
   "outputs": [],
   "source": [
    "df.loc[(df.propertyType == 'countryHouse') & df.floor.isna(), 'floor'] = 'bj'"
   ]
  },
  {
   "cell_type": "markdown",
   "metadata": {},
   "source": [
    "The same happens for chalets"
   ]
  },
  {
   "cell_type": "code",
   "execution_count": 81,
   "metadata": {},
   "outputs": [],
   "source": [
    "df.loc[(df.propertyType == 'chalet') & df.floor.isna(), 'floor'] = 'bj'"
   ]
  },
  {
   "cell_type": "markdown",
   "metadata": {},
   "source": [
    "On the other hand, for the remaining property types, we should not have NaNs because a floor seems mandatory. to avoid removing data records, we keep this NaNs, but remaining them to `unknown` because the flat has actually a floor but it is unknown for the people who is visiting idealista."
   ]
  },
  {
   "cell_type": "code",
   "execution_count": 82,
   "metadata": {},
   "outputs": [],
   "source": [
    "df['floor'].fillna('', inplace=True)"
   ]
  },
  {
   "cell_type": "markdown",
   "metadata": {},
   "source": [
    "### District NaNs\n",
    "\n"
   ]
  },
  {
   "cell_type": "code",
   "execution_count": 96,
   "metadata": {},
   "outputs": [
    {
     "output_type": "execute_result",
     "data": {
      "text/plain": "array(['88707408',\n       'https://img3.idealista.com/blur/WEB_LISTING/0/id.pro.es.image.master/38/94/71/753258284.jpg',\n       18, '3', 1050.0, 'flat', 'rent', 50.0, True, 1, 1,\n       'Calle de Sants, 208', 'Barcelona', 'Barcelona', 'Sants-Montjuïc',\n       'es', 'Sants', 41.3756551, 2.1312542, True,\n       'https://www.idealista.com/inmueble/88707408/', '4876', False,\n       'good', False, True, 21.0, False, False, False, False, 'flat',\n       'Sants, Barcelona', 'Piso en Calle de Sants, 208', False, False,\n       nan, nan, nan, 'Barna'], dtype=object)"
     },
     "metadata": {},
     "execution_count": 96
    }
   ],
   "source": [
    "df[~df.district.isna()].iloc[0].values"
   ]
  },
  {
   "cell_type": "code",
   "execution_count": 83,
   "metadata": {},
   "outputs": [
    {
     "output_type": "execute_result",
     "data": {
      "text/plain": "  propertyCode                                          thumbnail  numPhotos  \\\n0     88707408  https://img3.idealista.com/blur/WEB_LISTING/0/...         18   \n1     90050445  https://img3.idealista.com/blur/WEB_LISTING/0/...         13   \n2     89790054  https://img3.idealista.com/blur/WEB_LISTING/0/...         17   \n3     89813394  https://img3.idealista.com/blur/WEB_LISTING/0/...         16   \n4     90050238  https://img3.idealista.com/blur/WEB_LISTING/0/...         14   \n\n  floor   price propertyType operation   size  exterior  rooms  ...  \\\n0     3  1050.0         flat      rent   50.0      True      1  ...   \n1     5  3000.0         flat      rent  170.0      True      5  ...   \n2     4  1050.0         flat      rent   75.0      True      2  ...   \n3     3   780.0       studio      rent   36.0      True      0  ...   \n4     1   725.0         flat      rent   65.0      True      2  ...   \n\n   topNewDevelopment detailedType_typology  \\\n0              False                  flat   \n1              False                  flat   \n2              False                  flat   \n3              False                  flat   \n4              False                  flat   \n\n                 suggestedTexts_subtitle                 suggestedTexts_title  \\\n0                       Sants, Barcelona          Piso en Calle de Sants, 208   \n1                   Pedralbes, Barcelona             Piso en Avenida Diagonal   \n2  La Maternitat i Sant Ramon, Barcelona  Piso en Calle del Comandant Benítez   \n3  La Maternitat i Sant Ramon, Barcelona                              Estudio   \n4   Sant Ildefons, Cornellà de Llobregat                         Piso en boix   \n\n  parkingSpace_hasParkingSpace parkingSpace_isParkingSpaceIncludedInPrice  \\\n0                        False                                        NaN   \n1                         True                                       True   \n2                        False                                        NaN   \n3                        False                                        NaN   \n4                        False                                        NaN   \n\n  detailedType_subTypology  parkingSpace_parkingSpacePrice  \\\n0                      NaN                             NaN   \n1                      NaN                             NaN   \n2                      NaN                             NaN   \n3                   studio                             NaN   \n4                      NaN                             NaN   \n\n   newDevelopmentFinished  spain_state  \n0                     NaN        Barna  \n1                     NaN        Barna  \n2                     NaN        Barna  \n3                     NaN        Barna  \n4                     NaN        Barna  \n\n[5 rows x 40 columns]",
      "text/html": "<div>\n<style scoped>\n    .dataframe tbody tr th:only-of-type {\n        vertical-align: middle;\n    }\n\n    .dataframe tbody tr th {\n        vertical-align: top;\n    }\n\n    .dataframe thead th {\n        text-align: right;\n    }\n</style>\n<table border=\"1\" class=\"dataframe\">\n  <thead>\n    <tr style=\"text-align: right;\">\n      <th></th>\n      <th>propertyCode</th>\n      <th>thumbnail</th>\n      <th>numPhotos</th>\n      <th>floor</th>\n      <th>price</th>\n      <th>propertyType</th>\n      <th>operation</th>\n      <th>size</th>\n      <th>exterior</th>\n      <th>rooms</th>\n      <th>...</th>\n      <th>topNewDevelopment</th>\n      <th>detailedType_typology</th>\n      <th>suggestedTexts_subtitle</th>\n      <th>suggestedTexts_title</th>\n      <th>parkingSpace_hasParkingSpace</th>\n      <th>parkingSpace_isParkingSpaceIncludedInPrice</th>\n      <th>detailedType_subTypology</th>\n      <th>parkingSpace_parkingSpacePrice</th>\n      <th>newDevelopmentFinished</th>\n      <th>spain_state</th>\n    </tr>\n  </thead>\n  <tbody>\n    <tr>\n      <th>0</th>\n      <td>88707408</td>\n      <td>https://img3.idealista.com/blur/WEB_LISTING/0/...</td>\n      <td>18</td>\n      <td>3</td>\n      <td>1050.0</td>\n      <td>flat</td>\n      <td>rent</td>\n      <td>50.0</td>\n      <td>True</td>\n      <td>1</td>\n      <td>...</td>\n      <td>False</td>\n      <td>flat</td>\n      <td>Sants, Barcelona</td>\n      <td>Piso en Calle de Sants, 208</td>\n      <td>False</td>\n      <td>NaN</td>\n      <td>NaN</td>\n      <td>NaN</td>\n      <td>NaN</td>\n      <td>Barna</td>\n    </tr>\n    <tr>\n      <th>1</th>\n      <td>90050445</td>\n      <td>https://img3.idealista.com/blur/WEB_LISTING/0/...</td>\n      <td>13</td>\n      <td>5</td>\n      <td>3000.0</td>\n      <td>flat</td>\n      <td>rent</td>\n      <td>170.0</td>\n      <td>True</td>\n      <td>5</td>\n      <td>...</td>\n      <td>False</td>\n      <td>flat</td>\n      <td>Pedralbes, Barcelona</td>\n      <td>Piso en Avenida Diagonal</td>\n      <td>True</td>\n      <td>True</td>\n      <td>NaN</td>\n      <td>NaN</td>\n      <td>NaN</td>\n      <td>Barna</td>\n    </tr>\n    <tr>\n      <th>2</th>\n      <td>89790054</td>\n      <td>https://img3.idealista.com/blur/WEB_LISTING/0/...</td>\n      <td>17</td>\n      <td>4</td>\n      <td>1050.0</td>\n      <td>flat</td>\n      <td>rent</td>\n      <td>75.0</td>\n      <td>True</td>\n      <td>2</td>\n      <td>...</td>\n      <td>False</td>\n      <td>flat</td>\n      <td>La Maternitat i Sant Ramon, Barcelona</td>\n      <td>Piso en Calle del Comandant Benítez</td>\n      <td>False</td>\n      <td>NaN</td>\n      <td>NaN</td>\n      <td>NaN</td>\n      <td>NaN</td>\n      <td>Barna</td>\n    </tr>\n    <tr>\n      <th>3</th>\n      <td>89813394</td>\n      <td>https://img3.idealista.com/blur/WEB_LISTING/0/...</td>\n      <td>16</td>\n      <td>3</td>\n      <td>780.0</td>\n      <td>studio</td>\n      <td>rent</td>\n      <td>36.0</td>\n      <td>True</td>\n      <td>0</td>\n      <td>...</td>\n      <td>False</td>\n      <td>flat</td>\n      <td>La Maternitat i Sant Ramon, Barcelona</td>\n      <td>Estudio</td>\n      <td>False</td>\n      <td>NaN</td>\n      <td>studio</td>\n      <td>NaN</td>\n      <td>NaN</td>\n      <td>Barna</td>\n    </tr>\n    <tr>\n      <th>4</th>\n      <td>90050238</td>\n      <td>https://img3.idealista.com/blur/WEB_LISTING/0/...</td>\n      <td>14</td>\n      <td>1</td>\n      <td>725.0</td>\n      <td>flat</td>\n      <td>rent</td>\n      <td>65.0</td>\n      <td>True</td>\n      <td>2</td>\n      <td>...</td>\n      <td>False</td>\n      <td>flat</td>\n      <td>Sant Ildefons, Cornellà de Llobregat</td>\n      <td>Piso en boix</td>\n      <td>False</td>\n      <td>NaN</td>\n      <td>NaN</td>\n      <td>NaN</td>\n      <td>NaN</td>\n      <td>Barna</td>\n    </tr>\n  </tbody>\n</table>\n<p>5 rows × 40 columns</p>\n</div>"
     },
     "metadata": {},
     "execution_count": 83
    }
   ],
   "source": [
    "df['parkingSpace_hasParkingSpace'].fillna(False, inplace=True)\n",
    "df.head()"
   ]
  },
  {
   "cell_type": "code",
   "execution_count": 84,
   "metadata": {
    "tags": []
   },
   "outputs": [
    {
     "output_type": "execute_result",
     "data": {
      "text/plain": "  propertyCode                                          thumbnail  numPhotos  \\\n0     88707408  https://img3.idealista.com/blur/WEB_LISTING/0/...         18   \n1     90050445  https://img3.idealista.com/blur/WEB_LISTING/0/...         13   \n2     89790054  https://img3.idealista.com/blur/WEB_LISTING/0/...         17   \n3     89813394  https://img3.idealista.com/blur/WEB_LISTING/0/...         16   \n4     90050238  https://img3.idealista.com/blur/WEB_LISTING/0/...         14   \n\n  floor   price propertyType operation   size  exterior  rooms  ...  \\\n0     3  1050.0         flat      rent   50.0      True      1  ...   \n1     5  3000.0         flat      rent  170.0      True      5  ...   \n2     4  1050.0         flat      rent   75.0      True      2  ...   \n3     3   780.0       studio      rent   36.0      True      0  ...   \n4     1   725.0         flat      rent   65.0      True      2  ...   \n\n   topNewDevelopment detailedType_typology  \\\n0              False                  flat   \n1              False                  flat   \n2              False                  flat   \n3              False                  flat   \n4              False                  flat   \n\n                 suggestedTexts_subtitle                 suggestedTexts_title  \\\n0                       Sants, Barcelona          Piso en Calle de Sants, 208   \n1                   Pedralbes, Barcelona             Piso en Avenida Diagonal   \n2  La Maternitat i Sant Ramon, Barcelona  Piso en Calle del Comandant Benítez   \n3  La Maternitat i Sant Ramon, Barcelona                              Estudio   \n4   Sant Ildefons, Cornellà de Llobregat                         Piso en boix   \n\n  parkingSpace_hasParkingSpace parkingSpace_isParkingSpaceIncludedInPrice  \\\n0                        False                                        NaN   \n1                         True                                       True   \n2                        False                                        NaN   \n3                        False                                        NaN   \n4                        False                                        NaN   \n\n  detailedType_subTypology  parkingSpace_parkingSpacePrice  \\\n0                      NaN                             NaN   \n1                      NaN                             0.0   \n2                      NaN                             NaN   \n3                   studio                             NaN   \n4                      NaN                             NaN   \n\n   newDevelopmentFinished  spain_state  \n0                     NaN        Barna  \n1                     NaN        Barna  \n2                     NaN        Barna  \n3                     NaN        Barna  \n4                     NaN        Barna  \n\n[5 rows x 40 columns]",
      "text/html": "<div>\n<style scoped>\n    .dataframe tbody tr th:only-of-type {\n        vertical-align: middle;\n    }\n\n    .dataframe tbody tr th {\n        vertical-align: top;\n    }\n\n    .dataframe thead th {\n        text-align: right;\n    }\n</style>\n<table border=\"1\" class=\"dataframe\">\n  <thead>\n    <tr style=\"text-align: right;\">\n      <th></th>\n      <th>propertyCode</th>\n      <th>thumbnail</th>\n      <th>numPhotos</th>\n      <th>floor</th>\n      <th>price</th>\n      <th>propertyType</th>\n      <th>operation</th>\n      <th>size</th>\n      <th>exterior</th>\n      <th>rooms</th>\n      <th>...</th>\n      <th>topNewDevelopment</th>\n      <th>detailedType_typology</th>\n      <th>suggestedTexts_subtitle</th>\n      <th>suggestedTexts_title</th>\n      <th>parkingSpace_hasParkingSpace</th>\n      <th>parkingSpace_isParkingSpaceIncludedInPrice</th>\n      <th>detailedType_subTypology</th>\n      <th>parkingSpace_parkingSpacePrice</th>\n      <th>newDevelopmentFinished</th>\n      <th>spain_state</th>\n    </tr>\n  </thead>\n  <tbody>\n    <tr>\n      <th>0</th>\n      <td>88707408</td>\n      <td>https://img3.idealista.com/blur/WEB_LISTING/0/...</td>\n      <td>18</td>\n      <td>3</td>\n      <td>1050.0</td>\n      <td>flat</td>\n      <td>rent</td>\n      <td>50.0</td>\n      <td>True</td>\n      <td>1</td>\n      <td>...</td>\n      <td>False</td>\n      <td>flat</td>\n      <td>Sants, Barcelona</td>\n      <td>Piso en Calle de Sants, 208</td>\n      <td>False</td>\n      <td>NaN</td>\n      <td>NaN</td>\n      <td>NaN</td>\n      <td>NaN</td>\n      <td>Barna</td>\n    </tr>\n    <tr>\n      <th>1</th>\n      <td>90050445</td>\n      <td>https://img3.idealista.com/blur/WEB_LISTING/0/...</td>\n      <td>13</td>\n      <td>5</td>\n      <td>3000.0</td>\n      <td>flat</td>\n      <td>rent</td>\n      <td>170.0</td>\n      <td>True</td>\n      <td>5</td>\n      <td>...</td>\n      <td>False</td>\n      <td>flat</td>\n      <td>Pedralbes, Barcelona</td>\n      <td>Piso en Avenida Diagonal</td>\n      <td>True</td>\n      <td>True</td>\n      <td>NaN</td>\n      <td>0.0</td>\n      <td>NaN</td>\n      <td>Barna</td>\n    </tr>\n    <tr>\n      <th>2</th>\n      <td>89790054</td>\n      <td>https://img3.idealista.com/blur/WEB_LISTING/0/...</td>\n      <td>17</td>\n      <td>4</td>\n      <td>1050.0</td>\n      <td>flat</td>\n      <td>rent</td>\n      <td>75.0</td>\n      <td>True</td>\n      <td>2</td>\n      <td>...</td>\n      <td>False</td>\n      <td>flat</td>\n      <td>La Maternitat i Sant Ramon, Barcelona</td>\n      <td>Piso en Calle del Comandant Benítez</td>\n      <td>False</td>\n      <td>NaN</td>\n      <td>NaN</td>\n      <td>NaN</td>\n      <td>NaN</td>\n      <td>Barna</td>\n    </tr>\n    <tr>\n      <th>3</th>\n      <td>89813394</td>\n      <td>https://img3.idealista.com/blur/WEB_LISTING/0/...</td>\n      <td>16</td>\n      <td>3</td>\n      <td>780.0</td>\n      <td>studio</td>\n      <td>rent</td>\n      <td>36.0</td>\n      <td>True</td>\n      <td>0</td>\n      <td>...</td>\n      <td>False</td>\n      <td>flat</td>\n      <td>La Maternitat i Sant Ramon, Barcelona</td>\n      <td>Estudio</td>\n      <td>False</td>\n      <td>NaN</td>\n      <td>studio</td>\n      <td>NaN</td>\n      <td>NaN</td>\n      <td>Barna</td>\n    </tr>\n    <tr>\n      <th>4</th>\n      <td>90050238</td>\n      <td>https://img3.idealista.com/blur/WEB_LISTING/0/...</td>\n      <td>14</td>\n      <td>1</td>\n      <td>725.0</td>\n      <td>flat</td>\n      <td>rent</td>\n      <td>65.0</td>\n      <td>True</td>\n      <td>2</td>\n      <td>...</td>\n      <td>False</td>\n      <td>flat</td>\n      <td>Sant Ildefons, Cornellà de Llobregat</td>\n      <td>Piso en boix</td>\n      <td>False</td>\n      <td>NaN</td>\n      <td>NaN</td>\n      <td>NaN</td>\n      <td>NaN</td>\n      <td>Barna</td>\n    </tr>\n  </tbody>\n</table>\n<p>5 rows × 40 columns</p>\n</div>"
     },
     "metadata": {},
     "execution_count": 84
    }
   ],
   "source": [
    "has_parking_mask = (~df.parkingSpace_hasParkingSpace.isna()) & df.parkingSpace_hasParkingSpace\n",
    "df.loc[has_parking_mask & df.parkingSpace_isParkingSpaceIncludedInPrice, 'parkingSpace_parkingSpacePrice'] = 0\n",
    "#df.loc[has_parking_mask & df.parkingSpace_isParkingSpaceIncludedInPrice].parkingSpace_parkingSpacePrice = 0\n",
    "\n",
    "df.head()"
   ]
  },
  {
   "cell_type": "code",
   "execution_count": 85,
   "metadata": {},
   "outputs": [
    {
     "output_type": "execute_result",
     "data": {
      "text/plain": "  propertyCode                                          thumbnail  numPhotos  \\\n0     88707408  https://img3.idealista.com/blur/WEB_LISTING/0/...         18   \n1     90050445  https://img3.idealista.com/blur/WEB_LISTING/0/...         13   \n2     89790054  https://img3.idealista.com/blur/WEB_LISTING/0/...         17   \n3     89813394  https://img3.idealista.com/blur/WEB_LISTING/0/...         16   \n4     90050238  https://img3.idealista.com/blur/WEB_LISTING/0/...         14   \n\n  floor   price propertyType operation   size  exterior  rooms  ...  \\\n0     3  1050.0         flat      rent   50.0      True      1  ...   \n1     5  3000.0         flat      rent  170.0      True      5  ...   \n2     4  1050.0         flat      rent   75.0      True      2  ...   \n3     3   780.0       studio      rent   36.0      True      0  ...   \n4     1   725.0         flat      rent   65.0      True      2  ...   \n\n   topNewDevelopment detailedType_typology  \\\n0              False                  flat   \n1              False                  flat   \n2              False                  flat   \n3              False                  flat   \n4              False                  flat   \n\n                 suggestedTexts_subtitle                 suggestedTexts_title  \\\n0                       Sants, Barcelona          Piso en Calle de Sants, 208   \n1                   Pedralbes, Barcelona             Piso en Avenida Diagonal   \n2  La Maternitat i Sant Ramon, Barcelona  Piso en Calle del Comandant Benítez   \n3  La Maternitat i Sant Ramon, Barcelona                              Estudio   \n4   Sant Ildefons, Cornellà de Llobregat                         Piso en boix   \n\n  parkingSpace_hasParkingSpace parkingSpace_isParkingSpaceIncludedInPrice  \\\n0                        False                                      False   \n1                         True                                       True   \n2                        False                                      False   \n3                        False                                      False   \n4                        False                                      False   \n\n  detailedType_subTypology  parkingSpace_parkingSpacePrice  \\\n0                      NaN                             NaN   \n1                      NaN                             0.0   \n2                      NaN                             NaN   \n3                   studio                             NaN   \n4                      NaN                             NaN   \n\n   newDevelopmentFinished  spain_state  \n0                     NaN        Barna  \n1                     NaN        Barna  \n2                     NaN        Barna  \n3                     NaN        Barna  \n4                     NaN        Barna  \n\n[5 rows x 40 columns]",
      "text/html": "<div>\n<style scoped>\n    .dataframe tbody tr th:only-of-type {\n        vertical-align: middle;\n    }\n\n    .dataframe tbody tr th {\n        vertical-align: top;\n    }\n\n    .dataframe thead th {\n        text-align: right;\n    }\n</style>\n<table border=\"1\" class=\"dataframe\">\n  <thead>\n    <tr style=\"text-align: right;\">\n      <th></th>\n      <th>propertyCode</th>\n      <th>thumbnail</th>\n      <th>numPhotos</th>\n      <th>floor</th>\n      <th>price</th>\n      <th>propertyType</th>\n      <th>operation</th>\n      <th>size</th>\n      <th>exterior</th>\n      <th>rooms</th>\n      <th>...</th>\n      <th>topNewDevelopment</th>\n      <th>detailedType_typology</th>\n      <th>suggestedTexts_subtitle</th>\n      <th>suggestedTexts_title</th>\n      <th>parkingSpace_hasParkingSpace</th>\n      <th>parkingSpace_isParkingSpaceIncludedInPrice</th>\n      <th>detailedType_subTypology</th>\n      <th>parkingSpace_parkingSpacePrice</th>\n      <th>newDevelopmentFinished</th>\n      <th>spain_state</th>\n    </tr>\n  </thead>\n  <tbody>\n    <tr>\n      <th>0</th>\n      <td>88707408</td>\n      <td>https://img3.idealista.com/blur/WEB_LISTING/0/...</td>\n      <td>18</td>\n      <td>3</td>\n      <td>1050.0</td>\n      <td>flat</td>\n      <td>rent</td>\n      <td>50.0</td>\n      <td>True</td>\n      <td>1</td>\n      <td>...</td>\n      <td>False</td>\n      <td>flat</td>\n      <td>Sants, Barcelona</td>\n      <td>Piso en Calle de Sants, 208</td>\n      <td>False</td>\n      <td>False</td>\n      <td>NaN</td>\n      <td>NaN</td>\n      <td>NaN</td>\n      <td>Barna</td>\n    </tr>\n    <tr>\n      <th>1</th>\n      <td>90050445</td>\n      <td>https://img3.idealista.com/blur/WEB_LISTING/0/...</td>\n      <td>13</td>\n      <td>5</td>\n      <td>3000.0</td>\n      <td>flat</td>\n      <td>rent</td>\n      <td>170.0</td>\n      <td>True</td>\n      <td>5</td>\n      <td>...</td>\n      <td>False</td>\n      <td>flat</td>\n      <td>Pedralbes, Barcelona</td>\n      <td>Piso en Avenida Diagonal</td>\n      <td>True</td>\n      <td>True</td>\n      <td>NaN</td>\n      <td>0.0</td>\n      <td>NaN</td>\n      <td>Barna</td>\n    </tr>\n    <tr>\n      <th>2</th>\n      <td>89790054</td>\n      <td>https://img3.idealista.com/blur/WEB_LISTING/0/...</td>\n      <td>17</td>\n      <td>4</td>\n      <td>1050.0</td>\n      <td>flat</td>\n      <td>rent</td>\n      <td>75.0</td>\n      <td>True</td>\n      <td>2</td>\n      <td>...</td>\n      <td>False</td>\n      <td>flat</td>\n      <td>La Maternitat i Sant Ramon, Barcelona</td>\n      <td>Piso en Calle del Comandant Benítez</td>\n      <td>False</td>\n      <td>False</td>\n      <td>NaN</td>\n      <td>NaN</td>\n      <td>NaN</td>\n      <td>Barna</td>\n    </tr>\n    <tr>\n      <th>3</th>\n      <td>89813394</td>\n      <td>https://img3.idealista.com/blur/WEB_LISTING/0/...</td>\n      <td>16</td>\n      <td>3</td>\n      <td>780.0</td>\n      <td>studio</td>\n      <td>rent</td>\n      <td>36.0</td>\n      <td>True</td>\n      <td>0</td>\n      <td>...</td>\n      <td>False</td>\n      <td>flat</td>\n      <td>La Maternitat i Sant Ramon, Barcelona</td>\n      <td>Estudio</td>\n      <td>False</td>\n      <td>False</td>\n      <td>studio</td>\n      <td>NaN</td>\n      <td>NaN</td>\n      <td>Barna</td>\n    </tr>\n    <tr>\n      <th>4</th>\n      <td>90050238</td>\n      <td>https://img3.idealista.com/blur/WEB_LISTING/0/...</td>\n      <td>14</td>\n      <td>1</td>\n      <td>725.0</td>\n      <td>flat</td>\n      <td>rent</td>\n      <td>65.0</td>\n      <td>True</td>\n      <td>2</td>\n      <td>...</td>\n      <td>False</td>\n      <td>flat</td>\n      <td>Sant Ildefons, Cornellà de Llobregat</td>\n      <td>Piso en boix</td>\n      <td>False</td>\n      <td>False</td>\n      <td>NaN</td>\n      <td>NaN</td>\n      <td>NaN</td>\n      <td>Barna</td>\n    </tr>\n  </tbody>\n</table>\n<p>5 rows × 40 columns</p>\n</div>"
     },
     "metadata": {},
     "execution_count": 85
    }
   ],
   "source": [
    "df['parkingSpace_isParkingSpaceIncludedInPrice'].fillna(False, inplace=True)\n",
    "# df['detailedType_subTypology'].fillna(\"unknown\", inplace=True)\n",
    "# df['externalReference'].fillna('', inplace=True)\n",
    "# df['floor'].fillna('', inplace=True)\n",
    "df.head()"
   ]
  },
  {
   "cell_type": "code",
   "execution_count": 86,
   "metadata": {},
   "outputs": [
    {
     "output_type": "execute_result",
     "data": {
      "text/plain": "propertyCode                                  False\nthumbnail                                     False\nnumPhotos                                     False\nfloor                                         False\nprice                                         False\npropertyType                                  False\noperation                                     False\nsize                                          False\nexterior                                      False\nrooms                                         False\nbathrooms                                     False\naddress                                       False\nprovince                                      False\nmunicipality                                  False\ndistrict                                       True\ncountry                                       False\nneighborhood                                   True\nlatitude                                      False\nlongitude                                     False\nshowAddress                                   False\nurl                                           False\ndistance                                      False\nhasVideo                                      False\nstatus                                         True\nnewDevelopment                                False\nhasLift                                        True\npriceByArea                                   False\nhasPlan                                       False\nhas3DTour                                     False\nhas360                                        False\ntopNewDevelopment                             False\ndetailedType_typology                         False\nsuggestedTexts_subtitle                       False\nsuggestedTexts_title                          False\nparkingSpace_hasParkingSpace                  False\nparkingSpace_isParkingSpaceIncludedInPrice    False\ndetailedType_subTypology                       True\nparkingSpace_parkingSpacePrice                 True\nnewDevelopmentFinished                         True\nspain_state                                   False\ndtype: bool"
     },
     "metadata": {},
     "execution_count": 86
    }
   ],
   "source": [
    "df.isna().any(0)"
   ]
  },
  {
   "cell_type": "code",
   "execution_count": 87,
   "metadata": {},
   "outputs": [
    {
     "output_type": "execute_result",
     "data": {
      "text/plain": "(0, 40)"
     },
     "metadata": {},
     "execution_count": 87
    }
   ],
   "source": [
    "df[df.floor.isna() & (df.propertyType =='flat')].shape"
   ]
  }
 ],
 "metadata": {
  "kernelspec": {
   "display_name": "Python 3",
   "language": "python",
   "name": "python3"
  },
  "language_info": {
   "codemirror_mode": {
    "name": "ipython",
    "version": 3
   },
   "file_extension": ".py",
   "mimetype": "text/x-python",
   "name": "python",
   "nbconvert_exporter": "python",
   "pygments_lexer": "ipython3",
   "version": "3.7.6-final"
  }
 },
 "nbformat": 4,
 "nbformat_minor": 2
}