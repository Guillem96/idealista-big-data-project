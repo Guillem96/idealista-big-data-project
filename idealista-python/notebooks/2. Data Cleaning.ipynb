{
 "cells": [
  {
   "cell_type": "markdown",
   "metadata": {},
   "source": [
    "# Clean the data"
   ]
  },
  {
   "cell_type": "code",
   "execution_count": 2,
   "metadata": {},
   "outputs": [],
   "source": [
    "import json\n",
    "from pathlib import Path\n",
    "\n",
    "import pandas as pd\n",
    "import glob"
   ]
  },
  {
   "cell_type": "markdown",
   "metadata": {},
   "source": [
    "First of all, we need to know which files it will be merge into the same DataFrame."
   ]
  },
  {
   "cell_type": "code",
   "execution_count": 4,
   "metadata": {},
   "outputs": [
    {
     "output_type": "execute_result",
     "data": {
      "text/plain": "{1: '../data/raw/Barna_rent.json',\n 2: '../data/raw/Girona_rent.json',\n 3: '../data/raw/Lleida_rent.json',\n 4: '../data/raw/Valencia_rent.json',\n 5: '../data/raw/Madrid_rent.json',\n 6: '../data/raw/Mallorca_rent.json',\n 7: '../data/raw/Zaragoza_rent.json',\n 8: '../data/raw/Malaga_rent.json',\n 9: '../data/raw/Tarragona_rent.json'}"
     },
     "metadata": {},
     "execution_count": 4
    }
   ],
   "source": [
    "file_list = glob.glob('../data/raw/*.json')\n",
    "\n",
    "allFilesDict = {v:k for v, k in enumerate(file_list, 1)}\n",
    "\n",
    "allFilesDict"
   ]
  },
  {
   "cell_type": "markdown",
   "metadata": {},
   "source": [
    "Then, we will merge the data into a unique DataFrame because we know that all these data have the same json format."
   ]
  },
  {
   "cell_type": "code",
   "execution_count": 67,
   "metadata": {},
   "outputs": [
    {
     "output_type": "execute_result",
     "data": {
      "text/plain": "  propertyCode                                          thumbnail  \\\n0     88707408  https://img3.idealista.com/blur/WEB_LISTING/0/...   \n1     90050445  https://img3.idealista.com/blur/WEB_LISTING/0/...   \n2     89790054  https://img3.idealista.com/blur/WEB_LISTING/0/...   \n3     89813394  https://img3.idealista.com/blur/WEB_LISTING/0/...   \n4     90050238  https://img3.idealista.com/blur/WEB_LISTING/0/...   \n\n  externalReference  numPhotos floor   price propertyType operation   size  \\\n0          AL_Sants         18     3  1050.0         flat      rent   50.0   \n1       AB1508007-1         13     5  3000.0         flat      rent  170.0   \n2     CB_BCN_0286_A         17     4  1050.0         flat      rent   75.0   \n3          CREA1105         16     3   780.0       studio      rent   36.0   \n4          6977 OBG         14     1   725.0         flat      rent   65.0   \n\n   exterior  ...  has360  topNewDevelopment detailedType_typology  \\\n0      True  ...   False              False                  flat   \n1      True  ...   False              False                  flat   \n2      True  ...   False              False                  flat   \n3      True  ...   False              False                  flat   \n4      True  ...   False              False                  flat   \n\n                 suggestedTexts_subtitle                 suggestedTexts_title  \\\n0                       Sants, Barcelona          Piso en Calle de Sants, 208   \n1                   Pedralbes, Barcelona             Piso en Avenida Diagonal   \n2  La Maternitat i Sant Ramon, Barcelona  Piso en Calle del Comandant Benítez   \n3  La Maternitat i Sant Ramon, Barcelona                              Estudio   \n4   Sant Ildefons, Cornellà de Llobregat                         Piso en boix   \n\n  parkingSpace_hasParkingSpace parkingSpace_isParkingSpaceIncludedInPrice  \\\n0                          NaN                                        NaN   \n1                         True                                       True   \n2                          NaN                                        NaN   \n3                          NaN                                        NaN   \n4                          NaN                                        NaN   \n\n  detailedType_subTypology  parkingSpace_parkingSpacePrice  \\\n0                      NaN                             NaN   \n1                      NaN                             NaN   \n2                      NaN                             NaN   \n3                   studio                             NaN   \n4                      NaN                             NaN   \n\n   newDevelopmentFinished  \n0                     NaN  \n1                     NaN  \n2                     NaN  \n3                     NaN  \n4                     NaN  \n\n[5 rows x 40 columns]",
      "text/html": "<div>\n<style scoped>\n    .dataframe tbody tr th:only-of-type {\n        vertical-align: middle;\n    }\n\n    .dataframe tbody tr th {\n        vertical-align: top;\n    }\n\n    .dataframe thead th {\n        text-align: right;\n    }\n</style>\n<table border=\"1\" class=\"dataframe\">\n  <thead>\n    <tr style=\"text-align: right;\">\n      <th></th>\n      <th>propertyCode</th>\n      <th>thumbnail</th>\n      <th>externalReference</th>\n      <th>numPhotos</th>\n      <th>floor</th>\n      <th>price</th>\n      <th>propertyType</th>\n      <th>operation</th>\n      <th>size</th>\n      <th>exterior</th>\n      <th>...</th>\n      <th>has360</th>\n      <th>topNewDevelopment</th>\n      <th>detailedType_typology</th>\n      <th>suggestedTexts_subtitle</th>\n      <th>suggestedTexts_title</th>\n      <th>parkingSpace_hasParkingSpace</th>\n      <th>parkingSpace_isParkingSpaceIncludedInPrice</th>\n      <th>detailedType_subTypology</th>\n      <th>parkingSpace_parkingSpacePrice</th>\n      <th>newDevelopmentFinished</th>\n    </tr>\n  </thead>\n  <tbody>\n    <tr>\n      <th>0</th>\n      <td>88707408</td>\n      <td>https://img3.idealista.com/blur/WEB_LISTING/0/...</td>\n      <td>AL_Sants</td>\n      <td>18</td>\n      <td>3</td>\n      <td>1050.0</td>\n      <td>flat</td>\n      <td>rent</td>\n      <td>50.0</td>\n      <td>True</td>\n      <td>...</td>\n      <td>False</td>\n      <td>False</td>\n      <td>flat</td>\n      <td>Sants, Barcelona</td>\n      <td>Piso en Calle de Sants, 208</td>\n      <td>NaN</td>\n      <td>NaN</td>\n      <td>NaN</td>\n      <td>NaN</td>\n      <td>NaN</td>\n    </tr>\n    <tr>\n      <th>1</th>\n      <td>90050445</td>\n      <td>https://img3.idealista.com/blur/WEB_LISTING/0/...</td>\n      <td>AB1508007-1</td>\n      <td>13</td>\n      <td>5</td>\n      <td>3000.0</td>\n      <td>flat</td>\n      <td>rent</td>\n      <td>170.0</td>\n      <td>True</td>\n      <td>...</td>\n      <td>False</td>\n      <td>False</td>\n      <td>flat</td>\n      <td>Pedralbes, Barcelona</td>\n      <td>Piso en Avenida Diagonal</td>\n      <td>True</td>\n      <td>True</td>\n      <td>NaN</td>\n      <td>NaN</td>\n      <td>NaN</td>\n    </tr>\n    <tr>\n      <th>2</th>\n      <td>89790054</td>\n      <td>https://img3.idealista.com/blur/WEB_LISTING/0/...</td>\n      <td>CB_BCN_0286_A</td>\n      <td>17</td>\n      <td>4</td>\n      <td>1050.0</td>\n      <td>flat</td>\n      <td>rent</td>\n      <td>75.0</td>\n      <td>True</td>\n      <td>...</td>\n      <td>False</td>\n      <td>False</td>\n      <td>flat</td>\n      <td>La Maternitat i Sant Ramon, Barcelona</td>\n      <td>Piso en Calle del Comandant Benítez</td>\n      <td>NaN</td>\n      <td>NaN</td>\n      <td>NaN</td>\n      <td>NaN</td>\n      <td>NaN</td>\n    </tr>\n    <tr>\n      <th>3</th>\n      <td>89813394</td>\n      <td>https://img3.idealista.com/blur/WEB_LISTING/0/...</td>\n      <td>CREA1105</td>\n      <td>16</td>\n      <td>3</td>\n      <td>780.0</td>\n      <td>studio</td>\n      <td>rent</td>\n      <td>36.0</td>\n      <td>True</td>\n      <td>...</td>\n      <td>False</td>\n      <td>False</td>\n      <td>flat</td>\n      <td>La Maternitat i Sant Ramon, Barcelona</td>\n      <td>Estudio</td>\n      <td>NaN</td>\n      <td>NaN</td>\n      <td>studio</td>\n      <td>NaN</td>\n      <td>NaN</td>\n    </tr>\n    <tr>\n      <th>4</th>\n      <td>90050238</td>\n      <td>https://img3.idealista.com/blur/WEB_LISTING/0/...</td>\n      <td>6977 OBG</td>\n      <td>14</td>\n      <td>1</td>\n      <td>725.0</td>\n      <td>flat</td>\n      <td>rent</td>\n      <td>65.0</td>\n      <td>True</td>\n      <td>...</td>\n      <td>False</td>\n      <td>False</td>\n      <td>flat</td>\n      <td>Sant Ildefons, Cornellà de Llobregat</td>\n      <td>Piso en boix</td>\n      <td>NaN</td>\n      <td>NaN</td>\n      <td>NaN</td>\n      <td>NaN</td>\n      <td>NaN</td>\n    </tr>\n  </tbody>\n</table>\n<p>5 rows × 40 columns</p>\n</div>"
     },
     "metadata": {},
     "execution_count": 67
    }
   ],
   "source": [
    "data = []\n",
    "\n",
    "for k,v in allFilesDict.items():\n",
    "    with open(v, 'r') as d:\n",
    "        jdata = json.load(d)\n",
    "        if jdata:\n",
    "            data.extend(jdata)\n",
    "\n",
    "df = pd.json_normalize(data, sep='_')\n",
    "df.head()"
   ]
  },
  {
   "cell_type": "markdown",
   "metadata": {},
   "source": [
    "As we can see on the previous table, each line contains NaN values, it could be produced because one flat doesn't have a parking space or something like that."
   ]
  },
  {
   "cell_type": "code",
   "execution_count": 17,
   "metadata": {
    "tags": []
   },
   "outputs": [
    {
     "output_type": "stream",
     "name": "stdout",
     "text": "Rows containing NaN: 9974\n"
    }
   ],
   "source": [
    "print('Rows containing NaN:', df.isna().any(axis=1).sum())"
   ]
  },
  {
   "cell_type": "code",
   "execution_count": 88,
   "metadata": {},
   "outputs": [
    {
     "output_type": "execute_result",
     "data": {
      "text/plain": "propertyCode                                  False\nthumbnail                                      True\nexternalReference                              True\nnumPhotos                                     False\nfloor                                          True\nprice                                         False\npropertyType                                  False\noperation                                     False\nsize                                          False\nexterior                                      False\nrooms                                         False\nbathrooms                                     False\naddress                                       False\nprovince                                      False\nmunicipality                                  False\ndistrict                                       True\ncountry                                       False\nneighborhood                                   True\nlatitude                                      False\nlongitude                                     False\nshowAddress                                   False\nurl                                           False\ndistance                                      False\nhasVideo                                      False\nstatus                                         True\nnewDevelopment                                False\nhasLift                                        True\npriceByArea                                   False\nhasPlan                                       False\nhas3DTour                                     False\nhas360                                        False\ntopNewDevelopment                             False\ndetailedType_typology                         False\nsuggestedTexts_subtitle                       False\nsuggestedTexts_title                          False\nparkingSpace_hasParkingSpace                  False\nparkingSpace_isParkingSpaceIncludedInPrice    False\ndetailedType_subTypology                      False\nparkingSpace_parkingSpacePrice                 True\nnewDevelopmentFinished                         True\ndtype: bool"
     },
     "metadata": {},
     "execution_count": 88
    }
   ],
   "source": [
    "df.isna().any(0)"
   ]
  },
  {
   "cell_type": "code",
   "execution_count": 68,
   "metadata": {},
   "outputs": [
    {
     "output_type": "execute_result",
     "data": {
      "text/plain": "  propertyCode                                          thumbnail  \\\n0     88707408  https://img3.idealista.com/blur/WEB_LISTING/0/...   \n1     90050445  https://img3.idealista.com/blur/WEB_LISTING/0/...   \n2     89790054  https://img3.idealista.com/blur/WEB_LISTING/0/...   \n3     89813394  https://img3.idealista.com/blur/WEB_LISTING/0/...   \n4     90050238  https://img3.idealista.com/blur/WEB_LISTING/0/...   \n\n  externalReference  numPhotos floor   price propertyType operation   size  \\\n0          AL_Sants         18     3  1050.0         flat      rent   50.0   \n1       AB1508007-1         13     5  3000.0         flat      rent  170.0   \n2     CB_BCN_0286_A         17     4  1050.0         flat      rent   75.0   \n3          CREA1105         16     3   780.0       studio      rent   36.0   \n4          6977 OBG         14     1   725.0         flat      rent   65.0   \n\n   exterior  ...  has360  topNewDevelopment detailedType_typology  \\\n0      True  ...   False              False                  flat   \n1      True  ...   False              False                  flat   \n2      True  ...   False              False                  flat   \n3      True  ...   False              False                  flat   \n4      True  ...   False              False                  flat   \n\n                 suggestedTexts_subtitle                 suggestedTexts_title  \\\n0                       Sants, Barcelona          Piso en Calle de Sants, 208   \n1                   Pedralbes, Barcelona             Piso en Avenida Diagonal   \n2  La Maternitat i Sant Ramon, Barcelona  Piso en Calle del Comandant Benítez   \n3  La Maternitat i Sant Ramon, Barcelona                              Estudio   \n4   Sant Ildefons, Cornellà de Llobregat                         Piso en boix   \n\n  parkingSpace_hasParkingSpace parkingSpace_isParkingSpaceIncludedInPrice  \\\n0                        False                                        NaN   \n1                         True                                       True   \n2                        False                                        NaN   \n3                        False                                        NaN   \n4                        False                                        NaN   \n\n  detailedType_subTypology  parkingSpace_parkingSpacePrice  \\\n0                      NaN                             NaN   \n1                      NaN                             NaN   \n2                      NaN                             NaN   \n3                   studio                             NaN   \n4                      NaN                             NaN   \n\n   newDevelopmentFinished  \n0                     NaN  \n1                     NaN  \n2                     NaN  \n3                     NaN  \n4                     NaN  \n\n[5 rows x 40 columns]",
      "text/html": "<div>\n<style scoped>\n    .dataframe tbody tr th:only-of-type {\n        vertical-align: middle;\n    }\n\n    .dataframe tbody tr th {\n        vertical-align: top;\n    }\n\n    .dataframe thead th {\n        text-align: right;\n    }\n</style>\n<table border=\"1\" class=\"dataframe\">\n  <thead>\n    <tr style=\"text-align: right;\">\n      <th></th>\n      <th>propertyCode</th>\n      <th>thumbnail</th>\n      <th>externalReference</th>\n      <th>numPhotos</th>\n      <th>floor</th>\n      <th>price</th>\n      <th>propertyType</th>\n      <th>operation</th>\n      <th>size</th>\n      <th>exterior</th>\n      <th>...</th>\n      <th>has360</th>\n      <th>topNewDevelopment</th>\n      <th>detailedType_typology</th>\n      <th>suggestedTexts_subtitle</th>\n      <th>suggestedTexts_title</th>\n      <th>parkingSpace_hasParkingSpace</th>\n      <th>parkingSpace_isParkingSpaceIncludedInPrice</th>\n      <th>detailedType_subTypology</th>\n      <th>parkingSpace_parkingSpacePrice</th>\n      <th>newDevelopmentFinished</th>\n    </tr>\n  </thead>\n  <tbody>\n    <tr>\n      <th>0</th>\n      <td>88707408</td>\n      <td>https://img3.idealista.com/blur/WEB_LISTING/0/...</td>\n      <td>AL_Sants</td>\n      <td>18</td>\n      <td>3</td>\n      <td>1050.0</td>\n      <td>flat</td>\n      <td>rent</td>\n      <td>50.0</td>\n      <td>True</td>\n      <td>...</td>\n      <td>False</td>\n      <td>False</td>\n      <td>flat</td>\n      <td>Sants, Barcelona</td>\n      <td>Piso en Calle de Sants, 208</td>\n      <td>False</td>\n      <td>NaN</td>\n      <td>NaN</td>\n      <td>NaN</td>\n      <td>NaN</td>\n    </tr>\n    <tr>\n      <th>1</th>\n      <td>90050445</td>\n      <td>https://img3.idealista.com/blur/WEB_LISTING/0/...</td>\n      <td>AB1508007-1</td>\n      <td>13</td>\n      <td>5</td>\n      <td>3000.0</td>\n      <td>flat</td>\n      <td>rent</td>\n      <td>170.0</td>\n      <td>True</td>\n      <td>...</td>\n      <td>False</td>\n      <td>False</td>\n      <td>flat</td>\n      <td>Pedralbes, Barcelona</td>\n      <td>Piso en Avenida Diagonal</td>\n      <td>True</td>\n      <td>True</td>\n      <td>NaN</td>\n      <td>NaN</td>\n      <td>NaN</td>\n    </tr>\n    <tr>\n      <th>2</th>\n      <td>89790054</td>\n      <td>https://img3.idealista.com/blur/WEB_LISTING/0/...</td>\n      <td>CB_BCN_0286_A</td>\n      <td>17</td>\n      <td>4</td>\n      <td>1050.0</td>\n      <td>flat</td>\n      <td>rent</td>\n      <td>75.0</td>\n      <td>True</td>\n      <td>...</td>\n      <td>False</td>\n      <td>False</td>\n      <td>flat</td>\n      <td>La Maternitat i Sant Ramon, Barcelona</td>\n      <td>Piso en Calle del Comandant Benítez</td>\n      <td>False</td>\n      <td>NaN</td>\n      <td>NaN</td>\n      <td>NaN</td>\n      <td>NaN</td>\n    </tr>\n    <tr>\n      <th>3</th>\n      <td>89813394</td>\n      <td>https://img3.idealista.com/blur/WEB_LISTING/0/...</td>\n      <td>CREA1105</td>\n      <td>16</td>\n      <td>3</td>\n      <td>780.0</td>\n      <td>studio</td>\n      <td>rent</td>\n      <td>36.0</td>\n      <td>True</td>\n      <td>...</td>\n      <td>False</td>\n      <td>False</td>\n      <td>flat</td>\n      <td>La Maternitat i Sant Ramon, Barcelona</td>\n      <td>Estudio</td>\n      <td>False</td>\n      <td>NaN</td>\n      <td>studio</td>\n      <td>NaN</td>\n      <td>NaN</td>\n    </tr>\n    <tr>\n      <th>4</th>\n      <td>90050238</td>\n      <td>https://img3.idealista.com/blur/WEB_LISTING/0/...</td>\n      <td>6977 OBG</td>\n      <td>14</td>\n      <td>1</td>\n      <td>725.0</td>\n      <td>flat</td>\n      <td>rent</td>\n      <td>65.0</td>\n      <td>True</td>\n      <td>...</td>\n      <td>False</td>\n      <td>False</td>\n      <td>flat</td>\n      <td>Sant Ildefons, Cornellà de Llobregat</td>\n      <td>Piso en boix</td>\n      <td>False</td>\n      <td>NaN</td>\n      <td>NaN</td>\n      <td>NaN</td>\n      <td>NaN</td>\n    </tr>\n  </tbody>\n</table>\n<p>5 rows × 40 columns</p>\n</div>"
     },
     "metadata": {},
     "execution_count": 68
    }
   ],
   "source": [
    "df['parkingSpace_hasParkingSpace'].fillna(False, inplace=True)\n",
    "df.head()"
   ]
  },
  {
   "cell_type": "code",
   "execution_count": 72,
   "metadata": {
    "tags": []
   },
   "outputs": [
    {
     "output_type": "execute_result",
     "data": {
      "text/plain": "  propertyCode                                          thumbnail  \\\n0     88707408  https://img3.idealista.com/blur/WEB_LISTING/0/...   \n1     90050445  https://img3.idealista.com/blur/WEB_LISTING/0/...   \n2     89790054  https://img3.idealista.com/blur/WEB_LISTING/0/...   \n3     89813394  https://img3.idealista.com/blur/WEB_LISTING/0/...   \n4     90050238  https://img3.idealista.com/blur/WEB_LISTING/0/...   \n\n  externalReference  numPhotos floor   price propertyType operation   size  \\\n0          AL_Sants         18     3  1050.0         flat      rent   50.0   \n1       AB1508007-1         13     5  3000.0         flat      rent  170.0   \n2     CB_BCN_0286_A         17     4  1050.0         flat      rent   75.0   \n3          CREA1105         16     3   780.0       studio      rent   36.0   \n4          6977 OBG         14     1   725.0         flat      rent   65.0   \n\n   exterior  ...  has360  topNewDevelopment detailedType_typology  \\\n0      True  ...   False              False                  flat   \n1      True  ...   False              False                  flat   \n2      True  ...   False              False                  flat   \n3      True  ...   False              False                  flat   \n4      True  ...   False              False                  flat   \n\n                 suggestedTexts_subtitle                 suggestedTexts_title  \\\n0                       Sants, Barcelona          Piso en Calle de Sants, 208   \n1                   Pedralbes, Barcelona             Piso en Avenida Diagonal   \n2  La Maternitat i Sant Ramon, Barcelona  Piso en Calle del Comandant Benítez   \n3  La Maternitat i Sant Ramon, Barcelona                              Estudio   \n4   Sant Ildefons, Cornellà de Llobregat                         Piso en boix   \n\n  parkingSpace_hasParkingSpace parkingSpace_isParkingSpaceIncludedInPrice  \\\n0                        False                                        NaN   \n1                         True                                       True   \n2                        False                                        NaN   \n3                        False                                        NaN   \n4                        False                                        NaN   \n\n  detailedType_subTypology  parkingSpace_parkingSpacePrice  \\\n0                      NaN                             NaN   \n1                      NaN                             0.0   \n2                      NaN                             NaN   \n3                   studio                             NaN   \n4                      NaN                             NaN   \n\n   newDevelopmentFinished  \n0                     NaN  \n1                     NaN  \n2                     NaN  \n3                     NaN  \n4                     NaN  \n\n[5 rows x 40 columns]",
      "text/html": "<div>\n<style scoped>\n    .dataframe tbody tr th:only-of-type {\n        vertical-align: middle;\n    }\n\n    .dataframe tbody tr th {\n        vertical-align: top;\n    }\n\n    .dataframe thead th {\n        text-align: right;\n    }\n</style>\n<table border=\"1\" class=\"dataframe\">\n  <thead>\n    <tr style=\"text-align: right;\">\n      <th></th>\n      <th>propertyCode</th>\n      <th>thumbnail</th>\n      <th>externalReference</th>\n      <th>numPhotos</th>\n      <th>floor</th>\n      <th>price</th>\n      <th>propertyType</th>\n      <th>operation</th>\n      <th>size</th>\n      <th>exterior</th>\n      <th>...</th>\n      <th>has360</th>\n      <th>topNewDevelopment</th>\n      <th>detailedType_typology</th>\n      <th>suggestedTexts_subtitle</th>\n      <th>suggestedTexts_title</th>\n      <th>parkingSpace_hasParkingSpace</th>\n      <th>parkingSpace_isParkingSpaceIncludedInPrice</th>\n      <th>detailedType_subTypology</th>\n      <th>parkingSpace_parkingSpacePrice</th>\n      <th>newDevelopmentFinished</th>\n    </tr>\n  </thead>\n  <tbody>\n    <tr>\n      <th>0</th>\n      <td>88707408</td>\n      <td>https://img3.idealista.com/blur/WEB_LISTING/0/...</td>\n      <td>AL_Sants</td>\n      <td>18</td>\n      <td>3</td>\n      <td>1050.0</td>\n      <td>flat</td>\n      <td>rent</td>\n      <td>50.0</td>\n      <td>True</td>\n      <td>...</td>\n      <td>False</td>\n      <td>False</td>\n      <td>flat</td>\n      <td>Sants, Barcelona</td>\n      <td>Piso en Calle de Sants, 208</td>\n      <td>False</td>\n      <td>NaN</td>\n      <td>NaN</td>\n      <td>NaN</td>\n      <td>NaN</td>\n    </tr>\n    <tr>\n      <th>1</th>\n      <td>90050445</td>\n      <td>https://img3.idealista.com/blur/WEB_LISTING/0/...</td>\n      <td>AB1508007-1</td>\n      <td>13</td>\n      <td>5</td>\n      <td>3000.0</td>\n      <td>flat</td>\n      <td>rent</td>\n      <td>170.0</td>\n      <td>True</td>\n      <td>...</td>\n      <td>False</td>\n      <td>False</td>\n      <td>flat</td>\n      <td>Pedralbes, Barcelona</td>\n      <td>Piso en Avenida Diagonal</td>\n      <td>True</td>\n      <td>True</td>\n      <td>NaN</td>\n      <td>0.0</td>\n      <td>NaN</td>\n    </tr>\n    <tr>\n      <th>2</th>\n      <td>89790054</td>\n      <td>https://img3.idealista.com/blur/WEB_LISTING/0/...</td>\n      <td>CB_BCN_0286_A</td>\n      <td>17</td>\n      <td>4</td>\n      <td>1050.0</td>\n      <td>flat</td>\n      <td>rent</td>\n      <td>75.0</td>\n      <td>True</td>\n      <td>...</td>\n      <td>False</td>\n      <td>False</td>\n      <td>flat</td>\n      <td>La Maternitat i Sant Ramon, Barcelona</td>\n      <td>Piso en Calle del Comandant Benítez</td>\n      <td>False</td>\n      <td>NaN</td>\n      <td>NaN</td>\n      <td>NaN</td>\n      <td>NaN</td>\n    </tr>\n    <tr>\n      <th>3</th>\n      <td>89813394</td>\n      <td>https://img3.idealista.com/blur/WEB_LISTING/0/...</td>\n      <td>CREA1105</td>\n      <td>16</td>\n      <td>3</td>\n      <td>780.0</td>\n      <td>studio</td>\n      <td>rent</td>\n      <td>36.0</td>\n      <td>True</td>\n      <td>...</td>\n      <td>False</td>\n      <td>False</td>\n      <td>flat</td>\n      <td>La Maternitat i Sant Ramon, Barcelona</td>\n      <td>Estudio</td>\n      <td>False</td>\n      <td>NaN</td>\n      <td>studio</td>\n      <td>NaN</td>\n      <td>NaN</td>\n    </tr>\n    <tr>\n      <th>4</th>\n      <td>90050238</td>\n      <td>https://img3.idealista.com/blur/WEB_LISTING/0/...</td>\n      <td>6977 OBG</td>\n      <td>14</td>\n      <td>1</td>\n      <td>725.0</td>\n      <td>flat</td>\n      <td>rent</td>\n      <td>65.0</td>\n      <td>True</td>\n      <td>...</td>\n      <td>False</td>\n      <td>False</td>\n      <td>flat</td>\n      <td>Sant Ildefons, Cornellà de Llobregat</td>\n      <td>Piso en boix</td>\n      <td>False</td>\n      <td>NaN</td>\n      <td>NaN</td>\n      <td>NaN</td>\n      <td>NaN</td>\n    </tr>\n  </tbody>\n</table>\n<p>5 rows × 40 columns</p>\n</div>"
     },
     "metadata": {},
     "execution_count": 72
    }
   ],
   "source": [
    "has_parking_mask = (~df.parkingSpace_hasParkingSpace.isna()) & df.parkingSpace_hasParkingSpace\n",
    "df.loc[has_parking_mask & df.parkingSpace_isParkingSpaceIncludedInPrice, 'parkingSpace_parkingSpacePrice'] = 0\n",
    "#df.loc[has_parking_mask & df.parkingSpace_isParkingSpaceIncludedInPrice].parkingSpace_parkingSpacePrice = 0\n",
    "\n",
    "df.head()"
   ]
  },
  {
   "cell_type": "code",
   "execution_count": 90,
   "metadata": {},
   "outputs": [
    {
     "output_type": "execute_result",
     "data": {
      "text/plain": "  propertyCode                                          thumbnail  \\\n0     88707408  https://img3.idealista.com/blur/WEB_LISTING/0/...   \n1     90050445  https://img3.idealista.com/blur/WEB_LISTING/0/...   \n2     89790054  https://img3.idealista.com/blur/WEB_LISTING/0/...   \n3     89813394  https://img3.idealista.com/blur/WEB_LISTING/0/...   \n4     90050238  https://img3.idealista.com/blur/WEB_LISTING/0/...   \n\n  externalReference  numPhotos floor   price propertyType operation   size  \\\n0          AL_Sants         18     3  1050.0         flat      rent   50.0   \n1       AB1508007-1         13     5  3000.0         flat      rent  170.0   \n2     CB_BCN_0286_A         17     4  1050.0         flat      rent   75.0   \n3          CREA1105         16     3   780.0       studio      rent   36.0   \n4          6977 OBG         14     1   725.0         flat      rent   65.0   \n\n   exterior  ...  has360  topNewDevelopment detailedType_typology  \\\n0      True  ...   False              False                  flat   \n1      True  ...   False              False                  flat   \n2      True  ...   False              False                  flat   \n3      True  ...   False              False                  flat   \n4      True  ...   False              False                  flat   \n\n                 suggestedTexts_subtitle                 suggestedTexts_title  \\\n0                       Sants, Barcelona          Piso en Calle de Sants, 208   \n1                   Pedralbes, Barcelona             Piso en Avenida Diagonal   \n2  La Maternitat i Sant Ramon, Barcelona  Piso en Calle del Comandant Benítez   \n3  La Maternitat i Sant Ramon, Barcelona                              Estudio   \n4   Sant Ildefons, Cornellà de Llobregat                         Piso en boix   \n\n  parkingSpace_hasParkingSpace parkingSpace_isParkingSpaceIncludedInPrice  \\\n0                        False                                      False   \n1                         True                                       True   \n2                        False                                      False   \n3                        False                                      False   \n4                        False                                      False   \n\n  detailedType_subTypology  parkingSpace_parkingSpacePrice  \\\n0                  Unknown                             NaN   \n1                  Unknown                             0.0   \n2                  Unknown                             NaN   \n3                   studio                             NaN   \n4                  Unknown                             NaN   \n\n   newDevelopmentFinished  \n0                     NaN  \n1                     NaN  \n2                     NaN  \n3                     NaN  \n4                     NaN  \n\n[5 rows x 40 columns]",
      "text/html": "<div>\n<style scoped>\n    .dataframe tbody tr th:only-of-type {\n        vertical-align: middle;\n    }\n\n    .dataframe tbody tr th {\n        vertical-align: top;\n    }\n\n    .dataframe thead th {\n        text-align: right;\n    }\n</style>\n<table border=\"1\" class=\"dataframe\">\n  <thead>\n    <tr style=\"text-align: right;\">\n      <th></th>\n      <th>propertyCode</th>\n      <th>thumbnail</th>\n      <th>externalReference</th>\n      <th>numPhotos</th>\n      <th>floor</th>\n      <th>price</th>\n      <th>propertyType</th>\n      <th>operation</th>\n      <th>size</th>\n      <th>exterior</th>\n      <th>...</th>\n      <th>has360</th>\n      <th>topNewDevelopment</th>\n      <th>detailedType_typology</th>\n      <th>suggestedTexts_subtitle</th>\n      <th>suggestedTexts_title</th>\n      <th>parkingSpace_hasParkingSpace</th>\n      <th>parkingSpace_isParkingSpaceIncludedInPrice</th>\n      <th>detailedType_subTypology</th>\n      <th>parkingSpace_parkingSpacePrice</th>\n      <th>newDevelopmentFinished</th>\n    </tr>\n  </thead>\n  <tbody>\n    <tr>\n      <th>0</th>\n      <td>88707408</td>\n      <td>https://img3.idealista.com/blur/WEB_LISTING/0/...</td>\n      <td>AL_Sants</td>\n      <td>18</td>\n      <td>3</td>\n      <td>1050.0</td>\n      <td>flat</td>\n      <td>rent</td>\n      <td>50.0</td>\n      <td>True</td>\n      <td>...</td>\n      <td>False</td>\n      <td>False</td>\n      <td>flat</td>\n      <td>Sants, Barcelona</td>\n      <td>Piso en Calle de Sants, 208</td>\n      <td>False</td>\n      <td>False</td>\n      <td>Unknown</td>\n      <td>NaN</td>\n      <td>NaN</td>\n    </tr>\n    <tr>\n      <th>1</th>\n      <td>90050445</td>\n      <td>https://img3.idealista.com/blur/WEB_LISTING/0/...</td>\n      <td>AB1508007-1</td>\n      <td>13</td>\n      <td>5</td>\n      <td>3000.0</td>\n      <td>flat</td>\n      <td>rent</td>\n      <td>170.0</td>\n      <td>True</td>\n      <td>...</td>\n      <td>False</td>\n      <td>False</td>\n      <td>flat</td>\n      <td>Pedralbes, Barcelona</td>\n      <td>Piso en Avenida Diagonal</td>\n      <td>True</td>\n      <td>True</td>\n      <td>Unknown</td>\n      <td>0.0</td>\n      <td>NaN</td>\n    </tr>\n    <tr>\n      <th>2</th>\n      <td>89790054</td>\n      <td>https://img3.idealista.com/blur/WEB_LISTING/0/...</td>\n      <td>CB_BCN_0286_A</td>\n      <td>17</td>\n      <td>4</td>\n      <td>1050.0</td>\n      <td>flat</td>\n      <td>rent</td>\n      <td>75.0</td>\n      <td>True</td>\n      <td>...</td>\n      <td>False</td>\n      <td>False</td>\n      <td>flat</td>\n      <td>La Maternitat i Sant Ramon, Barcelona</td>\n      <td>Piso en Calle del Comandant Benítez</td>\n      <td>False</td>\n      <td>False</td>\n      <td>Unknown</td>\n      <td>NaN</td>\n      <td>NaN</td>\n    </tr>\n    <tr>\n      <th>3</th>\n      <td>89813394</td>\n      <td>https://img3.idealista.com/blur/WEB_LISTING/0/...</td>\n      <td>CREA1105</td>\n      <td>16</td>\n      <td>3</td>\n      <td>780.0</td>\n      <td>studio</td>\n      <td>rent</td>\n      <td>36.0</td>\n      <td>True</td>\n      <td>...</td>\n      <td>False</td>\n      <td>False</td>\n      <td>flat</td>\n      <td>La Maternitat i Sant Ramon, Barcelona</td>\n      <td>Estudio</td>\n      <td>False</td>\n      <td>False</td>\n      <td>studio</td>\n      <td>NaN</td>\n      <td>NaN</td>\n    </tr>\n    <tr>\n      <th>4</th>\n      <td>90050238</td>\n      <td>https://img3.idealista.com/blur/WEB_LISTING/0/...</td>\n      <td>6977 OBG</td>\n      <td>14</td>\n      <td>1</td>\n      <td>725.0</td>\n      <td>flat</td>\n      <td>rent</td>\n      <td>65.0</td>\n      <td>True</td>\n      <td>...</td>\n      <td>False</td>\n      <td>False</td>\n      <td>flat</td>\n      <td>Sant Ildefons, Cornellà de Llobregat</td>\n      <td>Piso en boix</td>\n      <td>False</td>\n      <td>False</td>\n      <td>Unknown</td>\n      <td>NaN</td>\n      <td>NaN</td>\n    </tr>\n  </tbody>\n</table>\n<p>5 rows × 40 columns</p>\n</div>"
     },
     "metadata": {},
     "execution_count": 90
    }
   ],
   "source": [
    "df['parkingSpace_isParkingSpaceIncludedInPrice'].fillna(False, inplace=True)\n",
    "df['detailedType_subTypology'].fillna(\"unknown\", inplace=True)\n",
    "df['thumbnail'].fillna('', inplace=True)\n",
    "df['externalReference'].fillna('', inplace=True)\n",
    "df['floor'].fillna('', inplace=True)\n",
    "df.head()"
   ]
  },
  {
   "cell_type": "code",
   "execution_count": 91,
   "metadata": {},
   "outputs": [
    {
     "output_type": "execute_result",
     "data": {
      "text/plain": "propertyCode                                  False\nthumbnail                                     False\nexternalReference                             False\nnumPhotos                                     False\nfloor                                          True\nprice                                         False\npropertyType                                  False\noperation                                     False\nsize                                          False\nexterior                                      False\nrooms                                         False\nbathrooms                                     False\naddress                                       False\nprovince                                      False\nmunicipality                                  False\ndistrict                                       True\ncountry                                       False\nneighborhood                                   True\nlatitude                                      False\nlongitude                                     False\nshowAddress                                   False\nurl                                           False\ndistance                                      False\nhasVideo                                      False\nstatus                                         True\nnewDevelopment                                False\nhasLift                                        True\npriceByArea                                   False\nhasPlan                                       False\nhas3DTour                                     False\nhas360                                        False\ntopNewDevelopment                             False\ndetailedType_typology                         False\nsuggestedTexts_subtitle                       False\nsuggestedTexts_title                          False\nparkingSpace_hasParkingSpace                  False\nparkingSpace_isParkingSpaceIncludedInPrice    False\ndetailedType_subTypology                      False\nparkingSpace_parkingSpacePrice                 True\nnewDevelopmentFinished                         True\ndtype: bool"
     },
     "metadata": {},
     "execution_count": 91
    }
   ],
   "source": [
    "df.isna().any(0)"
   ]
  },
  {
   "cell_type": "code",
   "execution_count": 99,
   "metadata": {},
   "outputs": [
    {
     "output_type": "execute_result",
     "data": {
      "text/plain": "(494, 40)"
     },
     "metadata": {},
     "execution_count": 99
    }
   ],
   "source": [
    "df[df.floor.isna() & (df.propertyType =='flat')].shape"
   ]
  }
 ],
 "metadata": {
  "language_info": {
   "codemirror_mode": {
    "name": "ipython",
    "version": 3
   },
   "file_extension": ".py",
   "mimetype": "text/x-python",
   "name": "python",
   "nbconvert_exporter": "python",
   "pygments_lexer": "ipython3",
   "version": "3.7.4-final"
  },
  "orig_nbformat": 2,
  "kernelspec": {
   "name": "python3",
   "display_name": "Python 3"
  }
 },
 "nbformat": 4,
 "nbformat_minor": 2
}