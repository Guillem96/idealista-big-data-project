{
 "cells": [
  {
   "cell_type": "markdown",
   "metadata": {},
   "source": [
    "# Clean the data\n",
    "\n",
    "Once we know the basic data sctructure, we have to clean it, so we can use it for other purposes such as analyis or even predective tasks.\n",
    "\n",
    "In this notebook we cover a basic data cleaning pipeline where we are going to deal with different problems:\n",
    "\n",
    "- Joining the different data files: We need to join all the files in a single csv so the posterior analysis is simplier.\n",
    "- Removing NaNs columns: Having a lot of data is nice, but usually, dealing with those large amounts of records also generates unconsistent data. Removing the NaN values we will improve the data consistency and hence the data value."
   ]
  },
  {
   "cell_type": "code",
   "execution_count": 25,
   "metadata": {},
   "outputs": [],
   "source": [
    "import json\n",
    "import requests\n",
    "from pathlib import Path\n",
    "\n",
    "import pandas as pd\n",
    "from PIL import Image"
   ]
  },
  {
   "cell_type": "code",
   "execution_count": 26,
   "metadata": {},
   "outputs": [],
   "source": [
    "DATA_PATH = Path('../data/raw/')"
   ]
  },
  {
   "cell_type": "markdown",
   "metadata": {},
   "source": [
    "## Joining the data\n",
    "\n",
    "First of all, we need to know which files it will be merge into the same DataFrame."
   ]
  },
  {
   "cell_type": "code",
   "execution_count": 27,
   "metadata": {},
   "outputs": [
    {
     "output_type": "execute_result",
     "data": {
      "text/plain": "[WindowsPath('../data/raw/Barna_rent.json'),\n WindowsPath('../data/raw/Girona_rent.json'),\n WindowsPath('../data/raw/Lleida_rent.json'),\n WindowsPath('../data/raw/Madrid_rent.json'),\n WindowsPath('../data/raw/Malaga_rent.json'),\n WindowsPath('../data/raw/Mallorca_rent.json'),\n WindowsPath('../data/raw/Tarragona_rent.json'),\n WindowsPath('../data/raw/Valencia_rent.json'),\n WindowsPath('../data/raw/Zaragoza_rent.json')]"
     },
     "metadata": {},
     "execution_count": 27
    }
   ],
   "source": [
    "list(DATA_PATH.glob('*.json'))"
   ]
  },
  {
   "cell_type": "markdown",
   "metadata": {},
   "source": [
    "Then, we will merge the data into a unique DataFrame because we know that all these data have the same json format."
   ]
  },
  {
   "cell_type": "code",
   "execution_count": 28,
   "metadata": {},
   "outputs": [
    {
     "output_type": "execute_result",
     "data": {
      "text/plain": "  propertyCode                                          thumbnail  \\\n0     88707408  https://img3.idealista.com/blur/WEB_LISTING/0/...   \n1     90050445  https://img3.idealista.com/blur/WEB_LISTING/0/...   \n2     89790054  https://img3.idealista.com/blur/WEB_LISTING/0/...   \n3     89813394  https://img3.idealista.com/blur/WEB_LISTING/0/...   \n4     90050238  https://img3.idealista.com/blur/WEB_LISTING/0/...   \n\n  externalReference  numPhotos floor   price propertyType operation   size  \\\n0          AL_Sants         18     3  1050.0         flat      rent   50.0   \n1       AB1508007-1         13     5  3000.0         flat      rent  170.0   \n2     CB_BCN_0286_A         17     4  1050.0         flat      rent   75.0   \n3          CREA1105         16     3   780.0       studio      rent   36.0   \n4          6977 OBG         14     1   725.0         flat      rent   65.0   \n\n   exterior  ...  topNewDevelopment  detailedType_typology  \\\n0      True  ...              False                   flat   \n1      True  ...              False                   flat   \n2      True  ...              False                   flat   \n3      True  ...              False                   flat   \n4      True  ...              False                   flat   \n\n                 suggestedTexts_subtitle                 suggestedTexts_title  \\\n0                       Sants, Barcelona          Piso en Calle de Sants, 208   \n1                   Pedralbes, Barcelona             Piso en Avenida Diagonal   \n2  La Maternitat i Sant Ramon, Barcelona  Piso en Calle del Comandant Benítez   \n3  La Maternitat i Sant Ramon, Barcelona                              Estudio   \n4   Sant Ildefons, Cornellà de Llobregat                         Piso en boix   \n\n  parkingSpace_hasParkingSpace parkingSpace_isParkingSpaceIncludedInPrice  \\\n0                          NaN                                        NaN   \n1                         True                                       True   \n2                          NaN                                        NaN   \n3                          NaN                                        NaN   \n4                          NaN                                        NaN   \n\n  detailedType_subTypology parkingSpace_parkingSpacePrice  \\\n0                      NaN                            NaN   \n1                      NaN                            NaN   \n2                      NaN                            NaN   \n3                   studio                            NaN   \n4                      NaN                            NaN   \n\n   newDevelopmentFinished  spain_state  \n0                     NaN        Barna  \n1                     NaN        Barna  \n2                     NaN        Barna  \n3                     NaN        Barna  \n4                     NaN        Barna  \n\n[5 rows x 41 columns]",
      "text/html": "<div>\n<style scoped>\n    .dataframe tbody tr th:only-of-type {\n        vertical-align: middle;\n    }\n\n    .dataframe tbody tr th {\n        vertical-align: top;\n    }\n\n    .dataframe thead th {\n        text-align: right;\n    }\n</style>\n<table border=\"1\" class=\"dataframe\">\n  <thead>\n    <tr style=\"text-align: right;\">\n      <th></th>\n      <th>propertyCode</th>\n      <th>thumbnail</th>\n      <th>externalReference</th>\n      <th>numPhotos</th>\n      <th>floor</th>\n      <th>price</th>\n      <th>propertyType</th>\n      <th>operation</th>\n      <th>size</th>\n      <th>exterior</th>\n      <th>...</th>\n      <th>topNewDevelopment</th>\n      <th>detailedType_typology</th>\n      <th>suggestedTexts_subtitle</th>\n      <th>suggestedTexts_title</th>\n      <th>parkingSpace_hasParkingSpace</th>\n      <th>parkingSpace_isParkingSpaceIncludedInPrice</th>\n      <th>detailedType_subTypology</th>\n      <th>parkingSpace_parkingSpacePrice</th>\n      <th>newDevelopmentFinished</th>\n      <th>spain_state</th>\n    </tr>\n  </thead>\n  <tbody>\n    <tr>\n      <th>0</th>\n      <td>88707408</td>\n      <td>https://img3.idealista.com/blur/WEB_LISTING/0/...</td>\n      <td>AL_Sants</td>\n      <td>18</td>\n      <td>3</td>\n      <td>1050.0</td>\n      <td>flat</td>\n      <td>rent</td>\n      <td>50.0</td>\n      <td>True</td>\n      <td>...</td>\n      <td>False</td>\n      <td>flat</td>\n      <td>Sants, Barcelona</td>\n      <td>Piso en Calle de Sants, 208</td>\n      <td>NaN</td>\n      <td>NaN</td>\n      <td>NaN</td>\n      <td>NaN</td>\n      <td>NaN</td>\n      <td>Barna</td>\n    </tr>\n    <tr>\n      <th>1</th>\n      <td>90050445</td>\n      <td>https://img3.idealista.com/blur/WEB_LISTING/0/...</td>\n      <td>AB1508007-1</td>\n      <td>13</td>\n      <td>5</td>\n      <td>3000.0</td>\n      <td>flat</td>\n      <td>rent</td>\n      <td>170.0</td>\n      <td>True</td>\n      <td>...</td>\n      <td>False</td>\n      <td>flat</td>\n      <td>Pedralbes, Barcelona</td>\n      <td>Piso en Avenida Diagonal</td>\n      <td>True</td>\n      <td>True</td>\n      <td>NaN</td>\n      <td>NaN</td>\n      <td>NaN</td>\n      <td>Barna</td>\n    </tr>\n    <tr>\n      <th>2</th>\n      <td>89790054</td>\n      <td>https://img3.idealista.com/blur/WEB_LISTING/0/...</td>\n      <td>CB_BCN_0286_A</td>\n      <td>17</td>\n      <td>4</td>\n      <td>1050.0</td>\n      <td>flat</td>\n      <td>rent</td>\n      <td>75.0</td>\n      <td>True</td>\n      <td>...</td>\n      <td>False</td>\n      <td>flat</td>\n      <td>La Maternitat i Sant Ramon, Barcelona</td>\n      <td>Piso en Calle del Comandant Benítez</td>\n      <td>NaN</td>\n      <td>NaN</td>\n      <td>NaN</td>\n      <td>NaN</td>\n      <td>NaN</td>\n      <td>Barna</td>\n    </tr>\n    <tr>\n      <th>3</th>\n      <td>89813394</td>\n      <td>https://img3.idealista.com/blur/WEB_LISTING/0/...</td>\n      <td>CREA1105</td>\n      <td>16</td>\n      <td>3</td>\n      <td>780.0</td>\n      <td>studio</td>\n      <td>rent</td>\n      <td>36.0</td>\n      <td>True</td>\n      <td>...</td>\n      <td>False</td>\n      <td>flat</td>\n      <td>La Maternitat i Sant Ramon, Barcelona</td>\n      <td>Estudio</td>\n      <td>NaN</td>\n      <td>NaN</td>\n      <td>studio</td>\n      <td>NaN</td>\n      <td>NaN</td>\n      <td>Barna</td>\n    </tr>\n    <tr>\n      <th>4</th>\n      <td>90050238</td>\n      <td>https://img3.idealista.com/blur/WEB_LISTING/0/...</td>\n      <td>6977 OBG</td>\n      <td>14</td>\n      <td>1</td>\n      <td>725.0</td>\n      <td>flat</td>\n      <td>rent</td>\n      <td>65.0</td>\n      <td>True</td>\n      <td>...</td>\n      <td>False</td>\n      <td>flat</td>\n      <td>Sant Ildefons, Cornellà de Llobregat</td>\n      <td>Piso en boix</td>\n      <td>NaN</td>\n      <td>NaN</td>\n      <td>NaN</td>\n      <td>NaN</td>\n      <td>NaN</td>\n      <td>Barna</td>\n    </tr>\n  </tbody>\n</table>\n<p>5 rows × 41 columns</p>\n</div>"
     },
     "metadata": {},
     "execution_count": 28
    }
   ],
   "source": [
    "def city_name_from_path(p):\n",
    "    return p.stem.split('_')[0]\n",
    "\n",
    "df = pd.DataFrame()\n",
    "\n",
    "for f in DATA_PATH.glob('*.json'):\n",
    "    jdata = json.load(f.open())\n",
    "    current_df = pd.json_normalize(jdata, sep='_')\n",
    "    current_df['spain_state'] = city_name_from_path(f)\n",
    "    df = df.append(current_df)\n",
    "\n",
    "df.head()"
   ]
  },
  {
   "cell_type": "markdown",
   "metadata": {},
   "source": [
    "Note that as we were appending the multiple dataframes, we were generating a new `spain_state` column. This will be pretty handy later because we are going to perform statistics regarding to the flats' state.\n",
    "\n",
    "As we can see on the previous table, each line contains NaN values, it could be produced because one flat doesn't have a parking space or something like that."
   ]
  },
  {
   "cell_type": "code",
   "execution_count": 29,
   "metadata": {
    "tags": []
   },
   "outputs": [
    {
     "output_type": "stream",
     "name": "stdout",
     "text": "Rows containing NaN: 9974\n"
    }
   ],
   "source": [
    "print('Rows containing NaN:', df.isna().any(axis=1).sum())"
   ]
  },
  {
   "cell_type": "markdown",
   "metadata": {},
   "source": [
    "## Removing NaNs"
   ]
  },
  {
   "cell_type": "markdown",
   "metadata": {},
   "source": [
    "To start removing NaNs values is always a good idea to know which columns contain those undesired values."
   ]
  },
  {
   "cell_type": "code",
   "execution_count": 30,
   "metadata": {},
   "outputs": [
    {
     "output_type": "execute_result",
     "data": {
      "text/plain": "propertyCode                                  False\nthumbnail                                      True\nexternalReference                              True\nnumPhotos                                     False\nfloor                                          True\nprice                                         False\npropertyType                                  False\noperation                                     False\nsize                                          False\nexterior                                      False\nrooms                                         False\nbathrooms                                     False\naddress                                       False\nprovince                                      False\nmunicipality                                  False\ndistrict                                       True\ncountry                                       False\nneighborhood                                   True\nlatitude                                      False\nlongitude                                     False\nshowAddress                                   False\nurl                                           False\ndistance                                      False\nhasVideo                                      False\nstatus                                         True\nnewDevelopment                                False\nhasLift                                        True\npriceByArea                                   False\nhasPlan                                       False\nhas3DTour                                     False\nhas360                                        False\ntopNewDevelopment                             False\ndetailedType_typology                         False\nsuggestedTexts_subtitle                       False\nsuggestedTexts_title                          False\nparkingSpace_hasParkingSpace                   True\nparkingSpace_isParkingSpaceIncludedInPrice     True\ndetailedType_subTypology                       True\nparkingSpace_parkingSpacePrice                 True\nnewDevelopmentFinished                         True\nspain_state                                   False\ndtype: bool"
     },
     "metadata": {},
     "execution_count": 30
    }
   ],
   "source": [
    "df.isna().any(0)"
   ]
  },
  {
   "cell_type": "code",
   "execution_count": 31,
   "metadata": {
    "tags": []
   },
   "outputs": [
    {
     "output_type": "stream",
     "name": "stdout",
     "text": "Number of columns that contain NaNs: 12\n"
    }
   ],
   "source": [
    "print('Number of columns that contain NaNs:', df.isna().any(0).sum())"
   ]
  },
  {
   "cell_type": "markdown",
   "metadata": {},
   "source": [
    "Only 12 columns out of 40 contain NaNs values.\n",
    "\n",
    "In the following subsections, we are going to remove the NaNs for each column and explaining why we decided to remove, replace or keep the NaN values."
   ]
  },
  {
   "cell_type": "markdown",
   "metadata": {},
   "source": [
    "### Thumbnail NaNs\n",
    "\n",
    "Thumbnail is the phtoto that users see while they are scrolling a search on the idealista web page. Setting a good Thumbnail is determining success factor to rent or sell your announced flat, home or whatever. Therefore we expect few NaNs on this column. "
   ]
  },
  {
   "cell_type": "code",
   "execution_count": 32,
   "metadata": {
    "tags": []
   },
   "outputs": [
    {
     "output_type": "stream",
     "name": "stdout",
     "text": "Thumbnail NaNs are 12 out of 9974 rows\n"
    }
   ],
   "source": [
    "print(f'Thumbnail NaNs are {df.thumbnail.isna().sum()} out of {df.shape[0]} rows')"
   ]
  },
  {
   "cell_type": "markdown",
   "metadata": {},
   "source": [
    "As exected we have a small percentace of ads without thumbnail. We think that keeping the NaNs here is a good idea because usually a flat without a cover image is not from a trustworthy person.\n",
    "\n",
    "Instead of keeping the NaNs, we are going to change them with a \"no image\" url. This will simplify the posterior dataframe querying and avoid unecessary filters."
   ]
  },
  {
   "cell_type": "code",
   "execution_count": 33,
   "metadata": {},
   "outputs": [],
   "source": [
    "nan_thumbnail_mask = df.thumbnail.isna()\n",
    "df.loc[nan_thumbnail_mask, 'thumbnail'] = 'https://thumbs.dreamstime.com/b/no-image-available-icon-photo-camera-flat-vector-illustration-132483141.jpg'"
   ]
  },
  {
   "cell_type": "code",
   "execution_count": 42,
   "metadata": {},
   "outputs": [
    {
     "output_type": "execute_result",
     "data": {
      "text/plain": "<PIL.Image.Image image mode=L size=128x128 at 0x231EBE62E08>",
      "image/png": "[encoded data removed]"
     },
     "metadata": {},
     "execution_count": 42
    }
   ],
   "source": [
    "def download_image(url):\n",
    "    return Image.open(requests.get(url, stream=True).raw)\n",
    "\n",
    "download_image(df[nan_thumbnail_mask]['thumbnail'].iloc[0]).resize((128, 128))"
   ]
  },
  {
   "cell_type": "markdown",
   "metadata": {},
   "source": [
    "### External Reference NaNs\n",
    "\n",
    "TODO"
   ]
  },
  {
   "cell_type": "code",
   "execution_count": 35,
   "metadata": {},
   "outputs": [
    {
     "output_type": "execute_result",
     "data": {
      "text/plain": "  propertyCode                                          thumbnail  \\\n0     88707408  https://img3.idealista.com/blur/WEB_LISTING/0/...   \n1     90050445  https://img3.idealista.com/blur/WEB_LISTING/0/...   \n2     89790054  https://img3.idealista.com/blur/WEB_LISTING/0/...   \n3     89813394  https://img3.idealista.com/blur/WEB_LISTING/0/...   \n4     90050238  https://img3.idealista.com/blur/WEB_LISTING/0/...   \n\n  externalReference  numPhotos floor   price propertyType operation   size  \\\n0          AL_Sants         18     3  1050.0         flat      rent   50.0   \n1       AB1508007-1         13     5  3000.0         flat      rent  170.0   \n2     CB_BCN_0286_A         17     4  1050.0         flat      rent   75.0   \n3          CREA1105         16     3   780.0       studio      rent   36.0   \n4          6977 OBG         14     1   725.0         flat      rent   65.0   \n\n   exterior  ...  topNewDevelopment  detailedType_typology  \\\n0      True  ...              False                   flat   \n1      True  ...              False                   flat   \n2      True  ...              False                   flat   \n3      True  ...              False                   flat   \n4      True  ...              False                   flat   \n\n                 suggestedTexts_subtitle                 suggestedTexts_title  \\\n0                       Sants, Barcelona          Piso en Calle de Sants, 208   \n1                   Pedralbes, Barcelona             Piso en Avenida Diagonal   \n2  La Maternitat i Sant Ramon, Barcelona  Piso en Calle del Comandant Benítez   \n3  La Maternitat i Sant Ramon, Barcelona                              Estudio   \n4   Sant Ildefons, Cornellà de Llobregat                         Piso en boix   \n\n  parkingSpace_hasParkingSpace parkingSpace_isParkingSpaceIncludedInPrice  \\\n0                        False                                        NaN   \n1                         True                                       True   \n2                        False                                        NaN   \n3                        False                                        NaN   \n4                        False                                        NaN   \n\n  detailedType_subTypology parkingSpace_parkingSpacePrice  \\\n0                      NaN                            NaN   \n1                      NaN                            NaN   \n2                      NaN                            NaN   \n3                   studio                            NaN   \n4                      NaN                            NaN   \n\n   newDevelopmentFinished  spain_state  \n0                     NaN        Barna  \n1                     NaN        Barna  \n2                     NaN        Barna  \n3                     NaN        Barna  \n4                     NaN        Barna  \n\n[5 rows x 41 columns]",
      "text/html": "<div>\n<style scoped>\n    .dataframe tbody tr th:only-of-type {\n        vertical-align: middle;\n    }\n\n    .dataframe tbody tr th {\n        vertical-align: top;\n    }\n\n    .dataframe thead th {\n        text-align: right;\n    }\n</style>\n<table border=\"1\" class=\"dataframe\">\n  <thead>\n    <tr style=\"text-align: right;\">\n      <th></th>\n      <th>propertyCode</th>\n      <th>thumbnail</th>\n      <th>externalReference</th>\n      <th>numPhotos</th>\n      <th>floor</th>\n      <th>price</th>\n      <th>propertyType</th>\n      <th>operation</th>\n      <th>size</th>\n      <th>exterior</th>\n      <th>...</th>\n      <th>topNewDevelopment</th>\n      <th>detailedType_typology</th>\n      <th>suggestedTexts_subtitle</th>\n      <th>suggestedTexts_title</th>\n      <th>parkingSpace_hasParkingSpace</th>\n      <th>parkingSpace_isParkingSpaceIncludedInPrice</th>\n      <th>detailedType_subTypology</th>\n      <th>parkingSpace_parkingSpacePrice</th>\n      <th>newDevelopmentFinished</th>\n      <th>spain_state</th>\n    </tr>\n  </thead>\n  <tbody>\n    <tr>\n      <th>0</th>\n      <td>88707408</td>\n      <td>https://img3.idealista.com/blur/WEB_LISTING/0/...</td>\n      <td>AL_Sants</td>\n      <td>18</td>\n      <td>3</td>\n      <td>1050.0</td>\n      <td>flat</td>\n      <td>rent</td>\n      <td>50.0</td>\n      <td>True</td>\n      <td>...</td>\n      <td>False</td>\n      <td>flat</td>\n      <td>Sants, Barcelona</td>\n      <td>Piso en Calle de Sants, 208</td>\n      <td>False</td>\n      <td>NaN</td>\n      <td>NaN</td>\n      <td>NaN</td>\n      <td>NaN</td>\n      <td>Barna</td>\n    </tr>\n    <tr>\n      <th>1</th>\n      <td>90050445</td>\n      <td>https://img3.idealista.com/blur/WEB_LISTING/0/...</td>\n      <td>AB1508007-1</td>\n      <td>13</td>\n      <td>5</td>\n      <td>3000.0</td>\n      <td>flat</td>\n      <td>rent</td>\n      <td>170.0</td>\n      <td>True</td>\n      <td>...</td>\n      <td>False</td>\n      <td>flat</td>\n      <td>Pedralbes, Barcelona</td>\n      <td>Piso en Avenida Diagonal</td>\n      <td>True</td>\n      <td>True</td>\n      <td>NaN</td>\n      <td>NaN</td>\n      <td>NaN</td>\n      <td>Barna</td>\n    </tr>\n    <tr>\n      <th>2</th>\n      <td>89790054</td>\n      <td>https://img3.idealista.com/blur/WEB_LISTING/0/...</td>\n      <td>CB_BCN_0286_A</td>\n      <td>17</td>\n      <td>4</td>\n      <td>1050.0</td>\n      <td>flat</td>\n      <td>rent</td>\n      <td>75.0</td>\n      <td>True</td>\n      <td>...</td>\n      <td>False</td>\n      <td>flat</td>\n      <td>La Maternitat i Sant Ramon, Barcelona</td>\n      <td>Piso en Calle del Comandant Benítez</td>\n      <td>False</td>\n      <td>NaN</td>\n      <td>NaN</td>\n      <td>NaN</td>\n      <td>NaN</td>\n      <td>Barna</td>\n    </tr>\n    <tr>\n      <th>3</th>\n      <td>89813394</td>\n      <td>https://img3.idealista.com/blur/WEB_LISTING/0/...</td>\n      <td>CREA1105</td>\n      <td>16</td>\n      <td>3</td>\n      <td>780.0</td>\n      <td>studio</td>\n      <td>rent</td>\n      <td>36.0</td>\n      <td>True</td>\n      <td>...</td>\n      <td>False</td>\n      <td>flat</td>\n      <td>La Maternitat i Sant Ramon, Barcelona</td>\n      <td>Estudio</td>\n      <td>False</td>\n      <td>NaN</td>\n      <td>studio</td>\n      <td>NaN</td>\n      <td>NaN</td>\n      <td>Barna</td>\n    </tr>\n    <tr>\n      <th>4</th>\n      <td>90050238</td>\n      <td>https://img3.idealista.com/blur/WEB_LISTING/0/...</td>\n      <td>6977 OBG</td>\n      <td>14</td>\n      <td>1</td>\n      <td>725.0</td>\n      <td>flat</td>\n      <td>rent</td>\n      <td>65.0</td>\n      <td>True</td>\n      <td>...</td>\n      <td>False</td>\n      <td>flat</td>\n      <td>Sant Ildefons, Cornellà de Llobregat</td>\n      <td>Piso en boix</td>\n      <td>False</td>\n      <td>NaN</td>\n      <td>NaN</td>\n      <td>NaN</td>\n      <td>NaN</td>\n      <td>Barna</td>\n    </tr>\n  </tbody>\n</table>\n<p>5 rows × 41 columns</p>\n</div>"
     },
     "metadata": {},
     "execution_count": 35
    }
   ],
   "source": [
    "df['parkingSpace_hasParkingSpace'].fillna(False, inplace=True)\n",
    "df.head()"
   ]
  },
  {
   "cell_type": "code",
   "execution_count": 36,
   "metadata": {
    "tags": []
   },
   "outputs": [
    {
     "output_type": "execute_result",
     "data": {
      "text/plain": "  propertyCode                                          thumbnail  \\\n0     88707408  https://img3.idealista.com/blur/WEB_LISTING/0/...   \n1     90050445  https://img3.idealista.com/blur/WEB_LISTING/0/...   \n2     89790054  https://img3.idealista.com/blur/WEB_LISTING/0/...   \n3     89813394  https://img3.idealista.com/blur/WEB_LISTING/0/...   \n4     90050238  https://img3.idealista.com/blur/WEB_LISTING/0/...   \n\n  externalReference  numPhotos floor   price propertyType operation   size  \\\n0          AL_Sants         18     3  1050.0         flat      rent   50.0   \n1       AB1508007-1         13     5  3000.0         flat      rent  170.0   \n2     CB_BCN_0286_A         17     4  1050.0         flat      rent   75.0   \n3          CREA1105         16     3   780.0       studio      rent   36.0   \n4          6977 OBG         14     1   725.0         flat      rent   65.0   \n\n   exterior  ...  topNewDevelopment  detailedType_typology  \\\n0      True  ...              False                   flat   \n1      True  ...              False                   flat   \n2      True  ...              False                   flat   \n3      True  ...              False                   flat   \n4      True  ...              False                   flat   \n\n                 suggestedTexts_subtitle                 suggestedTexts_title  \\\n0                       Sants, Barcelona          Piso en Calle de Sants, 208   \n1                   Pedralbes, Barcelona             Piso en Avenida Diagonal   \n2  La Maternitat i Sant Ramon, Barcelona  Piso en Calle del Comandant Benítez   \n3  La Maternitat i Sant Ramon, Barcelona                              Estudio   \n4   Sant Ildefons, Cornellà de Llobregat                         Piso en boix   \n\n  parkingSpace_hasParkingSpace parkingSpace_isParkingSpaceIncludedInPrice  \\\n0                        False                                        NaN   \n1                         True                                       True   \n2                        False                                        NaN   \n3                        False                                        NaN   \n4                        False                                        NaN   \n\n  detailedType_subTypology parkingSpace_parkingSpacePrice  \\\n0                      NaN                            NaN   \n1                      NaN                            0.0   \n2                      NaN                            NaN   \n3                   studio                            NaN   \n4                      NaN                            NaN   \n\n   newDevelopmentFinished  spain_state  \n0                     NaN        Barna  \n1                     NaN        Barna  \n2                     NaN        Barna  \n3                     NaN        Barna  \n4                     NaN        Barna  \n\n[5 rows x 41 columns]",
      "text/html": "<div>\n<style scoped>\n    .dataframe tbody tr th:only-of-type {\n        vertical-align: middle;\n    }\n\n    .dataframe tbody tr th {\n        vertical-align: top;\n    }\n\n    .dataframe thead th {\n        text-align: right;\n    }\n</style>\n<table border=\"1\" class=\"dataframe\">\n  <thead>\n    <tr style=\"text-align: right;\">\n      <th></th>\n      <th>propertyCode</th>\n      <th>thumbnail</th>\n      <th>externalReference</th>\n      <th>numPhotos</th>\n      <th>floor</th>\n      <th>price</th>\n      <th>propertyType</th>\n      <th>operation</th>\n      <th>size</th>\n      <th>exterior</th>\n      <th>...</th>\n      <th>topNewDevelopment</th>\n      <th>detailedType_typology</th>\n      <th>suggestedTexts_subtitle</th>\n      <th>suggestedTexts_title</th>\n      <th>parkingSpace_hasParkingSpace</th>\n      <th>parkingSpace_isParkingSpaceIncludedInPrice</th>\n      <th>detailedType_subTypology</th>\n      <th>parkingSpace_parkingSpacePrice</th>\n      <th>newDevelopmentFinished</th>\n      <th>spain_state</th>\n    </tr>\n  </thead>\n  <tbody>\n    <tr>\n      <th>0</th>\n      <td>88707408</td>\n      <td>https://img3.idealista.com/blur/WEB_LISTING/0/...</td>\n      <td>AL_Sants</td>\n      <td>18</td>\n      <td>3</td>\n      <td>1050.0</td>\n      <td>flat</td>\n      <td>rent</td>\n      <td>50.0</td>\n      <td>True</td>\n      <td>...</td>\n      <td>False</td>\n      <td>flat</td>\n      <td>Sants, Barcelona</td>\n      <td>Piso en Calle de Sants, 208</td>\n      <td>False</td>\n      <td>NaN</td>\n      <td>NaN</td>\n      <td>NaN</td>\n      <td>NaN</td>\n      <td>Barna</td>\n    </tr>\n    <tr>\n      <th>1</th>\n      <td>90050445</td>\n      <td>https://img3.idealista.com/blur/WEB_LISTING/0/...</td>\n      <td>AB1508007-1</td>\n      <td>13</td>\n      <td>5</td>\n      <td>3000.0</td>\n      <td>flat</td>\n      <td>rent</td>\n      <td>170.0</td>\n      <td>True</td>\n      <td>...</td>\n      <td>False</td>\n      <td>flat</td>\n      <td>Pedralbes, Barcelona</td>\n      <td>Piso en Avenida Diagonal</td>\n      <td>True</td>\n      <td>True</td>\n      <td>NaN</td>\n      <td>0.0</td>\n      <td>NaN</td>\n      <td>Barna</td>\n    </tr>\n    <tr>\n      <th>2</th>\n      <td>89790054</td>\n      <td>https://img3.idealista.com/blur/WEB_LISTING/0/...</td>\n      <td>CB_BCN_0286_A</td>\n      <td>17</td>\n      <td>4</td>\n      <td>1050.0</td>\n      <td>flat</td>\n      <td>rent</td>\n      <td>75.0</td>\n      <td>True</td>\n      <td>...</td>\n      <td>False</td>\n      <td>flat</td>\n      <td>La Maternitat i Sant Ramon, Barcelona</td>\n      <td>Piso en Calle del Comandant Benítez</td>\n      <td>False</td>\n      <td>NaN</td>\n      <td>NaN</td>\n      <td>NaN</td>\n      <td>NaN</td>\n      <td>Barna</td>\n    </tr>\n    <tr>\n      <th>3</th>\n      <td>89813394</td>\n      <td>https://img3.idealista.com/blur/WEB_LISTING/0/...</td>\n      <td>CREA1105</td>\n      <td>16</td>\n      <td>3</td>\n      <td>780.0</td>\n      <td>studio</td>\n      <td>rent</td>\n      <td>36.0</td>\n      <td>True</td>\n      <td>...</td>\n      <td>False</td>\n      <td>flat</td>\n      <td>La Maternitat i Sant Ramon, Barcelona</td>\n      <td>Estudio</td>\n      <td>False</td>\n      <td>NaN</td>\n      <td>studio</td>\n      <td>NaN</td>\n      <td>NaN</td>\n      <td>Barna</td>\n    </tr>\n    <tr>\n      <th>4</th>\n      <td>90050238</td>\n      <td>https://img3.idealista.com/blur/WEB_LISTING/0/...</td>\n      <td>6977 OBG</td>\n      <td>14</td>\n      <td>1</td>\n      <td>725.0</td>\n      <td>flat</td>\n      <td>rent</td>\n      <td>65.0</td>\n      <td>True</td>\n      <td>...</td>\n      <td>False</td>\n      <td>flat</td>\n      <td>Sant Ildefons, Cornellà de Llobregat</td>\n      <td>Piso en boix</td>\n      <td>False</td>\n      <td>NaN</td>\n      <td>NaN</td>\n      <td>NaN</td>\n      <td>NaN</td>\n      <td>Barna</td>\n    </tr>\n  </tbody>\n</table>\n<p>5 rows × 41 columns</p>\n</div>"
     },
     "metadata": {},
     "execution_count": 36
    }
   ],
   "source": [
    "has_parking_mask = (~df.parkingSpace_hasParkingSpace.isna()) & df.parkingSpace_hasParkingSpace\n",
    "df.loc[has_parking_mask & df.parkingSpace_isParkingSpaceIncludedInPrice, 'parkingSpace_parkingSpacePrice'] = 0\n",
    "#df.loc[has_parking_mask & df.parkingSpace_isParkingSpaceIncludedInPrice].parkingSpace_parkingSpacePrice = 0\n",
    "\n",
    "df.head()"
   ]
  },
  {
   "cell_type": "code",
   "execution_count": 37,
   "metadata": {},
   "outputs": [
    {
     "output_type": "execute_result",
     "data": {
      "text/plain": "  propertyCode                                          thumbnail  \\\n0     88707408  https://img3.idealista.com/blur/WEB_LISTING/0/...   \n1     90050445  https://img3.idealista.com/blur/WEB_LISTING/0/...   \n2     89790054  https://img3.idealista.com/blur/WEB_LISTING/0/...   \n3     89813394  https://img3.idealista.com/blur/WEB_LISTING/0/...   \n4     90050238  https://img3.idealista.com/blur/WEB_LISTING/0/...   \n\n  externalReference  numPhotos floor   price propertyType operation   size  \\\n0          AL_Sants         18     3  1050.0         flat      rent   50.0   \n1       AB1508007-1         13     5  3000.0         flat      rent  170.0   \n2     CB_BCN_0286_A         17     4  1050.0         flat      rent   75.0   \n3          CREA1105         16     3   780.0       studio      rent   36.0   \n4          6977 OBG         14     1   725.0         flat      rent   65.0   \n\n   exterior  ...  topNewDevelopment  detailedType_typology  \\\n0      True  ...              False                   flat   \n1      True  ...              False                   flat   \n2      True  ...              False                   flat   \n3      True  ...              False                   flat   \n4      True  ...              False                   flat   \n\n                 suggestedTexts_subtitle                 suggestedTexts_title  \\\n0                       Sants, Barcelona          Piso en Calle de Sants, 208   \n1                   Pedralbes, Barcelona             Piso en Avenida Diagonal   \n2  La Maternitat i Sant Ramon, Barcelona  Piso en Calle del Comandant Benítez   \n3  La Maternitat i Sant Ramon, Barcelona                              Estudio   \n4   Sant Ildefons, Cornellà de Llobregat                         Piso en boix   \n\n  parkingSpace_hasParkingSpace parkingSpace_isParkingSpaceIncludedInPrice  \\\n0                        False                                      False   \n1                         True                                       True   \n2                        False                                      False   \n3                        False                                      False   \n4                        False                                      False   \n\n  detailedType_subTypology parkingSpace_parkingSpacePrice  \\\n0                  unknown                            NaN   \n1                  unknown                            0.0   \n2                  unknown                            NaN   \n3                   studio                            NaN   \n4                  unknown                            NaN   \n\n   newDevelopmentFinished  spain_state  \n0                     NaN        Barna  \n1                     NaN        Barna  \n2                     NaN        Barna  \n3                     NaN        Barna  \n4                     NaN        Barna  \n\n[5 rows x 41 columns]",
      "text/html": "<div>\n<style scoped>\n    .dataframe tbody tr th:only-of-type {\n        vertical-align: middle;\n    }\n\n    .dataframe tbody tr th {\n        vertical-align: top;\n    }\n\n    .dataframe thead th {\n        text-align: right;\n    }\n</style>\n<table border=\"1\" class=\"dataframe\">\n  <thead>\n    <tr style=\"text-align: right;\">\n      <th></th>\n      <th>propertyCode</th>\n      <th>thumbnail</th>\n      <th>externalReference</th>\n      <th>numPhotos</th>\n      <th>floor</th>\n      <th>price</th>\n      <th>propertyType</th>\n      <th>operation</th>\n      <th>size</th>\n      <th>exterior</th>\n      <th>...</th>\n      <th>topNewDevelopment</th>\n      <th>detailedType_typology</th>\n      <th>suggestedTexts_subtitle</th>\n      <th>suggestedTexts_title</th>\n      <th>parkingSpace_hasParkingSpace</th>\n      <th>parkingSpace_isParkingSpaceIncludedInPrice</th>\n      <th>detailedType_subTypology</th>\n      <th>parkingSpace_parkingSpacePrice</th>\n      <th>newDevelopmentFinished</th>\n      <th>spain_state</th>\n    </tr>\n  </thead>\n  <tbody>\n    <tr>\n      <th>0</th>\n      <td>88707408</td>\n      <td>https://img3.idealista.com/blur/WEB_LISTING/0/...</td>\n      <td>AL_Sants</td>\n      <td>18</td>\n      <td>3</td>\n      <td>1050.0</td>\n      <td>flat</td>\n      <td>rent</td>\n      <td>50.0</td>\n      <td>True</td>\n      <td>...</td>\n      <td>False</td>\n      <td>flat</td>\n      <td>Sants, Barcelona</td>\n      <td>Piso en Calle de Sants, 208</td>\n      <td>False</td>\n      <td>False</td>\n      <td>unknown</td>\n      <td>NaN</td>\n      <td>NaN</td>\n      <td>Barna</td>\n    </tr>\n    <tr>\n      <th>1</th>\n      <td>90050445</td>\n      <td>https://img3.idealista.com/blur/WEB_LISTING/0/...</td>\n      <td>AB1508007-1</td>\n      <td>13</td>\n      <td>5</td>\n      <td>3000.0</td>\n      <td>flat</td>\n      <td>rent</td>\n      <td>170.0</td>\n      <td>True</td>\n      <td>...</td>\n      <td>False</td>\n      <td>flat</td>\n      <td>Pedralbes, Barcelona</td>\n      <td>Piso en Avenida Diagonal</td>\n      <td>True</td>\n      <td>True</td>\n      <td>unknown</td>\n      <td>0.0</td>\n      <td>NaN</td>\n      <td>Barna</td>\n    </tr>\n    <tr>\n      <th>2</th>\n      <td>89790054</td>\n      <td>https://img3.idealista.com/blur/WEB_LISTING/0/...</td>\n      <td>CB_BCN_0286_A</td>\n      <td>17</td>\n      <td>4</td>\n      <td>1050.0</td>\n      <td>flat</td>\n      <td>rent</td>\n      <td>75.0</td>\n      <td>True</td>\n      <td>...</td>\n      <td>False</td>\n      <td>flat</td>\n      <td>La Maternitat i Sant Ramon, Barcelona</td>\n      <td>Piso en Calle del Comandant Benítez</td>\n      <td>False</td>\n      <td>False</td>\n      <td>unknown</td>\n      <td>NaN</td>\n      <td>NaN</td>\n      <td>Barna</td>\n    </tr>\n    <tr>\n      <th>3</th>\n      <td>89813394</td>\n      <td>https://img3.idealista.com/blur/WEB_LISTING/0/...</td>\n      <td>CREA1105</td>\n      <td>16</td>\n      <td>3</td>\n      <td>780.0</td>\n      <td>studio</td>\n      <td>rent</td>\n      <td>36.0</td>\n      <td>True</td>\n      <td>...</td>\n      <td>False</td>\n      <td>flat</td>\n      <td>La Maternitat i Sant Ramon, Barcelona</td>\n      <td>Estudio</td>\n      <td>False</td>\n      <td>False</td>\n      <td>studio</td>\n      <td>NaN</td>\n      <td>NaN</td>\n      <td>Barna</td>\n    </tr>\n    <tr>\n      <th>4</th>\n      <td>90050238</td>\n      <td>https://img3.idealista.com/blur/WEB_LISTING/0/...</td>\n      <td>6977 OBG</td>\n      <td>14</td>\n      <td>1</td>\n      <td>725.0</td>\n      <td>flat</td>\n      <td>rent</td>\n      <td>65.0</td>\n      <td>True</td>\n      <td>...</td>\n      <td>False</td>\n      <td>flat</td>\n      <td>Sant Ildefons, Cornellà de Llobregat</td>\n      <td>Piso en boix</td>\n      <td>False</td>\n      <td>False</td>\n      <td>unknown</td>\n      <td>NaN</td>\n      <td>NaN</td>\n      <td>Barna</td>\n    </tr>\n  </tbody>\n</table>\n<p>5 rows × 41 columns</p>\n</div>"
     },
     "metadata": {},
     "execution_count": 37
    }
   ],
   "source": [
    "df['parkingSpace_isParkingSpaceIncludedInPrice'].fillna(False, inplace=True)\n",
    "df['detailedType_subTypology'].fillna(\"unknown\", inplace=True)\n",
    "df['thumbnail'].fillna('', inplace=True)\n",
    "df['externalReference'].fillna('', inplace=True)\n",
    "df['floor'].fillna('', inplace=True)\n",
    "df.head()"
   ]
  },
  {
   "cell_type": "code",
   "execution_count": 38,
   "metadata": {},
   "outputs": [
    {
     "output_type": "execute_result",
     "data": {
      "text/plain": "propertyCode                                  False\nthumbnail                                     False\nexternalReference                             False\nnumPhotos                                     False\nfloor                                         False\nprice                                         False\npropertyType                                  False\noperation                                     False\nsize                                          False\nexterior                                      False\nrooms                                         False\nbathrooms                                     False\naddress                                       False\nprovince                                      False\nmunicipality                                  False\ndistrict                                       True\ncountry                                       False\nneighborhood                                   True\nlatitude                                      False\nlongitude                                     False\nshowAddress                                   False\nurl                                           False\ndistance                                      False\nhasVideo                                      False\nstatus                                         True\nnewDevelopment                                False\nhasLift                                        True\npriceByArea                                   False\nhasPlan                                       False\nhas3DTour                                     False\nhas360                                        False\ntopNewDevelopment                             False\ndetailedType_typology                         False\nsuggestedTexts_subtitle                       False\nsuggestedTexts_title                          False\nparkingSpace_hasParkingSpace                  False\nparkingSpace_isParkingSpaceIncludedInPrice    False\ndetailedType_subTypology                      False\nparkingSpace_parkingSpacePrice                 True\nnewDevelopmentFinished                         True\nspain_state                                   False\ndtype: bool"
     },
     "metadata": {},
     "execution_count": 38
    }
   ],
   "source": [
    "df.isna().any(0)"
   ]
  },
  {
   "cell_type": "code",
   "execution_count": 39,
   "metadata": {},
   "outputs": [
    {
     "output_type": "execute_result",
     "data": {
      "text/plain": "(0, 41)"
     },
     "metadata": {},
     "execution_count": 39
    }
   ],
   "source": [
    "df[df.floor.isna() & (df.propertyType =='flat')].shape"
   ]
  }
 ],
 "metadata": {
  "kernelspec": {
   "display_name": "Python 3",
   "language": "python",
   "name": "python3"
  },
  "language_info": {
   "codemirror_mode": {
    "name": "ipython",
    "version": 3
   },
   "file_extension": ".py",
   "mimetype": "text/x-python",
   "name": "python",
   "nbconvert_exporter": "python",
   "pygments_lexer": "ipython3",
   "version": "3.7.6-final"
  }
 },
 "nbformat": 4,
 "nbformat_minor": 2
}