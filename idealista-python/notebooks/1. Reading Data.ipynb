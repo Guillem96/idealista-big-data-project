{
 "cells": [
  {
   "cell_type": "markdown",
   "metadata": {},
   "source": [
    "# Reading Rent Flats\n",
    "\n",
    "This dataset is composed of multiple files where each file corresponds a set of flats of each capital in Spain. For instance, we have the rent flats in Lleida provided by Idealista and we can know different features how price, the location, etc.\n",
    "\n",
    "Also, the dataset files have one format (json) because the information provided by Idealista is returned in json format."
   ]
  },
  {
   "cell_type": "code",
   "execution_count": 1,
   "metadata": {},
   "outputs": [],
   "source": [
    "import json\n",
    "from pathlib import Path\n",
    "\n",
    "import pandas as pd"
   ]
  },
  {
   "cell_type": "markdown",
   "metadata": {},
   "source": [
    "## Reading JSON files\n",
    "\n",
    "The files in this dataset are not *pure* JSON, they are `JSON files text format` \\[1\\]. Also known as newline-delimited JSON. JSON Lines is a convenient format for storing structured data that may be processed one record at a time (which seems pretty handy for flats data).\n",
    "\n",
    "The data will be readed from data/raw directory.\n",
    "\n"
   ]
  },
  {
   "cell_type": "code",
   "execution_count": 15,
   "metadata": {},
   "outputs": [],
   "source": [
    "DATA_PATH = Path('../data/raw')"
   ]
  },
  {
   "cell_type": "markdown",
   "metadata": {},
   "source": [
    "Once we determined the path, now we are going to load the JSON file. For example, the rent flats of Lleida."
   ]
  },
  {
   "cell_type": "code",
   "execution_count": 18,
   "metadata": {
    "tags": [
     "outputPrepend"
    ]
   },
   "outputs": [
    {
     "output_type": "stream",
     "name": "stdout",
     "text": "[{'propertyCode': '86254994', 'thumbnail': 'https://img3.idealista.com/blur/WEB_LISTING/0/id.pro.es.image.master/18/ef/f8/782172025.jpg', 'externalReference': '1587', 'numPhotos': 10, 'price': 550.0, 'propertyType': 'flat', 'operation': 'rent', 'size': 105.0, 'exterior': True, 'rooms': 3, 'bathrooms': 2, 'address': 'Avenida de Rosa Parks', 'province': 'Lleida', 'municipality': 'Lleida', 'district': 'Balafia', 'country': 'es', 'latitude': 41.6281639, 'longitude': 0.6294471, 'showAddress': False, 'url': 'https://www.idealista.com/inmueble/86254994/', 'distance': '2495', 'hasVideo': False, 'newDevelopment': False, 'hasLift': True, 'priceByArea': 5.0, 'detailedType': {'typology': 'flat'}, 'suggestedTexts': {'subtitle': 'Balafia, Lleida', 'title': 'Piso en Avenida de Rosa Parks'}, 'hasPlan': False, 'has3DTour': False, 'has360': False, 'topNewDevelopment': False}]\n"
    }
   ],
   "source": [
    "lleida_flats = DATA_PATH / 'Lleida_rent.json'\n",
    "\n",
    "with open(lleida_flats) as f:\n",
    "    data = json.load(f)\n",
    "\n",
    "print(data[:1])"
   ]
  },
  {
   "cell_type": "markdown",
   "metadata": {},
   "source": [
    "Now, we are going to load them as a `pandas.DataFrame`."
   ]
  },
  {
   "cell_type": "code",
   "execution_count": 19,
   "metadata": {},
   "outputs": [
    {
     "output_type": "execute_result",
     "data": {
      "text/plain": "  propertyCode                                          thumbnail  \\\n0     86254994  https://img3.idealista.com/blur/WEB_LISTING/0/...   \n1     90045751  https://img3.idealista.com/blur/WEB_LISTING/0/...   \n2     89446908  https://img3.idealista.com/blur/WEB_LISTING/0/...   \n3     90027477  https://img3.idealista.com/blur/WEB_LISTING/0/...   \n4     90009506  https://img3.idealista.com/blur/WEB_LISTING/0/...   \n\n             externalReference  numPhotos  price propertyType operation  \\\n0                         1587         10  550.0         flat      rent   \n1                          NaN         14  650.0         flat      rent   \n2                         1029         27  640.0         flat      rent   \n3  SRB_ALTA_SRB_ALTAMIRA_24749         11  550.0         flat      rent   \n4                        14400          7  700.0         flat      rent   \n\n    size  exterior  rooms  ...  priceByArea          detailedType  \\\n0  105.0      True      3  ...          5.0  {'typology': 'flat'}   \n1   95.0      True      4  ...          7.0  {'typology': 'flat'}   \n2   96.0      True      3  ...          7.0  {'typology': 'flat'}   \n3  109.0     False      3  ...          5.0  {'typology': 'flat'}   \n4   99.0      True      4  ...          7.0  {'typology': 'flat'}   \n\n                                      suggestedTexts hasPlan has3DTour has360  \\\n0  {'subtitle': 'Balafia, Lleida', 'title': 'Piso...   False     False  False   \n1  {'subtitle': 'Universitat, Lleida', 'title': '...   False     False  False   \n2  {'subtitle': 'Cappont, Lleida', 'title': 'Piso...   False     False  False   \n3  {'subtitle': 'Princep de Viana-Clot, Lleida', ...   False     False  False   \n4  {'subtitle': 'Centre Històric, Lleida', 'title...   False     False  False   \n\n   topNewDevelopment  floor  status  \\\n0              False    NaN     NaN   \n1              False      7    good   \n2              False      1    good   \n3              False    NaN     NaN   \n4              False      1    good   \n\n                                        parkingSpace  \n0                                                NaN  \n1  {'hasParkingSpace': True, 'isParkingSpaceInclu...  \n2                                                NaN  \n3                                                NaN  \n4                                                NaN  \n\n[5 rows x 34 columns]",
      "text/html": "<div>\n<style scoped>\n    .dataframe tbody tr th:only-of-type {\n        vertical-align: middle;\n    }\n\n    .dataframe tbody tr th {\n        vertical-align: top;\n    }\n\n    .dataframe thead th {\n        text-align: right;\n    }\n</style>\n<table border=\"1\" class=\"dataframe\">\n  <thead>\n    <tr style=\"text-align: right;\">\n      <th></th>\n      <th>propertyCode</th>\n      <th>thumbnail</th>\n      <th>externalReference</th>\n      <th>numPhotos</th>\n      <th>price</th>\n      <th>propertyType</th>\n      <th>operation</th>\n      <th>size</th>\n      <th>exterior</th>\n      <th>rooms</th>\n      <th>...</th>\n      <th>priceByArea</th>\n      <th>detailedType</th>\n      <th>suggestedTexts</th>\n      <th>hasPlan</th>\n      <th>has3DTour</th>\n      <th>has360</th>\n      <th>topNewDevelopment</th>\n      <th>floor</th>\n      <th>status</th>\n      <th>parkingSpace</th>\n    </tr>\n  </thead>\n  <tbody>\n    <tr>\n      <th>0</th>\n      <td>86254994</td>\n      <td>https://img3.idealista.com/blur/WEB_LISTING/0/...</td>\n      <td>1587</td>\n      <td>10</td>\n      <td>550.0</td>\n      <td>flat</td>\n      <td>rent</td>\n      <td>105.0</td>\n      <td>True</td>\n      <td>3</td>\n      <td>...</td>\n      <td>5.0</td>\n      <td>{'typology': 'flat'}</td>\n      <td>{'subtitle': 'Balafia, Lleida', 'title': 'Piso...</td>\n      <td>False</td>\n      <td>False</td>\n      <td>False</td>\n      <td>False</td>\n      <td>NaN</td>\n      <td>NaN</td>\n      <td>NaN</td>\n    </tr>\n    <tr>\n      <th>1</th>\n      <td>90045751</td>\n      <td>https://img3.idealista.com/blur/WEB_LISTING/0/...</td>\n      <td>NaN</td>\n      <td>14</td>\n      <td>650.0</td>\n      <td>flat</td>\n      <td>rent</td>\n      <td>95.0</td>\n      <td>True</td>\n      <td>4</td>\n      <td>...</td>\n      <td>7.0</td>\n      <td>{'typology': 'flat'}</td>\n      <td>{'subtitle': 'Universitat, Lleida', 'title': '...</td>\n      <td>False</td>\n      <td>False</td>\n      <td>False</td>\n      <td>False</td>\n      <td>7</td>\n      <td>good</td>\n      <td>{'hasParkingSpace': True, 'isParkingSpaceInclu...</td>\n    </tr>\n    <tr>\n      <th>2</th>\n      <td>89446908</td>\n      <td>https://img3.idealista.com/blur/WEB_LISTING/0/...</td>\n      <td>1029</td>\n      <td>27</td>\n      <td>640.0</td>\n      <td>flat</td>\n      <td>rent</td>\n      <td>96.0</td>\n      <td>True</td>\n      <td>3</td>\n      <td>...</td>\n      <td>7.0</td>\n      <td>{'typology': 'flat'}</td>\n      <td>{'subtitle': 'Cappont, Lleida', 'title': 'Piso...</td>\n      <td>False</td>\n      <td>False</td>\n      <td>False</td>\n      <td>False</td>\n      <td>1</td>\n      <td>good</td>\n      <td>NaN</td>\n    </tr>\n    <tr>\n      <th>3</th>\n      <td>90027477</td>\n      <td>https://img3.idealista.com/blur/WEB_LISTING/0/...</td>\n      <td>SRB_ALTA_SRB_ALTAMIRA_24749</td>\n      <td>11</td>\n      <td>550.0</td>\n      <td>flat</td>\n      <td>rent</td>\n      <td>109.0</td>\n      <td>False</td>\n      <td>3</td>\n      <td>...</td>\n      <td>5.0</td>\n      <td>{'typology': 'flat'}</td>\n      <td>{'subtitle': 'Princep de Viana-Clot, Lleida', ...</td>\n      <td>False</td>\n      <td>False</td>\n      <td>False</td>\n      <td>False</td>\n      <td>NaN</td>\n      <td>NaN</td>\n      <td>NaN</td>\n    </tr>\n    <tr>\n      <th>4</th>\n      <td>90009506</td>\n      <td>https://img3.idealista.com/blur/WEB_LISTING/0/...</td>\n      <td>14400</td>\n      <td>7</td>\n      <td>700.0</td>\n      <td>flat</td>\n      <td>rent</td>\n      <td>99.0</td>\n      <td>True</td>\n      <td>4</td>\n      <td>...</td>\n      <td>7.0</td>\n      <td>{'typology': 'flat'}</td>\n      <td>{'subtitle': 'Centre Històric, Lleida', 'title...</td>\n      <td>False</td>\n      <td>False</td>\n      <td>False</td>\n      <td>False</td>\n      <td>1</td>\n      <td>good</td>\n      <td>NaN</td>\n    </tr>\n  </tbody>\n</table>\n<p>5 rows × 34 columns</p>\n</div>"
     },
     "metadata": {},
     "execution_count": 19
    }
   ],
   "source": [
    "df = pd.DataFrame(data)\n",
    "df.head()"
   ]
  },
  {
   "cell_type": "markdown",
   "metadata": {},
   "source": [
    "We can merge all the content from different cities in spain into a same DataFrame."
   ]
  },
  {
   "cell_type": "code",
   "execution_count": 26,
   "metadata": {},
   "outputs": [
    {
     "output_type": "execute_result",
     "data": {
      "text/plain": "{1: '../data/raw/Barna_rent.json',\n 2: '../data/raw/Girona_rent.json',\n 3: '../data/raw/Lleida_rent.json',\n 4: '../data/raw/Valencia_rent.json',\n 5: '../data/raw/Madrid_rent.json',\n 6: '../data/raw/Mallorca_rent.json',\n 7: '../data/raw/Zaragoza_rent.json',\n 8: '../data/raw/Malaga_rent.json',\n 9: '../data/raw/Tarragona_rent.json'}"
     },
     "metadata": {},
     "execution_count": 26
    }
   ],
   "source": [
    "import glob\n",
    "\n",
    "file_list = glob.glob('../data/raw/*.json')\n",
    "\n",
    "allFilesDict = {v:k for v, k in enumerate(file_list, 1)}\n",
    "\n",
    "allFilesDict"
   ]
  },
  {
   "cell_type": "code",
   "execution_count": 28,
   "metadata": {
    "tags": [
     "outputPrepend"
    ]
   },
   "outputs": [
    {
     "output_type": "execute_result",
     "data": {
      "text/plain": "                                                0     \\\n0  {'propertyCode': '88707408', 'thumbnail': 'htt...   \n1  {'propertyCode': '90047939', 'thumbnail': 'htt...   \n2  {'propertyCode': '86254994', 'thumbnail': 'htt...   \n3  {'propertyCode': '90050626', 'thumbnail': 'htt...   \n4  {'propertyCode': '90050942', 'thumbnail': 'htt...   \n\n                                                1     \\\n0  {'propertyCode': '90050445', 'thumbnail': 'htt...   \n1  {'propertyCode': '90045373', 'thumbnail': 'htt...   \n2  {'propertyCode': '90045751', 'thumbnail': 'htt...   \n3  {'propertyCode': '26385635', 'thumbnail': 'htt...   \n4  {'propertyCode': '1196489', 'thumbnail': 'http...   \n\n                                                2     \\\n0  {'propertyCode': '89790054', 'thumbnail': 'htt...   \n1  {'propertyCode': '90043757', 'thumbnail': 'htt...   \n2  {'propertyCode': '89446908', 'thumbnail': 'htt...   \n3  {'propertyCode': '90050455', 'thumbnail': 'htt...   \n4  {'propertyCode': '88852928', 'thumbnail': 'htt...   \n\n                                                3     \\\n0  {'propertyCode': '89813394', 'thumbnail': 'htt...   \n1  {'propertyCode': '38453848', 'thumbnail': 'htt...   \n2  {'propertyCode': '90027477', 'thumbnail': 'htt...   \n3  {'propertyCode': '86825567', 'thumbnail': 'htt...   \n4  {'propertyCode': '85712217', 'thumbnail': 'htt...   \n\n                                                4     \\\n0  {'propertyCode': '90050238', 'thumbnail': 'htt...   \n1  {'propertyCode': '86398762', 'thumbnail': 'htt...   \n2  {'propertyCode': '90009506', 'thumbnail': 'htt...   \n3  {'propertyCode': '90050143', 'thumbnail': 'htt...   \n4  {'propertyCode': '37964690', 'thumbnail': 'htt...   \n\n                                                5     \\\n0  {'propertyCode': '90050078', 'thumbnail': 'htt...   \n1  {'propertyCode': '89812878', 'thumbnail': 'htt...   \n2  {'propertyCode': '90003319', 'thumbnail': 'htt...   \n3  {'propertyCode': '81941300', 'thumbnail': 'htt...   \n4  {'propertyCode': '88333780', 'thumbnail': 'htt...   \n\n                                                6     \\\n0  {'propertyCode': '39196118', 'thumbnail': 'htt...   \n1  {'propertyCode': '90036228', 'thumbnail': 'htt...   \n2  {'propertyCode': '88121348', 'thumbnail': 'htt...   \n3  {'propertyCode': '90050102', 'thumbnail': 'htt...   \n4  {'propertyCode': '30076038', 'thumbnail': 'htt...   \n\n                                                7     \\\n0  {'propertyCode': '81451487', 'thumbnail': 'htt...   \n1  {'propertyCode': '90036014', 'thumbnail': 'htt...   \n2  {'propertyCode': '89912836', 'thumbnail': 'htt...   \n3  {'propertyCode': '90049883', 'thumbnail': 'htt...   \n4  {'propertyCode': '29827272', 'thumbnail': 'htt...   \n\n                                                8     \\\n0  {'propertyCode': '90049959', 'thumbnail': 'htt...   \n1  {'propertyCode': '27300814', 'thumbnail': 'htt...   \n2  {'propertyCode': '89976558', 'thumbnail': 'htt...   \n3  {'propertyCode': '90049882', 'thumbnail': 'htt...   \n4  {'propertyCode': '82439014', 'thumbnail': 'htt...   \n\n                                                9     ...  \\\n0  {'propertyCode': '89209350', 'thumbnail': 'htt...  ...   \n1  {'propertyCode': '90019463', 'thumbnail': 'htt...  ...   \n2  {'propertyCode': '89944817', 'thumbnail': 'htt...  ...   \n3  {'propertyCode': '84752845', 'thumbnail': 'htt...  ...   \n4  {'propertyCode': '28725706', 'thumbnail': 'htt...  ...   \n\n                                                2490  \\\n0  {'propertyCode': '88129920', 'thumbnail': 'htt...   \n1                                               None   \n2                                               None   \n3                                               None   \n4                                               None   \n\n                                                2491  \\\n0  {'propertyCode': '39458483', 'thumbnail': 'htt...   \n1                                               None   \n2                                               None   \n3                                               None   \n4                                               None   \n\n                                                2492  \\\n0  {'propertyCode': '87958150', 'thumbnail': 'htt...   \n1                                               None   \n2                                               None   \n3                                               None   \n4                                               None   \n\n                                                2493  \\\n0  {'propertyCode': '87957563', 'thumbnail': 'htt...   \n1                                               None   \n2                                               None   \n3                                               None   \n4                                               None   \n\n                                                2494  \\\n0  {'propertyCode': '87755061', 'thumbnail': 'htt...   \n1                                               None   \n2                                               None   \n3                                               None   \n4                                               None   \n\n                                                2495  \\\n0  {'propertyCode': '87754964', 'thumbnail': 'htt...   \n1                                               None   \n2                                               None   \n3                                               None   \n4                                               None   \n\n                                                2496  \\\n0  {'propertyCode': '87733061', 'thumbnail': 'htt...   \n1                                               None   \n2                                               None   \n3                                               None   \n4                                               None   \n\n                                                2497  \\\n0  {'propertyCode': '87462782', 'thumbnail': 'htt...   \n1                                               None   \n2                                               None   \n3                                               None   \n4                                               None   \n\n                                                2498  \\\n0  {'propertyCode': '87303659', 'thumbnail': 'htt...   \n1                                               None   \n2                                               None   \n3                                               None   \n4                                               None   \n\n                                                2499  \n0  {'propertyCode': '86979694', 'thumbnail': 'htt...  \n1                                               None  \n2                                               None  \n3                                               None  \n4                                               None  \n\n[5 rows x 2500 columns]",
      "text/html": "<div>\n<style scoped>\n    .dataframe tbody tr th:only-of-type {\n        vertical-align: middle;\n    }\n\n    .dataframe tbody tr th {\n        vertical-align: top;\n    }\n\n    .dataframe thead th {\n        text-align: right;\n    }\n</style>\n<table border=\"1\" class=\"dataframe\">\n  <thead>\n    <tr style=\"text-align: right;\">\n      <th></th>\n      <th>0</th>\n      <th>1</th>\n      <th>2</th>\n      <th>3</th>\n      <th>4</th>\n      <th>5</th>\n      <th>6</th>\n      <th>7</th>\n      <th>8</th>\n      <th>9</th>\n      <th>...</th>\n      <th>2490</th>\n      <th>2491</th>\n      <th>2492</th>\n      <th>2493</th>\n      <th>2494</th>\n      <th>2495</th>\n      <th>2496</th>\n      <th>2497</th>\n      <th>2498</th>\n      <th>2499</th>\n    </tr>\n  </thead>\n  <tbody>\n    <tr>\n      <th>0</th>\n      <td>{'propertyCode': '88707408', 'thumbnail': 'htt...</td>\n      <td>{'propertyCode': '90050445', 'thumbnail': 'htt...</td>\n      <td>{'propertyCode': '89790054', 'thumbnail': 'htt...</td>\n      <td>{'propertyCode': '89813394', 'thumbnail': 'htt...</td>\n      <td>{'propertyCode': '90050238', 'thumbnail': 'htt...</td>\n      <td>{'propertyCode': '90050078', 'thumbnail': 'htt...</td>\n      <td>{'propertyCode': '39196118', 'thumbnail': 'htt...</td>\n      <td>{'propertyCode': '81451487', 'thumbnail': 'htt...</td>\n      <td>{'propertyCode': '90049959', 'thumbnail': 'htt...</td>\n      <td>{'propertyCode': '89209350', 'thumbnail': 'htt...</td>\n      <td>...</td>\n      <td>{'propertyCode': '88129920', 'thumbnail': 'htt...</td>\n      <td>{'propertyCode': '39458483', 'thumbnail': 'htt...</td>\n      <td>{'propertyCode': '87958150', 'thumbnail': 'htt...</td>\n      <td>{'propertyCode': '87957563', 'thumbnail': 'htt...</td>\n      <td>{'propertyCode': '87755061', 'thumbnail': 'htt...</td>\n      <td>{'propertyCode': '87754964', 'thumbnail': 'htt...</td>\n      <td>{'propertyCode': '87733061', 'thumbnail': 'htt...</td>\n      <td>{'propertyCode': '87462782', 'thumbnail': 'htt...</td>\n      <td>{'propertyCode': '87303659', 'thumbnail': 'htt...</td>\n      <td>{'propertyCode': '86979694', 'thumbnail': 'htt...</td>\n    </tr>\n    <tr>\n      <th>1</th>\n      <td>{'propertyCode': '90047939', 'thumbnail': 'htt...</td>\n      <td>{'propertyCode': '90045373', 'thumbnail': 'htt...</td>\n      <td>{'propertyCode': '90043757', 'thumbnail': 'htt...</td>\n      <td>{'propertyCode': '38453848', 'thumbnail': 'htt...</td>\n      <td>{'propertyCode': '86398762', 'thumbnail': 'htt...</td>\n      <td>{'propertyCode': '89812878', 'thumbnail': 'htt...</td>\n      <td>{'propertyCode': '90036228', 'thumbnail': 'htt...</td>\n      <td>{'propertyCode': '90036014', 'thumbnail': 'htt...</td>\n      <td>{'propertyCode': '27300814', 'thumbnail': 'htt...</td>\n      <td>{'propertyCode': '90019463', 'thumbnail': 'htt...</td>\n      <td>...</td>\n      <td>None</td>\n      <td>None</td>\n      <td>None</td>\n      <td>None</td>\n      <td>None</td>\n      <td>None</td>\n      <td>None</td>\n      <td>None</td>\n      <td>None</td>\n      <td>None</td>\n    </tr>\n    <tr>\n      <th>2</th>\n      <td>{'propertyCode': '86254994', 'thumbnail': 'htt...</td>\n      <td>{'propertyCode': '90045751', 'thumbnail': 'htt...</td>\n      <td>{'propertyCode': '89446908', 'thumbnail': 'htt...</td>\n      <td>{'propertyCode': '90027477', 'thumbnail': 'htt...</td>\n      <td>{'propertyCode': '90009506', 'thumbnail': 'htt...</td>\n      <td>{'propertyCode': '90003319', 'thumbnail': 'htt...</td>\n      <td>{'propertyCode': '88121348', 'thumbnail': 'htt...</td>\n      <td>{'propertyCode': '89912836', 'thumbnail': 'htt...</td>\n      <td>{'propertyCode': '89976558', 'thumbnail': 'htt...</td>\n      <td>{'propertyCode': '89944817', 'thumbnail': 'htt...</td>\n      <td>...</td>\n      <td>None</td>\n      <td>None</td>\n      <td>None</td>\n      <td>None</td>\n      <td>None</td>\n      <td>None</td>\n      <td>None</td>\n      <td>None</td>\n      <td>None</td>\n      <td>None</td>\n    </tr>\n    <tr>\n      <th>3</th>\n      <td>{'propertyCode': '90050626', 'thumbnail': 'htt...</td>\n      <td>{'propertyCode': '26385635', 'thumbnail': 'htt...</td>\n      <td>{'propertyCode': '90050455', 'thumbnail': 'htt...</td>\n      <td>{'propertyCode': '86825567', 'thumbnail': 'htt...</td>\n      <td>{'propertyCode': '90050143', 'thumbnail': 'htt...</td>\n      <td>{'propertyCode': '81941300', 'thumbnail': 'htt...</td>\n      <td>{'propertyCode': '90050102', 'thumbnail': 'htt...</td>\n      <td>{'propertyCode': '90049883', 'thumbnail': 'htt...</td>\n      <td>{'propertyCode': '90049882', 'thumbnail': 'htt...</td>\n      <td>{'propertyCode': '84752845', 'thumbnail': 'htt...</td>\n      <td>...</td>\n      <td>None</td>\n      <td>None</td>\n      <td>None</td>\n      <td>None</td>\n      <td>None</td>\n      <td>None</td>\n      <td>None</td>\n      <td>None</td>\n      <td>None</td>\n      <td>None</td>\n    </tr>\n    <tr>\n      <th>4</th>\n      <td>{'propertyCode': '90050942', 'thumbnail': 'htt...</td>\n      <td>{'propertyCode': '1196489', 'thumbnail': 'http...</td>\n      <td>{'propertyCode': '88852928', 'thumbnail': 'htt...</td>\n      <td>{'propertyCode': '85712217', 'thumbnail': 'htt...</td>\n      <td>{'propertyCode': '37964690', 'thumbnail': 'htt...</td>\n      <td>{'propertyCode': '88333780', 'thumbnail': 'htt...</td>\n      <td>{'propertyCode': '30076038', 'thumbnail': 'htt...</td>\n      <td>{'propertyCode': '29827272', 'thumbnail': 'htt...</td>\n      <td>{'propertyCode': '82439014', 'thumbnail': 'htt...</td>\n      <td>{'propertyCode': '28725706', 'thumbnail': 'htt...</td>\n      <td>...</td>\n      <td>None</td>\n      <td>None</td>\n      <td>None</td>\n      <td>None</td>\n      <td>None</td>\n      <td>None</td>\n      <td>None</td>\n      <td>None</td>\n      <td>None</td>\n      <td>None</td>\n    </tr>\n  </tbody>\n</table>\n<p>5 rows × 2500 columns</p>\n</div>"
     },
     "metadata": {},
     "execution_count": 28
    }
   ],
   "source": [
    "data = []\n",
    "\n",
    "for k,v in allFilesDict.items():\n",
    "    with open(v, 'r') as d:\n",
    "        jdata = json.load(d)\n",
    "        if jdata:\n",
    "            data.append(jdata)\n",
    "\n",
    "df = pd.DataFrame(data)\n",
    "df.head()"
   ]
  },
  {
   "cell_type": "code",
   "execution_count": null,
   "metadata": {},
   "outputs": [],
   "source": []
  }
 ],
 "metadata": {
  "language_info": {
   "codemirror_mode": {
    "name": "ipython",
    "version": 3
   },
   "file_extension": ".py",
   "mimetype": "text/x-python",
   "name": "python",
   "nbconvert_exporter": "python",
   "pygments_lexer": "ipython3",
   "version": "3.7.4-final"
  },
  "orig_nbformat": 2,
  "kernelspec": {
   "name": "python3",
   "display_name": "Python 3"
  }
 },
 "nbformat": 4,
 "nbformat_minor": 2
}